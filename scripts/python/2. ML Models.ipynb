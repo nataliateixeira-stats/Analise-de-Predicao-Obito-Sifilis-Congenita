{
  "cells": [
    {
      "cell_type": "markdown",
      "metadata": {
        "id": "Adrj0xv0j8uO"
      },
      "source": [
        "# Packages"
      ]
    },
    {
      "cell_type": "code",
      "execution_count": 131,
      "metadata": {
        "id": "2lXBxd9shpcL"
      },
      "outputs": [],
      "source": [
        "from sklearn.ensemble import RandomForestClassifier\n",
        "from catboost import CatBoostClassifier\n",
        "from sklearn.metrics import classification_report, accuracy_score\n",
        "from sklearn.model_selection import train_test_split\n",
        "from sklearn.utils import resample\n",
        "from sklearn.preprocessing import LabelEncoder\n",
        "from sklearn.preprocessing import OneHotEncoder\n",
        "from imblearn.under_sampling import RandomUnderSampler\n",
        "import pandas as pd"
      ]
    },
    {
      "cell_type": "markdown",
      "metadata": {
        "id": "VLvSIrWhkFUe"
      },
      "source": [
        "# Data"
      ]
    },
    {
      "cell_type": "code",
      "execution_count": 132,
      "metadata": {
        "colab": {
          "base_uri": "https://localhost:8080/"
        },
        "id": "AwfwCRhYnpX3",
        "outputId": "32d1b6c1-b706-40f7-8fd1-d23ce066e480"
      },
      "outputs": [
        {
          "name": "stderr",
          "output_type": "stream",
          "text": [
            "C:\\Users\\natal\\AppData\\Local\\Temp\\ipykernel_43392\\2270981868.py:1: DtypeWarning: Columns (14,19,36,42) have mixed types. Specify dtype option on import or set low_memory=False.\n",
            "  data_cleaned = pd.read_csv(r'C:\\Users\\natal\\Github\\Death-Prediction-Analysis-Congenital-Syphilis\\data\\clean_data.csv', encoding='latin1')\n"
          ]
        }
      ],
      "source": [
        "data_cleaned = pd.read_csv(r'C:\\Users\\natal\\Github\\Death-Prediction-Analysis-Congenital-Syphilis\\data\\clean_data.csv', encoding='latin1')"
      ]
    },
    {
      "cell_type": "code",
      "execution_count": 133,
      "metadata": {
        "colab": {
          "base_uri": "https://localhost:8080/",
          "height": 360
        },
        "id": "HAj4cZo3nu9F",
        "outputId": "3b5a8219-7d00-4ee0-907e-d05013bc3c7b"
      },
      "outputs": [
        {
          "data": {
            "text/html": [
              "<div>\n",
              "<style scoped>\n",
              "    .dataframe tbody tr th:only-of-type {\n",
              "        vertical-align: middle;\n",
              "    }\n",
              "\n",
              "    .dataframe tbody tr th {\n",
              "        vertical-align: top;\n",
              "    }\n",
              "\n",
              "    .dataframe thead th {\n",
              "        text-align: right;\n",
              "    }\n",
              "</style>\n",
              "<table border=\"1\" class=\"dataframe\">\n",
              "  <thead>\n",
              "    <tr style=\"text-align: right;\">\n",
              "      <th></th>\n",
              "      <th>Unnamed: 0</th>\n",
              "      <th>tp_not</th>\n",
              "      <th>sem_not</th>\n",
              "      <th>id_agravo</th>\n",
              "      <th>dt_notific</th>\n",
              "      <th>nu_ano</th>\n",
              "      <th>sg_uf_not</th>\n",
              "      <th>id_municip</th>\n",
              "      <th>id_regiona</th>\n",
              "      <th>dt_diag</th>\n",
              "      <th>...</th>\n",
              "      <th>cli_icteri</th>\n",
              "      <th>cli_rinite</th>\n",
              "      <th>cli_anemia</th>\n",
              "      <th>cli_esplen</th>\n",
              "      <th>hepato</th>\n",
              "      <th>cli_osteo</th>\n",
              "      <th>lesoes</th>\n",
              "      <th>cli_outro</th>\n",
              "      <th>sin_outr_e</th>\n",
              "      <th>cli_pseudo</th>\n",
              "    </tr>\n",
              "  </thead>\n",
              "  <tbody>\n",
              "    <tr>\n",
              "      <th>0</th>\n",
              "      <td>1</td>\n",
              "      <td>2</td>\n",
              "      <td>201334.0</td>\n",
              "      <td>A509</td>\n",
              "      <td>2013-08-22</td>\n",
              "      <td>2013</td>\n",
              "      <td>42</td>\n",
              "      <td>420395</td>\n",
              "      <td>1555.0</td>\n",
              "      <td>2007-12-01</td>\n",
              "      <td>...</td>\n",
              "      <td>2.0</td>\n",
              "      <td>2.0</td>\n",
              "      <td>2.0</td>\n",
              "      <td>2.0</td>\n",
              "      <td>2.0</td>\n",
              "      <td>2.0</td>\n",
              "      <td>2.0</td>\n",
              "      <td>1.0</td>\n",
              "      <td>ENCEFALOPATIA</td>\n",
              "      <td>2.0</td>\n",
              "    </tr>\n",
              "    <tr>\n",
              "      <th>1</th>\n",
              "      <td>2</td>\n",
              "      <td>2</td>\n",
              "      <td>1307.0</td>\n",
              "      <td>A509</td>\n",
              "      <td>2013-02-15</td>\n",
              "      <td>2013</td>\n",
              "      <td>33</td>\n",
              "      <td>330510</td>\n",
              "      <td>NaN</td>\n",
              "      <td>2008-10-31</td>\n",
              "      <td>...</td>\n",
              "      <td>2.0</td>\n",
              "      <td>2.0</td>\n",
              "      <td>2.0</td>\n",
              "      <td>2.0</td>\n",
              "      <td>2.0</td>\n",
              "      <td>2.0</td>\n",
              "      <td>2.0</td>\n",
              "      <td>2.0</td>\n",
              "      <td>NaN</td>\n",
              "      <td>2.0</td>\n",
              "    </tr>\n",
              "    <tr>\n",
              "      <th>2</th>\n",
              "      <td>3</td>\n",
              "      <td>2</td>\n",
              "      <td>201326.0</td>\n",
              "      <td>A509</td>\n",
              "      <td>2013-06-24</td>\n",
              "      <td>2013</td>\n",
              "      <td>33</td>\n",
              "      <td>330350</td>\n",
              "      <td>NaN</td>\n",
              "      <td>2009-04-21</td>\n",
              "      <td>...</td>\n",
              "      <td>1.0</td>\n",
              "      <td>2.0</td>\n",
              "      <td>2.0</td>\n",
              "      <td>2.0</td>\n",
              "      <td>2.0</td>\n",
              "      <td>2.0</td>\n",
              "      <td>2.0</td>\n",
              "      <td>2.0</td>\n",
              "      <td>NaN</td>\n",
              "      <td>2.0</td>\n",
              "    </tr>\n",
              "    <tr>\n",
              "      <th>3</th>\n",
              "      <td>4</td>\n",
              "      <td>2</td>\n",
              "      <td>201315.0</td>\n",
              "      <td>A509</td>\n",
              "      <td>2013-04-08</td>\n",
              "      <td>2013</td>\n",
              "      <td>24</td>\n",
              "      <td>240810</td>\n",
              "      <td>1416.0</td>\n",
              "      <td>2010-04-24</td>\n",
              "      <td>...</td>\n",
              "      <td>2.0</td>\n",
              "      <td>2.0</td>\n",
              "      <td>2.0</td>\n",
              "      <td>2.0</td>\n",
              "      <td>2.0</td>\n",
              "      <td>2.0</td>\n",
              "      <td>2.0</td>\n",
              "      <td>2.0</td>\n",
              "      <td>NaN</td>\n",
              "      <td>2.0</td>\n",
              "    </tr>\n",
              "    <tr>\n",
              "      <th>4</th>\n",
              "      <td>5</td>\n",
              "      <td>2</td>\n",
              "      <td>201323.0</td>\n",
              "      <td>A509</td>\n",
              "      <td>2013-06-06</td>\n",
              "      <td>2013</td>\n",
              "      <td>33</td>\n",
              "      <td>330350</td>\n",
              "      <td>NaN</td>\n",
              "      <td>2010-07-31</td>\n",
              "      <td>...</td>\n",
              "      <td>2.0</td>\n",
              "      <td>2.0</td>\n",
              "      <td>2.0</td>\n",
              "      <td>2.0</td>\n",
              "      <td>2.0</td>\n",
              "      <td>2.0</td>\n",
              "      <td>2.0</td>\n",
              "      <td>2.0</td>\n",
              "      <td>NaN</td>\n",
              "      <td>2.0</td>\n",
              "    </tr>\n",
              "  </tbody>\n",
              "</table>\n",
              "<p>5 rows × 65 columns</p>\n",
              "</div>"
            ],
            "text/plain": [
              "   Unnamed: 0  tp_not   sem_not id_agravo  dt_notific  nu_ano  sg_uf_not  \\\n",
              "0           1       2  201334.0      A509  2013-08-22    2013         42   \n",
              "1           2       2    1307.0      A509  2013-02-15    2013         33   \n",
              "2           3       2  201326.0      A509  2013-06-24    2013         33   \n",
              "3           4       2  201315.0      A509  2013-04-08    2013         24   \n",
              "4           5       2  201323.0      A509  2013-06-06    2013         33   \n",
              "\n",
              "   id_municip  id_regiona     dt_diag  ...  cli_icteri  cli_rinite cli_anemia  \\\n",
              "0      420395      1555.0  2007-12-01  ...         2.0         2.0        2.0   \n",
              "1      330510         NaN  2008-10-31  ...         2.0         2.0        2.0   \n",
              "2      330350         NaN  2009-04-21  ...         1.0         2.0        2.0   \n",
              "3      240810      1416.0  2010-04-24  ...         2.0         2.0        2.0   \n",
              "4      330350         NaN  2010-07-31  ...         2.0         2.0        2.0   \n",
              "\n",
              "   cli_esplen hepato  cli_osteo  lesoes  cli_outro     sin_outr_e cli_pseudo  \n",
              "0         2.0    2.0        2.0     2.0        1.0  ENCEFALOPATIA        2.0  \n",
              "1         2.0    2.0        2.0     2.0        2.0            NaN        2.0  \n",
              "2         2.0    2.0        2.0     2.0        2.0            NaN        2.0  \n",
              "3         2.0    2.0        2.0     2.0        2.0            NaN        2.0  \n",
              "4         2.0    2.0        2.0     2.0        2.0            NaN        2.0  \n",
              "\n",
              "[5 rows x 65 columns]"
            ]
          },
          "execution_count": 133,
          "metadata": {},
          "output_type": "execute_result"
        }
      ],
      "source": [
        "data_cleaned.head()"
      ]
    },
    {
      "cell_type": "code",
      "execution_count": 134,
      "metadata": {
        "colab": {
          "base_uri": "https://localhost:8080/"
        },
        "id": "U2LcjciYn32L",
        "outputId": "8547cc30-cd0e-4a59-af2e-89364139657e"
      },
      "outputs": [
        {
          "data": {
            "text/plain": [
              "(251659, 65)"
            ]
          },
          "execution_count": 134,
          "metadata": {},
          "output_type": "execute_result"
        }
      ],
      "source": [
        "data_cleaned.shape"
      ]
    },
    {
      "cell_type": "code",
      "execution_count": 135,
      "metadata": {
        "id": "qYPA4BAOjg-D"
      },
      "outputs": [],
      "source": [
        "data_cleaned.columns = data_cleaned.columns.str.upper()"
      ]
    },
    {
      "cell_type": "code",
      "execution_count": 136,
      "metadata": {
        "id": "5TLfZM-zjg9h"
      },
      "outputs": [],
      "source": [
        "# Create outcome columns (death from congenital syphilis) based on EVOLUCAO\n",
        "data_cleaned['OBITO_SIFILIS'] = data_cleaned['EVOLUCAO'].apply(lambda x: 1 if x == 2 else 0)\n"
      ]
    },
    {
      "cell_type": "code",
      "execution_count": 137,
      "metadata": {
        "colab": {
          "base_uri": "https://localhost:8080/"
        },
        "id": "i6fGhcrMZcE4",
        "outputId": "ccdd25b6-ef6d-458f-f8be-cd106f8a05d5"
      },
      "outputs": [
        {
          "data": {
            "text/plain": [
              "(251659, 66)"
            ]
          },
          "execution_count": 137,
          "metadata": {},
          "output_type": "execute_result"
        }
      ],
      "source": [
        "data_cleaned.shape"
      ]
    },
    {
      "cell_type": "markdown",
      "metadata": {
        "id": "oSO7yMudkKUk"
      },
      "source": [
        "# Data cleaning"
      ]
    },
    {
      "cell_type": "code",
      "execution_count": 138,
      "metadata": {
        "colab": {
          "base_uri": "https://localhost:8080/"
        },
        "id": "W2CDRA5liOFE",
        "outputId": "63d97488-ebd1-4df9-d8df-9be3cad72afb"
      },
      "outputs": [
        {
          "name": "stdout",
          "output_type": "stream",
          "text": [
            "Removed columns that begin with 'DT': ['DT_NOTIFIC', 'DT_DIAG', 'DT_OBITO']\n",
            "Remaining columns in the dataset: Index(['UNNAMED: 0', 'TP_NOT', 'SEM_NOT', 'ID_AGRAVO', 'NU_ANO', 'SG_UF_NOT',\n",
            "       'ID_MUNICIP', 'ID_REGIONA', 'SEM_DIAG', 'NU_IDADE_N', 'CS_SEXO',\n",
            "       'CS_GESTANT', 'CS_RACA', 'CS_ESCOL_N', 'SG_UF', 'ID_MN_RESI',\n",
            "       'ID_RG_RESI', 'ID_PAIS', 'ANT_IDADE', 'ANT_RACA', 'ID_OCUPA_N',\n",
            "       'ESCOLMAE', 'ANT_PRE_NA', 'UF_PRE_NAT', 'MUN_PRE_NA', 'ANTSIFIL_N',\n",
            "       'LAB_PARTO', 'LAB_TITU_2', 'LAB_DT3', 'LAB_CONF', 'TRA_ESQUEM',\n",
            "       'TRA_DT', 'ANT_TRATAD', 'ANT_UF_CRI', 'ANT_MUNI_C', 'LABC_SANGU',\n",
            "       'LABC_TIT_1', 'LABC_DT_1', 'LABC_IGG', 'LABC_DT', 'LABC_LIQUO',\n",
            "       'LABC_TIT_2', 'LABC_DT_2', 'LABC_TITUL', 'LABC_EVIDE', 'LABC_LIQ_1',\n",
            "       'TRA_DIAG_T', 'TRA_ESQU_1', 'DS_ESQUEMA', 'EVOLUCAO', 'EVO_DIAG_N',\n",
            "       'TRA_DIAG_C', 'CLI_ICTERI', 'CLI_RINITE', 'CLI_ANEMIA', 'CLI_ESPLEN',\n",
            "       'HEPATO', 'CLI_OSTEO', 'LESOES', 'CLI_OUTRO', 'SIN_OUTR_E',\n",
            "       'CLI_PSEUDO', 'OBITO_SIFILIS'],\n",
            "      dtype='object')\n"
          ]
        }
      ],
      "source": [
        "# Step 1: Remove all columns representing date\n",
        "# Identify columns that begin with 'DT'\n",
        "columns_with_dt = [col for col in data_cleaned.columns if col.startswith('DT')]\n",
        "\n",
        "data_cleaned = data_cleaned.drop(columns=columns_with_dt)\n",
        "\n",
        "print(\"Removed columns that begin with 'DT':\", columns_with_dt)\n",
        "print(\"Remaining columns in the dataset:\", data_cleaned.columns)"
      ]
    },
    {
      "cell_type": "code",
      "execution_count": 139,
      "metadata": {
        "colab": {
          "base_uri": "https://localhost:8080/"
        },
        "id": "FsKAeH99iQKq",
        "outputId": "47b550a6-d60b-4bc3-8e75-7236e2b6c9f7"
      },
      "outputs": [
        {
          "name": "stdout",
          "output_type": "stream",
          "text": [
            "Removed columns that begin with 'LAB': ['LAB_PARTO', 'LAB_TITU_2', 'LAB_DT3', 'LAB_CONF', 'LABC_SANGU', 'LABC_TIT_1', 'LABC_DT_1', 'LABC_IGG', 'LABC_DT', 'LABC_LIQUO', 'LABC_TIT_2', 'LABC_DT_2', 'LABC_TITUL', 'LABC_EVIDE', 'LABC_LIQ_1']\n",
            "Remaining columns in the dataset: Index(['UNNAMED: 0', 'TP_NOT', 'SEM_NOT', 'ID_AGRAVO', 'NU_ANO', 'SG_UF_NOT',\n",
            "       'ID_MUNICIP', 'ID_REGIONA', 'SEM_DIAG', 'NU_IDADE_N', 'CS_SEXO',\n",
            "       'CS_GESTANT', 'CS_RACA', 'CS_ESCOL_N', 'SG_UF', 'ID_MN_RESI',\n",
            "       'ID_RG_RESI', 'ID_PAIS', 'ANT_IDADE', 'ANT_RACA', 'ID_OCUPA_N',\n",
            "       'ESCOLMAE', 'ANT_PRE_NA', 'UF_PRE_NAT', 'MUN_PRE_NA', 'ANTSIFIL_N',\n",
            "       'TRA_ESQUEM', 'TRA_DT', 'ANT_TRATAD', 'ANT_UF_CRI', 'ANT_MUNI_C',\n",
            "       'TRA_DIAG_T', 'TRA_ESQU_1', 'DS_ESQUEMA', 'EVOLUCAO', 'EVO_DIAG_N',\n",
            "       'TRA_DIAG_C', 'CLI_ICTERI', 'CLI_RINITE', 'CLI_ANEMIA', 'CLI_ESPLEN',\n",
            "       'HEPATO', 'CLI_OSTEO', 'LESOES', 'CLI_OUTRO', 'SIN_OUTR_E',\n",
            "       'CLI_PSEUDO', 'OBITO_SIFILIS'],\n",
            "      dtype='object')\n"
          ]
        }
      ],
      "source": [
        "# Step 2: Remove columns representing laboratory data because they will certainly be related to the outcome\n",
        "# Identify columns that begin with 'LAB'\n",
        "columns_with_lab = [col for col in data_cleaned.columns if col.startswith('LAB')]\n",
        "\n",
        "data_cleaned = data_cleaned.drop(columns=columns_with_lab)\n",
        "\n",
        "print(\"Removed columns that begin with 'LAB':\", columns_with_lab)\n",
        "print(\"Remaining columns in the dataset:\", data_cleaned.columns)"
      ]
    },
    {
      "cell_type": "code",
      "execution_count": 140,
      "metadata": {
        "colab": {
          "base_uri": "https://localhost:8080/"
        },
        "id": "4LFE1GAIiTPa",
        "outputId": "5fd5005d-edd0-422f-edc0-33d1327bca38"
      },
      "outputs": [
        {
          "name": "stdout",
          "output_type": "stream",
          "text": [
            "Columns that start with 'ID': ['ID_AGRAVO', 'ID_MUNICIP', 'ID_REGIONA', 'ID_MN_RESI', 'ID_RG_RESI', 'ID_PAIS', 'ID_OCUPA_N']\n",
            "Columns remaining in the dataset after removing columns that start with 'ID':\n",
            "Index(['UNNAMED: 0', 'TP_NOT', 'SEM_NOT', 'NU_ANO', 'SG_UF_NOT', 'SEM_DIAG',\n",
            "       'NU_IDADE_N', 'CS_SEXO', 'CS_GESTANT', 'CS_RACA', 'CS_ESCOL_N', 'SG_UF',\n",
            "       'ANT_IDADE', 'ANT_RACA', 'ESCOLMAE', 'ANT_PRE_NA', 'UF_PRE_NAT',\n",
            "       'MUN_PRE_NA', 'ANTSIFIL_N', 'TRA_ESQUEM', 'TRA_DT', 'ANT_TRATAD',\n",
            "       'ANT_UF_CRI', 'ANT_MUNI_C', 'TRA_DIAG_T', 'TRA_ESQU_1', 'DS_ESQUEMA',\n",
            "       'EVOLUCAO', 'EVO_DIAG_N', 'TRA_DIAG_C', 'CLI_ICTERI', 'CLI_RINITE',\n",
            "       'CLI_ANEMIA', 'CLI_ESPLEN', 'HEPATO', 'CLI_OSTEO', 'LESOES',\n",
            "       'CLI_OUTRO', 'SIN_OUTR_E', 'CLI_PSEUDO', 'OBITO_SIFILIS'],\n",
            "      dtype='object')\n"
          ]
        }
      ],
      "source": [
        "# Step 3: Remove columns that start with 'ID'\n",
        "# Columns that start with \"ID\"\n",
        "\n",
        "id_columns = [col for col in data_cleaned.columns if col.startswith('ID')]\n",
        "print(\"Columns that start with 'ID':\", id_columns)\n",
        "\n",
        "data_cleaned = data_cleaned.drop(columns=id_columns)\n",
        "\n",
        "print(\"Columns remaining in the dataset after removing columns that start with 'ID':\")\n",
        "print(data_cleaned.columns)"
      ]
    },
    {
      "cell_type": "code",
      "execution_count": 141,
      "metadata": {
        "colab": {
          "base_uri": "https://localhost:8080/"
        },
        "id": "5MnkZzzZiYHh",
        "outputId": "a19e1706-493a-49ad-be0e-827b6701c4ef"
      },
      "outputs": [
        {
          "name": "stdout",
          "output_type": "stream",
          "text": [
            "Columns remaining in the dataset after removal:\n",
            "Index(['NU_IDADE_N', 'CS_GESTANT', 'CS_RACA', 'CS_ESCOL_N', 'ANT_IDADE',\n",
            "       'ANT_RACA', 'ESCOLMAE', 'ANT_PRE_NA', 'UF_PRE_NAT', 'MUN_PRE_NA',\n",
            "       'ANTSIFIL_N', 'TRA_ESQUEM', 'ANT_TRATAD', 'TRA_DIAG_T', 'TRA_ESQU_1',\n",
            "       'CLI_ICTERI', 'CLI_RINITE', 'CLI_ANEMIA', 'CLI_ESPLEN', 'HEPATO',\n",
            "       'CLI_OSTEO', 'LESOES', 'CLI_PSEUDO', 'OBITO_SIFILIS'],\n",
            "      dtype='object')\n"
          ]
        }
      ],
      "source": [
        "# Step 4: Remove columns that don't make sense to consider\n",
        "# List of columns to remove\n",
        "\n",
        "columns_to_remove = [\n",
        "'TP_NOT', 'SEM_NOT', 'NU_ANO', 'SG_UF_NOT', 'CS_SEXO', 'SG_UF',\n",
        "'ANT_UF_CRI', 'ANT_MUNI_C', 'EVOLUCAO', 'EVO_DIAG_N', 'CLI_OUTRO', 'ANO',\n",
        "'TRA_DT', 'SEM_DIAG', 'DS_ESQUEMA', 'SIN_OUTR_E', 'UNNAMED: 0', 'TRA_DIAG_C'\n",
        "]\n",
        "\n",
        "data_cleaned = data_cleaned.drop(columns=columns_to_remove, errors='ignore')\n",
        "\n",
        "print(\"Columns remaining in the dataset after removal:\")\n",
        "print(data_cleaned.columns)"
      ]
    },
    {
      "cell_type": "code",
      "execution_count": 142,
      "metadata": {
        "colab": {
          "base_uri": "https://localhost:8080/"
        },
        "id": "DsJvQBL8ibzR",
        "outputId": "eaeddd6c-d206-4233-e97a-75fe45bc48a6"
      },
      "outputs": [
        {
          "name": "stdout",
          "output_type": "stream",
          "text": [
            "Columns remaining in the dataset after removing Step 5:\n",
            "Index(['NU_IDADE_N', 'CS_GESTANT', 'CS_RACA', 'CS_ESCOL_N', 'ANT_IDADE',\n",
            "       'ANT_RACA', 'ESCOLMAE', 'ANT_PRE_NA', 'ANTSIFIL_N', 'TRA_ESQUEM',\n",
            "       'ANT_TRATAD', 'TRA_DIAG_T', 'TRA_ESQU_1', 'CLI_ICTERI', 'CLI_RINITE',\n",
            "       'CLI_ANEMIA', 'CLI_ESPLEN', 'HEPATO', 'CLI_OSTEO', 'LESOES',\n",
            "       'CLI_PSEUDO', 'OBITO_SIFILIS'],\n",
            "      dtype='object')\n"
          ]
        }
      ],
      "source": [
        "# Step 5: Remove the geographic location variables from prenatal care\n",
        "# These variables represent the municipality and state where prenatal care was provided,\n",
        "# and introduce additional complexity that does not directly contribute to the analysis of the\n",
        "# clinical factors associated with congenital syphilis. Conclusions about the impact of geographic location\n",
        "# are difficult to draw without a more in-depth analysis, so we chose\n",
        "# to remove them to focus on variables directly related to the clinical outcome.\n",
        "\n",
        "# List of columns to be removed in Step 5\n",
        "columns_to_remove_step_5 = ['MUN_PRE_NA', 'UF_PRE_NAT']\n",
        "\n",
        "data_cleaned = data_cleaned.drop(columns=columns_to_remove_step_5, errors='ignore')\n",
        "\n",
        "print(\"Columns remaining in the dataset after removing Step 5:\")\n",
        "print(data_cleaned.columns)"
      ]
    },
    {
      "cell_type": "markdown",
      "metadata": {
        "id": "aZN_lqOvkt82"
      },
      "source": [
        "# Data manipulation"
      ]
    },
    {
      "cell_type": "code",
      "execution_count": 143,
      "metadata": {
        "colab": {
          "base_uri": "https://localhost:8080/"
        },
        "id": "1Ku5i5CRinFb",
        "outputId": "0182ca79-b932-4334-fe9c-0fb8997e1205"
      },
      "outputs": [
        {
          "name": "stdout",
          "output_type": "stream",
          "text": [
            "Copy of original categorical variables: ['CS_GESTANT', 'CS_RACA', 'CS_ESCOL_N', 'ANT_RACA', 'ESCOLMAE', 'ANT_PRE_NA', 'ANTSIFIL_N', 'TRA_ESQUEM', 'ANT_TRATAD', 'TRA_DIAG_T', 'TRA_ESQU_1', 'CLI_ICTERI', 'CLI_RINITE', 'CLI_ANEMIA', 'CLI_ESPLEN', 'HEPATO', 'CLI_OSTEO', 'LESOES', 'CLI_PSEUDO']\n",
            "Copy of original numerical variables: ['NU_IDADE_N', 'ANT_IDADE']\n"
          ]
        }
      ],
      "source": [
        "# Separate categorical and numeric variables\n",
        "categorical_features = ['CS_GESTANT', 'CS_RACA', 'CS_ESCOL_N', 'ANT_RACA', 'ESCOLMAE', 'ANT_PRE_NA',\n",
        "                        'ANTSIFIL_N', 'TRA_ESQUEM', 'ANT_TRATAD', 'TRA_DIAG_T', 'TRA_ESQU_1',\n",
        "                        'CLI_ICTERI', 'CLI_RINITE', 'CLI_ANEMIA', 'CLI_ESPLEN','HEPATO',\n",
        "                        'CLI_OSTEO', 'LESOES', 'CLI_PSEUDO']\n",
        "\n",
        "numerical_features = [col for col in data_cleaned.columns if col not in categorical_features + ['OBITO_SIFILIS', 'ABORTION', 'STILLBORN']]\n",
        "\n",
        "# Create copies of the variable lists to avoid modifications to the original (and to be used in another implementation)\n",
        "categorical_features_rm = categorical_features.copy()\n",
        "numerical_features_rm = numerical_features.copy()\n",
        "\n",
        "# Create copies of the variable lists to preserve them\n",
        "original_categorical_features = categorical_features.copy()\n",
        "original_numerical_features = numerical_features.copy()\n",
        "\n",
        "# Check the copies for verification\n",
        "print(\"Copy of original categorical variables:\", original_categorical_features)\n",
        "print(\"Copy of original numerical variables:\", original_numerical_features)"
      ]
    },
    {
      "cell_type": "code",
      "execution_count": 162,
      "metadata": {
        "id": "7KNIe4SRin1f"
      },
      "outputs": [],
      "source": [
        "X = data_cleaned.drop(columns=['OBITO_SIFILIS'])\n",
        "y = data_cleaned['OBITO_SIFILIS'] "
      ]
    },
    {
      "cell_type": "markdown",
      "metadata": {
        "id": "deP9yqWLkY2J"
      },
      "source": [
        "# Balancing"
      ]
    },
    {
      "cell_type": "code",
      "execution_count": 163,
      "metadata": {
        "id": "iQsYsTeOitgJ"
      },
      "outputs": [],
      "source": [
        "# Apply down centering\n",
        "undersampler = RandomUnderSampler(random_state=42)\n",
        "X_resampled, y_resampled = undersampler.fit_resample(X, y)"
      ]
    },
    {
      "cell_type": "code",
      "execution_count": 164,
      "metadata": {
        "id": "6TVBjMwoiwtC"
      },
      "outputs": [],
      "source": [
        "# Convert categorical variables to strings after undersampling\n",
        "# Since the numbers in these categorical variables are just labels and have no ordinal meaning, converting to strings is the correct approach.\n",
        "for col in categorical_features:\n",
        "    X_resampled[col] = X_resampled[col].astype(str)"
      ]
    },
    {
      "cell_type": "markdown",
      "metadata": {
        "id": "MQrXLmQIkUnQ"
      },
      "source": [
        "# Train e Test (General 70/30)"
      ]
    },
    {
      "cell_type": "code",
      "execution_count": 165,
      "metadata": {
        "id": "puqokBQTi0ZT"
      },
      "outputs": [],
      "source": [
        "# Split balanced data into training and testing\n",
        "X_train, X_test, y_train, y_test = train_test_split(X_resampled, y_resampled, test_size=0.3, random_state=42)"
      ]
    },
    {
      "cell_type": "markdown",
      "metadata": {
        "id": "BI7zXYNWkymX"
      },
      "source": [
        "# Variables"
      ]
    },
    {
      "cell_type": "code",
      "execution_count": 148,
      "metadata": {
        "colab": {
          "base_uri": "https://localhost:8080/"
        },
        "id": "8ptlHU2xi203",
        "outputId": "bffc528a-4618-4f89-f37e-68ffebd87a1a"
      },
      "outputs": [
        {
          "name": "stdout",
          "output_type": "stream",
          "text": [
            "0: NU_IDADE_N\n",
            "1: CS_GESTANT\n",
            "2: CS_RACA\n",
            "3: CS_ESCOL_N\n",
            "4: ANT_IDADE\n",
            "5: ANT_RACA\n",
            "6: ESCOLMAE\n",
            "7: ANT_PRE_NA\n",
            "8: ANTSIFIL_N\n",
            "9: TRA_ESQUEM\n",
            "10: ANT_TRATAD\n",
            "11: TRA_DIAG_T\n",
            "12: TRA_ESQU_1\n",
            "13: CLI_ICTERI\n",
            "14: CLI_RINITE\n",
            "15: CLI_ANEMIA\n",
            "16: CLI_ESPLEN\n",
            "17: HEPATO\n",
            "18: CLI_OSTEO\n",
            "19: LESOES\n",
            "20: CLI_PSEUDO\n"
          ]
        }
      ],
      "source": [
        "for idx, col in enumerate(X_train.columns):\n",
        "    print(f\"{idx}: {col}\")"
      ]
    },
    {
      "cell_type": "markdown",
      "metadata": {
        "id": "-k2OhFRtK3u3"
      },
      "source": [
        "0: NU_IDADE_N\n",
        "\n",
        "1: CS_GESTANT\n",
        "\n",
        "2: CS_RACA\n",
        "\n",
        "3: CS_ESCOL_N\n"
      ]
    },
    {
      "cell_type": "markdown",
      "metadata": {
        "id": "CT6HrqZC9cUX"
      },
      "source": [
        "**Description of variables**"
      ]
    },
    {
      "cell_type": "markdown",
      "metadata": {
        "id": "me35LZTFI2mF"
      },
      "source": [
        "ANT_IDADE: Maternal age at the time of case notification.\n",
        "ANT_RACA: Maternal race \n",
        "ESCOLMAE: Maternal education level at the time of notification.\n",
        "ANT_PRE_NA: Indicates whether the mother underwent prenatal care during pregnancy.\n",
        "ANTSIFIL_N: Timing of syphilis diagnosis\n",
        "TRA_ESQUEM: Adequacy of maternal treatment for syphilis\n",
        "ANT_TRATAD: Information on whether the sexual partner(s) received treatment for syphilis.\n",
        "TRA_DIAG_T: Diagnosis of radiological bone alterations such as osteochondritis, periostitis, bone rarefaction, or “saber shin” deformity.\n",
        "TRA_ESQU_1: Therapeutic regimen used to treat congenital syphilis (Crystalline Penicillin intravenously; Procaine or Benzathine Penicillin intramuscularly).\n",
        "CLI_ICTERI: Presence of jaundice at the newborn’s physical examination.\n",
        "CLI_RINITE: Presence of mucopurulent rhinitis in the newborn.\n",
        "CLI_ANEMIA: Presence of anemia in the newborn.\n",
        "CLI_ESPLEN: Presence of splenomegaly.\n",
        "HEPATO: Presence of hepatomegaly.\n",
        "CLI_OSTEO: Presence of osteoarticular lesions or bone pain upon manipulation.\n",
        "LESOES: Presence of skin lesions (bullous, desquamative, papular, or generalized rashes).\n",
        "CLI_PSEUDO: Presence of pseudoparalysis, usually observed when handling the newborn .\n"
      ]
    },
    {
      "cell_type": "markdown",
      "metadata": {
        "id": "turiMQnjlTjV"
      },
      "source": [
        "# Catboost"
      ]
    },
    {
      "cell_type": "code",
      "execution_count": 166,
      "metadata": {
        "colab": {
          "base_uri": "https://localhost:8080/"
        },
        "id": "_636t6YtaCzC",
        "outputId": "a35ac1f9-ce8b-47c1-c388-f9ea96396f64"
      },
      "outputs": [
        {
          "data": {
            "text/plain": [
              "<catboost.core.CatBoostClassifier at 0x21bddb8a650>"
            ]
          },
          "execution_count": 166,
          "metadata": {},
          "output_type": "execute_result"
        }
      ],
      "source": [
        "#CatBoost model training\n",
        "catboost_model = CatBoostClassifier(iterations=100, random_seed=42, verbose=0)\n",
        "catboost_model.fit(X_train, y_train, cat_features=cat_features_indices)"
      ]
    },
    {
      "cell_type": "code",
      "execution_count": 167,
      "metadata": {
        "colab": {
          "base_uri": "https://localhost:8080/"
        },
        "id": "FUQ_cIRjlbcR",
        "outputId": "31ac759c-b25d-49d6-8737-bdfdb60afe11"
      },
      "outputs": [
        {
          "name": "stdout",
          "output_type": "stream",
          "text": [
            "CatBoost Metrics for SYPHILIS DEATH:\n",
            "              precision    recall  f1-score   support\n",
            "\n",
            "           0       0.78      0.82      0.80      1084\n",
            "           1       0.79      0.75      0.77      1018\n",
            "\n",
            "    accuracy                           0.78      2102\n",
            "   macro avg       0.78      0.78      0.78      2102\n",
            "weighted avg       0.78      0.78      0.78      2102\n",
            "\n"
          ]
        }
      ],
      "source": [
        "# Predictions and metrics for CatBoost\n",
        "y_pred_catboost = catboost_model.predict(X_test)\n",
        "print(\"CatBoost Metrics for SYPHILIS DEATH:\")\n",
        "print(classification_report(y_test, y_pred_catboost))"
      ]
    },
    {
      "cell_type": "code",
      "execution_count": 168,
      "metadata": {
        "colab": {
          "base_uri": "https://localhost:8080/",
          "height": 564
        },
        "id": "EAzhIPFMOkoV",
        "outputId": "b11fc7f2-1bba-4b25-acfa-8ec674c39dbf"
      },
      "outputs": [
        {
          "data": {
            "image/png": "[encoded data removed]",
            "text/plain": [
              "<Figure size 800x600 with 2 Axes>"
            ]
          },
          "metadata": {},
          "output_type": "display_data"
        }
      ],
      "source": [
        "from sklearn.metrics import confusion_matrix\n",
        "import seaborn as sns\n",
        "import matplotlib.pyplot as plt\n",
        "\n",
        "cm_catboost = confusion_matrix(y_test, y_pred_catboost)\n",
        "\n",
        "plt.figure(figsize=(8, 6))\n",
        "sns.heatmap(cm_catboost, annot=True, fmt='d', cmap='Blues', xticklabels=['NO DEATH', 'DEATH'], yticklabels=['NO DEATH', 'DEATH'])\n",
        "plt.xlabel('Predict')\n",
        "plt.ylabel('Real')\n",
        "plt.title('Confusion Matrix - CatBoost (SYPHILIS DEATH)')\n",
        "plt.show()"
      ]
    },
    {
      "cell_type": "code",
      "execution_count": 169,
      "metadata": {
        "colab": {
          "base_uri": "https://localhost:8080/"
        },
        "id": "IMIjg4cpaKYU",
        "outputId": "7a6908da-1269-450f-94a4-8009872a6fbc"
      },
      "outputs": [
        {
          "name": "stdout",
          "output_type": "stream",
          "text": [
            "    Feature Id  Importances\n",
            "0   TRA_ESQU_1    18.317115\n",
            "1       HEPATO    11.974941\n",
            "2   TRA_DIAG_T     9.482824\n",
            "3       LESOES     8.470171\n",
            "4   CLI_ANEMIA     6.712462\n",
            "5    ANT_IDADE     6.591508\n",
            "6   NU_IDADE_N     5.104172\n",
            "7   ANT_TRATAD     4.237263\n",
            "8   CS_GESTANT     3.739291\n",
            "9   ANTSIFIL_N     3.650787\n",
            "10  TRA_ESQUEM     3.543044\n",
            "11  CLI_ICTERI     3.340884\n",
            "12  ANT_PRE_NA     3.282004\n",
            "13  CLI_RINITE     2.732851\n",
            "14  CLI_PSEUDO     2.062720\n",
            "15  CLI_ESPLEN     1.692587\n",
            "16    ESCOLMAE     1.598625\n",
            "17    ANT_RACA     1.390199\n",
            "18     CS_RACA     0.963097\n",
            "19   CLI_OSTEO     0.711446\n",
            "20  CS_ESCOL_N     0.402008\n"
          ]
        }
      ],
      "source": [
        "# Get Feature Importances in CatBoost\n",
        "feature_importances = catboost_model.get_feature_importance(prettified=True)\n",
        "print(feature_importances)"
      ]
    },
    {
      "cell_type": "code",
      "execution_count": 170,
      "metadata": {
        "colab": {
          "base_uri": "https://localhost:8080/",
          "height": 1000
        },
        "id": "iV9ia8tQOpxy",
        "outputId": "88e76870-1930-413f-d536-9387e115d712"
      },
      "outputs": [
        {
          "data": {
            "image/png": "[encoded data removed]",
            "text/plain": [
              "<Figure size 800x950 with 2 Axes>"
            ]
          },
          "metadata": {},
          "output_type": "display_data"
        },
        {
          "data": {
            "image/png": "[encoded data removed]",
            "text/plain": [
              "<Figure size 800x950 with 1 Axes>"
            ]
          },
          "metadata": {},
          "output_type": "display_data"
        }
      ],
      "source": [
        "import shap\n",
        "import matplotlib.pyplot as plt\n",
        "\n",
        "explainer = shap.TreeExplainer(catboost_model)\n",
        "\n",
        "shap_values = explainer.shap_values(X_test)\n",
        "\n",
        "shap.summary_plot(shap_values, X_test)\n",
        "\n",
        "shap.summary_plot(shap_values, X_test, plot_type=\"bar\")\n"
      ]
    },
    {
      "cell_type": "markdown",
      "metadata": {
        "id": "euXLzgx8lhh2"
      },
      "source": [
        "# Random Forest"
      ]
    },
    {
      "cell_type": "code",
      "execution_count": 171,
      "metadata": {
        "colab": {
          "base_uri": "https://localhost:8080/",
          "height": 80
        },
        "id": "LXV-1GZcmEJt",
        "outputId": "73fa1468-361c-4471-bbd5-452607823fc1"
      },
      "outputs": [
        {
          "data": {
            "text/html": [
              "<style>#sk-container-id-6 {\n",
              "  /* Definition of color scheme common for light and dark mode */\n",
              "  --sklearn-color-text: #000;\n",
              "  --sklearn-color-text-muted: #666;\n",
              "  --sklearn-color-line: gray;\n",
              "  /* Definition of color scheme for unfitted estimators */\n",
              "  --sklearn-color-unfitted-level-0: #fff5e6;\n",
              "  --sklearn-color-unfitted-level-1: #f6e4d2;\n",
              "  --sklearn-color-unfitted-level-2: #ffe0b3;\n",
              "  --sklearn-color-unfitted-level-3: chocolate;\n",
              "  /* Definition of color scheme for fitted estimators */\n",
              "  --sklearn-color-fitted-level-0: #f0f8ff;\n",
              "  --sklearn-color-fitted-level-1: #d4ebff;\n",
              "  --sklearn-color-fitted-level-2: #b3dbfd;\n",
              "  --sklearn-color-fitted-level-3: cornflowerblue;\n",
              "\n",
              "  /* Specific color for light theme */\n",
              "  --sklearn-color-text-on-default-background: var(--sg-text-color, var(--theme-code-foreground, var(--jp-content-font-color1, black)));\n",
              "  --sklearn-color-background: var(--sg-background-color, var(--theme-background, var(--jp-layout-color0, white)));\n",
              "  --sklearn-color-border-box: var(--sg-text-color, var(--theme-code-foreground, var(--jp-content-font-color1, black)));\n",
              "  --sklearn-color-icon: #696969;\n",
              "\n",
              "  @media (prefers-color-scheme: dark) {\n",
              "    /* Redefinition of color scheme for dark theme */\n",
              "    --sklearn-color-text-on-default-background: var(--sg-text-color, var(--theme-code-foreground, var(--jp-content-font-color1, white)));\n",
              "    --sklearn-color-background: var(--sg-background-color, var(--theme-background, var(--jp-layout-color0, #111)));\n",
              "    --sklearn-color-border-box: var(--sg-text-color, var(--theme-code-foreground, var(--jp-content-font-color1, white)));\n",
              "    --sklearn-color-icon: #878787;\n",
              "  }\n",
              "}\n",
              "\n",
              "#sk-container-id-6 {\n",
              "  color: var(--sklearn-color-text);\n",
              "}\n",
              "\n",
              "#sk-container-id-6 pre {\n",
              "  padding: 0;\n",
              "}\n",
              "\n",
              "#sk-container-id-6 input.sk-hidden--visually {\n",
              "  border: 0;\n",
              "  clip: rect(1px 1px 1px 1px);\n",
              "  clip: rect(1px, 1px, 1px, 1px);\n",
              "  height: 1px;\n",
              "  margin: -1px;\n",
              "  overflow: hidden;\n",
              "  padding: 0;\n",
              "  position: absolute;\n",
              "  width: 1px;\n",
              "}\n",
              "\n",
              "#sk-container-id-6 div.sk-dashed-wrapped {\n",
              "  border: 1px dashed var(--sklearn-color-line);\n",
              "  margin: 0 0.4em 0.5em 0.4em;\n",
              "  box-sizing: border-box;\n",
              "  padding-bottom: 0.4em;\n",
              "  background-color: var(--sklearn-color-background);\n",
              "}\n",
              "\n",
              "#sk-container-id-6 div.sk-container {\n",
              "  /* jupyter's `normalize.less` sets `[hidden] { display: none; }`\n",
              "     but bootstrap.min.css set `[hidden] { display: none !important; }`\n",
              "     so we also need the `!important` here to be able to override the\n",
              "     default hidden behavior on the sphinx rendered scikit-learn.org.\n",
              "     See: https://github.com/scikit-learn/scikit-learn/issues/21755 */\n",
              "  display: inline-block !important;\n",
              "  position: relative;\n",
              "}\n",
              "\n",
              "#sk-container-id-6 div.sk-text-repr-fallback {\n",
              "  display: none;\n",
              "}\n",
              "\n",
              "div.sk-parallel-item,\n",
              "div.sk-serial,\n",
              "div.sk-item {\n",
              "  /* draw centered vertical line to link estimators */\n",
              "  background-image: linear-gradient(var(--sklearn-color-text-on-default-background), var(--sklearn-color-text-on-default-background));\n",
              "  background-size: 2px 100%;\n",
              "  background-repeat: no-repeat;\n",
              "  background-position: center center;\n",
              "}\n",
              "\n",
              "/* Parallel-specific style estimator block */\n",
              "\n",
              "#sk-container-id-6 div.sk-parallel-item::after {\n",
              "  content: \"\";\n",
              "  width: 100%;\n",
              "  border-bottom: 2px solid var(--sklearn-color-text-on-default-background);\n",
              "  flex-grow: 1;\n",
              "}\n",
              "\n",
              "#sk-container-id-6 div.sk-parallel {\n",
              "  display: flex;\n",
              "  align-items: stretch;\n",
              "  justify-content: center;\n",
              "  background-color: var(--sklearn-color-background);\n",
              "  position: relative;\n",
              "}\n",
              "\n",
              "#sk-container-id-6 div.sk-parallel-item {\n",
              "  display: flex;\n",
              "  flex-direction: column;\n",
              "}\n",
              "\n",
              "#sk-container-id-6 div.sk-parallel-item:first-child::after {\n",
              "  align-self: flex-end;\n",
              "  width: 50%;\n",
              "}\n",
              "\n",
              "#sk-container-id-6 div.sk-parallel-item:last-child::after {\n",
              "  align-self: flex-start;\n",
              "  width: 50%;\n",
              "}\n",
              "\n",
              "#sk-container-id-6 div.sk-parallel-item:only-child::after {\n",
              "  width: 0;\n",
              "}\n",
              "\n",
              "/* Serial-specific style estimator block */\n",
              "\n",
              "#sk-container-id-6 div.sk-serial {\n",
              "  display: flex;\n",
              "  flex-direction: column;\n",
              "  align-items: center;\n",
              "  background-color: var(--sklearn-color-background);\n",
              "  padding-right: 1em;\n",
              "  padding-left: 1em;\n",
              "}\n",
              "\n",
              "\n",
              "/* Toggleable style: style used for estimator/Pipeline/ColumnTransformer box that is\n",
              "clickable and can be expanded/collapsed.\n",
              "- Pipeline and ColumnTransformer use this feature and define the default style\n",
              "- Estimators will overwrite some part of the style using the `sk-estimator` class\n",
              "*/\n",
              "\n",
              "/* Pipeline and ColumnTransformer style (default) */\n",
              "\n",
              "#sk-container-id-6 div.sk-toggleable {\n",
              "  /* Default theme specific background. It is overwritten whether we have a\n",
              "  specific estimator or a Pipeline/ColumnTransformer */\n",
              "  background-color: var(--sklearn-color-background);\n",
              "}\n",
              "\n",
              "/* Toggleable label */\n",
              "#sk-container-id-6 label.sk-toggleable__label {\n",
              "  cursor: pointer;\n",
              "  display: flex;\n",
              "  width: 100%;\n",
              "  margin-bottom: 0;\n",
              "  padding: 0.5em;\n",
              "  box-sizing: border-box;\n",
              "  text-align: center;\n",
              "  align-items: start;\n",
              "  justify-content: space-between;\n",
              "  gap: 0.5em;\n",
              "}\n",
              "\n",
              "#sk-container-id-6 label.sk-toggleable__label .caption {\n",
              "  font-size: 0.6rem;\n",
              "  font-weight: lighter;\n",
              "  color: var(--sklearn-color-text-muted);\n",
              "}\n",
              "\n",
              "#sk-container-id-6 label.sk-toggleable__label-arrow:before {\n",
              "  /* Arrow on the left of the label */\n",
              "  content: \"▸\";\n",
              "  float: left;\n",
              "  margin-right: 0.25em;\n",
              "  color: var(--sklearn-color-icon);\n",
              "}\n",
              "\n",
              "#sk-container-id-6 label.sk-toggleable__label-arrow:hover:before {\n",
              "  color: var(--sklearn-color-text);\n",
              "}\n",
              "\n",
              "/* Toggleable content - dropdown */\n",
              "\n",
              "#sk-container-id-6 div.sk-toggleable__content {\n",
              "  display: none;\n",
              "  text-align: left;\n",
              "  /* unfitted */\n",
              "  background-color: var(--sklearn-color-unfitted-level-0);\n",
              "}\n",
              "\n",
              "#sk-container-id-6 div.sk-toggleable__content.fitted {\n",
              "  /* fitted */\n",
              "  background-color: var(--sklearn-color-fitted-level-0);\n",
              "}\n",
              "\n",
              "#sk-container-id-6 div.sk-toggleable__content pre {\n",
              "  margin: 0.2em;\n",
              "  border-radius: 0.25em;\n",
              "  color: var(--sklearn-color-text);\n",
              "  /* unfitted */\n",
              "  background-color: var(--sklearn-color-unfitted-level-0);\n",
              "}\n",
              "\n",
              "#sk-container-id-6 div.sk-toggleable__content.fitted pre {\n",
              "  /* unfitted */\n",
              "  background-color: var(--sklearn-color-fitted-level-0);\n",
              "}\n",
              "\n",
              "#sk-container-id-6 input.sk-toggleable__control:checked~div.sk-toggleable__content {\n",
              "  /* Expand drop-down */\n",
              "  display: block;\n",
              "  width: 100%;\n",
              "  overflow: visible;\n",
              "}\n",
              "\n",
              "#sk-container-id-6 input.sk-toggleable__control:checked~label.sk-toggleable__label-arrow:before {\n",
              "  content: \"▾\";\n",
              "}\n",
              "\n",
              "/* Pipeline/ColumnTransformer-specific style */\n",
              "\n",
              "#sk-container-id-6 div.sk-label input.sk-toggleable__control:checked~label.sk-toggleable__label {\n",
              "  color: var(--sklearn-color-text);\n",
              "  background-color: var(--sklearn-color-unfitted-level-2);\n",
              "}\n",
              "\n",
              "#sk-container-id-6 div.sk-label.fitted input.sk-toggleable__control:checked~label.sk-toggleable__label {\n",
              "  background-color: var(--sklearn-color-fitted-level-2);\n",
              "}\n",
              "\n",
              "/* Estimator-specific style */\n",
              "\n",
              "/* Colorize estimator box */\n",
              "#sk-container-id-6 div.sk-estimator input.sk-toggleable__control:checked~label.sk-toggleable__label {\n",
              "  /* unfitted */\n",
              "  background-color: var(--sklearn-color-unfitted-level-2);\n",
              "}\n",
              "\n",
              "#sk-container-id-6 div.sk-estimator.fitted input.sk-toggleable__control:checked~label.sk-toggleable__label {\n",
              "  /* fitted */\n",
              "  background-color: var(--sklearn-color-fitted-level-2);\n",
              "}\n",
              "\n",
              "#sk-container-id-6 div.sk-label label.sk-toggleable__label,\n",
              "#sk-container-id-6 div.sk-label label {\n",
              "  /* The background is the default theme color */\n",
              "  color: var(--sklearn-color-text-on-default-background);\n",
              "}\n",
              "\n",
              "/* On hover, darken the color of the background */\n",
              "#sk-container-id-6 div.sk-label:hover label.sk-toggleable__label {\n",
              "  color: var(--sklearn-color-text);\n",
              "  background-color: var(--sklearn-color-unfitted-level-2);\n",
              "}\n",
              "\n",
              "/* Label box, darken color on hover, fitted */\n",
              "#sk-container-id-6 div.sk-label.fitted:hover label.sk-toggleable__label.fitted {\n",
              "  color: var(--sklearn-color-text);\n",
              "  background-color: var(--sklearn-color-fitted-level-2);\n",
              "}\n",
              "\n",
              "/* Estimator label */\n",
              "\n",
              "#sk-container-id-6 div.sk-label label {\n",
              "  font-family: monospace;\n",
              "  font-weight: bold;\n",
              "  display: inline-block;\n",
              "  line-height: 1.2em;\n",
              "}\n",
              "\n",
              "#sk-container-id-6 div.sk-label-container {\n",
              "  text-align: center;\n",
              "}\n",
              "\n",
              "/* Estimator-specific */\n",
              "#sk-container-id-6 div.sk-estimator {\n",
              "  font-family: monospace;\n",
              "  border: 1px dotted var(--sklearn-color-border-box);\n",
              "  border-radius: 0.25em;\n",
              "  box-sizing: border-box;\n",
              "  margin-bottom: 0.5em;\n",
              "  /* unfitted */\n",
              "  background-color: var(--sklearn-color-unfitted-level-0);\n",
              "}\n",
              "\n",
              "#sk-container-id-6 div.sk-estimator.fitted {\n",
              "  /* fitted */\n",
              "  background-color: var(--sklearn-color-fitted-level-0);\n",
              "}\n",
              "\n",
              "/* on hover */\n",
              "#sk-container-id-6 div.sk-estimator:hover {\n",
              "  /* unfitted */\n",
              "  background-color: var(--sklearn-color-unfitted-level-2);\n",
              "}\n",
              "\n",
              "#sk-container-id-6 div.sk-estimator.fitted:hover {\n",
              "  /* fitted */\n",
              "  background-color: var(--sklearn-color-fitted-level-2);\n",
              "}\n",
              "\n",
              "/* Specification for estimator info (e.g. \"i\" and \"?\") */\n",
              "\n",
              "/* Common style for \"i\" and \"?\" */\n",
              "\n",
              ".sk-estimator-doc-link,\n",
              "a:link.sk-estimator-doc-link,\n",
              "a:visited.sk-estimator-doc-link {\n",
              "  float: right;\n",
              "  font-size: smaller;\n",
              "  line-height: 1em;\n",
              "  font-family: monospace;\n",
              "  background-color: var(--sklearn-color-background);\n",
              "  border-radius: 1em;\n",
              "  height: 1em;\n",
              "  width: 1em;\n",
              "  text-decoration: none !important;\n",
              "  margin-left: 0.5em;\n",
              "  text-align: center;\n",
              "  /* unfitted */\n",
              "  border: var(--sklearn-color-unfitted-level-1) 1pt solid;\n",
              "  color: var(--sklearn-color-unfitted-level-1);\n",
              "}\n",
              "\n",
              ".sk-estimator-doc-link.fitted,\n",
              "a:link.sk-estimator-doc-link.fitted,\n",
              "a:visited.sk-estimator-doc-link.fitted {\n",
              "  /* fitted */\n",
              "  border: var(--sklearn-color-fitted-level-1) 1pt solid;\n",
              "  color: var(--sklearn-color-fitted-level-1);\n",
              "}\n",
              "\n",
              "/* On hover */\n",
              "div.sk-estimator:hover .sk-estimator-doc-link:hover,\n",
              ".sk-estimator-doc-link:hover,\n",
              "div.sk-label-container:hover .sk-estimator-doc-link:hover,\n",
              ".sk-estimator-doc-link:hover {\n",
              "  /* unfitted */\n",
              "  background-color: var(--sklearn-color-unfitted-level-3);\n",
              "  color: var(--sklearn-color-background);\n",
              "  text-decoration: none;\n",
              "}\n",
              "\n",
              "div.sk-estimator.fitted:hover .sk-estimator-doc-link.fitted:hover,\n",
              ".sk-estimator-doc-link.fitted:hover,\n",
              "div.sk-label-container:hover .sk-estimator-doc-link.fitted:hover,\n",
              ".sk-estimator-doc-link.fitted:hover {\n",
              "  /* fitted */\n",
              "  background-color: var(--sklearn-color-fitted-level-3);\n",
              "  color: var(--sklearn-color-background);\n",
              "  text-decoration: none;\n",
              "}\n",
              "\n",
              "/* Span, style for the box shown on hovering the info icon */\n",
              ".sk-estimator-doc-link span {\n",
              "  display: none;\n",
              "  z-index: 9999;\n",
              "  position: relative;\n",
              "  font-weight: normal;\n",
              "  right: .2ex;\n",
              "  padding: .5ex;\n",
              "  margin: .5ex;\n",
              "  width: min-content;\n",
              "  min-width: 20ex;\n",
              "  max-width: 50ex;\n",
              "  color: var(--sklearn-color-text);\n",
              "  box-shadow: 2pt 2pt 4pt #999;\n",
              "  /* unfitted */\n",
              "  background: var(--sklearn-color-unfitted-level-0);\n",
              "  border: .5pt solid var(--sklearn-color-unfitted-level-3);\n",
              "}\n",
              "\n",
              ".sk-estimator-doc-link.fitted span {\n",
              "  /* fitted */\n",
              "  background: var(--sklearn-color-fitted-level-0);\n",
              "  border: var(--sklearn-color-fitted-level-3);\n",
              "}\n",
              "\n",
              ".sk-estimator-doc-link:hover span {\n",
              "  display: block;\n",
              "}\n",
              "\n",
              "/* \"?\"-specific style due to the `<a>` HTML tag */\n",
              "\n",
              "#sk-container-id-6 a.estimator_doc_link {\n",
              "  float: right;\n",
              "  font-size: 1rem;\n",
              "  line-height: 1em;\n",
              "  font-family: monospace;\n",
              "  background-color: var(--sklearn-color-background);\n",
              "  border-radius: 1rem;\n",
              "  height: 1rem;\n",
              "  width: 1rem;\n",
              "  text-decoration: none;\n",
              "  /* unfitted */\n",
              "  color: var(--sklearn-color-unfitted-level-1);\n",
              "  border: var(--sklearn-color-unfitted-level-1) 1pt solid;\n",
              "}\n",
              "\n",
              "#sk-container-id-6 a.estimator_doc_link.fitted {\n",
              "  /* fitted */\n",
              "  border: var(--sklearn-color-fitted-level-1) 1pt solid;\n",
              "  color: var(--sklearn-color-fitted-level-1);\n",
              "}\n",
              "\n",
              "/* On hover */\n",
              "#sk-container-id-6 a.estimator_doc_link:hover {\n",
              "  /* unfitted */\n",
              "  background-color: var(--sklearn-color-unfitted-level-3);\n",
              "  color: var(--sklearn-color-background);\n",
              "  text-decoration: none;\n",
              "}\n",
              "\n",
              "#sk-container-id-6 a.estimator_doc_link.fitted:hover {\n",
              "  /* fitted */\n",
              "  background-color: var(--sklearn-color-fitted-level-3);\n",
              "}\n",
              "\n",
              ".estimator-table summary {\n",
              "    padding: .5rem;\n",
              "    font-family: monospace;\n",
              "    cursor: pointer;\n",
              "}\n",
              "\n",
              ".estimator-table details[open] {\n",
              "    padding-left: 0.1rem;\n",
              "    padding-right: 0.1rem;\n",
              "    padding-bottom: 0.3rem;\n",
              "}\n",
              "\n",
              ".estimator-table .parameters-table {\n",
              "    margin-left: auto !important;\n",
              "    margin-right: auto !important;\n",
              "}\n",
              "\n",
              ".estimator-table .parameters-table tr:nth-child(odd) {\n",
              "    background-color: #fff;\n",
              "}\n",
              "\n",
              ".estimator-table .parameters-table tr:nth-child(even) {\n",
              "    background-color: #f6f6f6;\n",
              "}\n",
              "\n",
              ".estimator-table .parameters-table tr:hover {\n",
              "    background-color: #e0e0e0;\n",
              "}\n",
              "\n",
              ".estimator-table table td {\n",
              "    border: 1px solid rgba(106, 105, 104, 0.232);\n",
              "}\n",
              "\n",
              ".user-set td {\n",
              "    color:rgb(255, 94, 0);\n",
              "    text-align: left;\n",
              "}\n",
              "\n",
              ".user-set td.value pre {\n",
              "    color:rgb(255, 94, 0) !important;\n",
              "    background-color: transparent !important;\n",
              "}\n",
              "\n",
              ".default td {\n",
              "    color: black;\n",
              "    text-align: left;\n",
              "}\n",
              "\n",
              ".user-set td i,\n",
              ".default td i {\n",
              "    color: black;\n",
              "}\n",
              "\n",
              ".copy-paste-icon {\n",
              "    background-image: url(data:image/svg+xml;base64,PHN2ZyB4bWxucz0iaHR0cDovL3d3dy53My5vcmcvMjAwMC9zdmciIHZpZXdCb3g9IjAgMCA0NDggNTEyIj48IS0tIUZvbnQgQXdlc29tZSBGcmVlIDYuNy4yIGJ5IEBmb250YXdlc29tZSAtIGh0dHBzOi8vZm9udGF3ZXNvbWUuY29tIExpY2Vuc2UgLSBodHRwczovL2ZvbnRhd2Vzb21lLmNvbS9saWNlbnNlL2ZyZWUgQ29weXJpZ2h0IDIwMjUgRm9udGljb25zLCBJbmMuLS0+PHBhdGggZD0iTTIwOCAwTDMzMi4xIDBjMTIuNyAwIDI0LjkgNS4xIDMzLjkgMTQuMWw2Ny45IDY3LjljOSA5IDE0LjEgMjEuMiAxNC4xIDMzLjlMNDQ4IDMzNmMwIDI2LjUtMjEuNSA0OC00OCA0OGwtMTkyIDBjLTI2LjUgMC00OC0yMS41LTQ4LTQ4bDAtMjg4YzAtMjYuNSAyMS41LTQ4IDQ4LTQ4ek00OCAxMjhsODAgMCAwIDY0LTY0IDAgMCAyNTYgMTkyIDAgMC0zMiA2NCAwIDAgNDhjMCAyNi41LTIxLjUgNDgtNDggNDhMNDggNTEyYy0yNi41IDAtNDgtMjEuNS00OC00OEwwIDE3NmMwLTI2LjUgMjEuNS00OCA0OC00OHoiLz48L3N2Zz4=);\n",
              "    background-repeat: no-repeat;\n",
              "    background-size: 14px 14px;\n",
              "    background-position: 0;\n",
              "    display: inline-block;\n",
              "    width: 14px;\n",
              "    height: 14px;\n",
              "    cursor: pointer;\n",
              "}\n",
              "</style><body><div id=\"sk-container-id-6\" class=\"sk-top-container\"><div class=\"sk-text-repr-fallback\"><pre>RandomForestClassifier(random_state=42)</pre><b>In a Jupyter environment, please rerun this cell to show the HTML representation or trust the notebook. <br />On GitHub, the HTML representation is unable to render, please try loading this page with nbviewer.org.</b></div><div class=\"sk-container\" hidden><div class=\"sk-item\"><div class=\"sk-estimator fitted sk-toggleable\"><input class=\"sk-toggleable__control sk-hidden--visually\" id=\"sk-estimator-id-6\" type=\"checkbox\" checked><label for=\"sk-estimator-id-6\" class=\"sk-toggleable__label fitted sk-toggleable__label-arrow\"><div><div>RandomForestClassifier</div></div><div><a class=\"sk-estimator-doc-link fitted\" rel=\"noreferrer\" target=\"_blank\" href=\"https://scikit-learn.org/1.7/modules/generated/sklearn.ensemble.RandomForestClassifier.html\">?<span>Documentation for RandomForestClassifier</span></a><span class=\"sk-estimator-doc-link fitted\">i<span>Fitted</span></span></div></label><div class=\"sk-toggleable__content fitted\" data-param-prefix=\"\">\n",
              "        <div class=\"estimator-table\">\n",
              "            <details>\n",
              "                <summary>Parameters</summary>\n",
              "                <table class=\"parameters-table\">\n",
              "                  <tbody>\n",
              "                    \n",
              "        <tr class=\"default\">\n",
              "            <td><i class=\"copy-paste-icon\"\n",
              "                 onclick=\"copyToClipboard('n_estimators',\n",
              "                          this.parentElement.nextElementSibling)\"\n",
              "            ></i></td>\n",
              "            <td class=\"param\">n_estimators&nbsp;</td>\n",
              "            <td class=\"value\">100</td>\n",
              "        </tr>\n",
              "    \n",
              "\n",
              "        <tr class=\"default\">\n",
              "            <td><i class=\"copy-paste-icon\"\n",
              "                 onclick=\"copyToClipboard('criterion',\n",
              "                          this.parentElement.nextElementSibling)\"\n",
              "            ></i></td>\n",
              "            <td class=\"param\">criterion&nbsp;</td>\n",
              "            <td class=\"value\">&#x27;gini&#x27;</td>\n",
              "        </tr>\n",
              "    \n",
              "\n",
              "        <tr class=\"default\">\n",
              "            <td><i class=\"copy-paste-icon\"\n",
              "                 onclick=\"copyToClipboard('max_depth',\n",
              "                          this.parentElement.nextElementSibling)\"\n",
              "            ></i></td>\n",
              "            <td class=\"param\">max_depth&nbsp;</td>\n",
              "            <td class=\"value\">None</td>\n",
              "        </tr>\n",
              "    \n",
              "\n",
              "        <tr class=\"default\">\n",
              "            <td><i class=\"copy-paste-icon\"\n",
              "                 onclick=\"copyToClipboard('min_samples_split',\n",
              "                          this.parentElement.nextElementSibling)\"\n",
              "            ></i></td>\n",
              "            <td class=\"param\">min_samples_split&nbsp;</td>\n",
              "            <td class=\"value\">2</td>\n",
              "        </tr>\n",
              "    \n",
              "\n",
              "        <tr class=\"default\">\n",
              "            <td><i class=\"copy-paste-icon\"\n",
              "                 onclick=\"copyToClipboard('min_samples_leaf',\n",
              "                          this.parentElement.nextElementSibling)\"\n",
              "            ></i></td>\n",
              "            <td class=\"param\">min_samples_leaf&nbsp;</td>\n",
              "            <td class=\"value\">1</td>\n",
              "        </tr>\n",
              "    \n",
              "\n",
              "        <tr class=\"default\">\n",
              "            <td><i class=\"copy-paste-icon\"\n",
              "                 onclick=\"copyToClipboard('min_weight_fraction_leaf',\n",
              "                          this.parentElement.nextElementSibling)\"\n",
              "            ></i></td>\n",
              "            <td class=\"param\">min_weight_fraction_leaf&nbsp;</td>\n",
              "            <td class=\"value\">0.0</td>\n",
              "        </tr>\n",
              "    \n",
              "\n",
              "        <tr class=\"default\">\n",
              "            <td><i class=\"copy-paste-icon\"\n",
              "                 onclick=\"copyToClipboard('max_features',\n",
              "                          this.parentElement.nextElementSibling)\"\n",
              "            ></i></td>\n",
              "            <td class=\"param\">max_features&nbsp;</td>\n",
              "            <td class=\"value\">&#x27;sqrt&#x27;</td>\n",
              "        </tr>\n",
              "    \n",
              "\n",
              "        <tr class=\"default\">\n",
              "            <td><i class=\"copy-paste-icon\"\n",
              "                 onclick=\"copyToClipboard('max_leaf_nodes',\n",
              "                          this.parentElement.nextElementSibling)\"\n",
              "            ></i></td>\n",
              "            <td class=\"param\">max_leaf_nodes&nbsp;</td>\n",
              "            <td class=\"value\">None</td>\n",
              "        </tr>\n",
              "    \n",
              "\n",
              "        <tr class=\"default\">\n",
              "            <td><i class=\"copy-paste-icon\"\n",
              "                 onclick=\"copyToClipboard('min_impurity_decrease',\n",
              "                          this.parentElement.nextElementSibling)\"\n",
              "            ></i></td>\n",
              "            <td class=\"param\">min_impurity_decrease&nbsp;</td>\n",
              "            <td class=\"value\">0.0</td>\n",
              "        </tr>\n",
              "    \n",
              "\n",
              "        <tr class=\"default\">\n",
              "            <td><i class=\"copy-paste-icon\"\n",
              "                 onclick=\"copyToClipboard('bootstrap',\n",
              "                          this.parentElement.nextElementSibling)\"\n",
              "            ></i></td>\n",
              "            <td class=\"param\">bootstrap&nbsp;</td>\n",
              "            <td class=\"value\">True</td>\n",
              "        </tr>\n",
              "    \n",
              "\n",
              "        <tr class=\"default\">\n",
              "            <td><i class=\"copy-paste-icon\"\n",
              "                 onclick=\"copyToClipboard('oob_score',\n",
              "                          this.parentElement.nextElementSibling)\"\n",
              "            ></i></td>\n",
              "            <td class=\"param\">oob_score&nbsp;</td>\n",
              "            <td class=\"value\">False</td>\n",
              "        </tr>\n",
              "    \n",
              "\n",
              "        <tr class=\"default\">\n",
              "            <td><i class=\"copy-paste-icon\"\n",
              "                 onclick=\"copyToClipboard('n_jobs',\n",
              "                          this.parentElement.nextElementSibling)\"\n",
              "            ></i></td>\n",
              "            <td class=\"param\">n_jobs&nbsp;</td>\n",
              "            <td class=\"value\">None</td>\n",
              "        </tr>\n",
              "    \n",
              "\n",
              "        <tr class=\"user-set\">\n",
              "            <td><i class=\"copy-paste-icon\"\n",
              "                 onclick=\"copyToClipboard('random_state',\n",
              "                          this.parentElement.nextElementSibling)\"\n",
              "            ></i></td>\n",
              "            <td class=\"param\">random_state&nbsp;</td>\n",
              "            <td class=\"value\">42</td>\n",
              "        </tr>\n",
              "    \n",
              "\n",
              "        <tr class=\"default\">\n",
              "            <td><i class=\"copy-paste-icon\"\n",
              "                 onclick=\"copyToClipboard('verbose',\n",
              "                          this.parentElement.nextElementSibling)\"\n",
              "            ></i></td>\n",
              "            <td class=\"param\">verbose&nbsp;</td>\n",
              "            <td class=\"value\">0</td>\n",
              "        </tr>\n",
              "    \n",
              "\n",
              "        <tr class=\"default\">\n",
              "            <td><i class=\"copy-paste-icon\"\n",
              "                 onclick=\"copyToClipboard('warm_start',\n",
              "                          this.parentElement.nextElementSibling)\"\n",
              "            ></i></td>\n",
              "            <td class=\"param\">warm_start&nbsp;</td>\n",
              "            <td class=\"value\">False</td>\n",
              "        </tr>\n",
              "    \n",
              "\n",
              "        <tr class=\"default\">\n",
              "            <td><i class=\"copy-paste-icon\"\n",
              "                 onclick=\"copyToClipboard('class_weight',\n",
              "                          this.parentElement.nextElementSibling)\"\n",
              "            ></i></td>\n",
              "            <td class=\"param\">class_weight&nbsp;</td>\n",
              "            <td class=\"value\">None</td>\n",
              "        </tr>\n",
              "    \n",
              "\n",
              "        <tr class=\"default\">\n",
              "            <td><i class=\"copy-paste-icon\"\n",
              "                 onclick=\"copyToClipboard('ccp_alpha',\n",
              "                          this.parentElement.nextElementSibling)\"\n",
              "            ></i></td>\n",
              "            <td class=\"param\">ccp_alpha&nbsp;</td>\n",
              "            <td class=\"value\">0.0</td>\n",
              "        </tr>\n",
              "    \n",
              "\n",
              "        <tr class=\"default\">\n",
              "            <td><i class=\"copy-paste-icon\"\n",
              "                 onclick=\"copyToClipboard('max_samples',\n",
              "                          this.parentElement.nextElementSibling)\"\n",
              "            ></i></td>\n",
              "            <td class=\"param\">max_samples&nbsp;</td>\n",
              "            <td class=\"value\">None</td>\n",
              "        </tr>\n",
              "    \n",
              "\n",
              "        <tr class=\"default\">\n",
              "            <td><i class=\"copy-paste-icon\"\n",
              "                 onclick=\"copyToClipboard('monotonic_cst',\n",
              "                          this.parentElement.nextElementSibling)\"\n",
              "            ></i></td>\n",
              "            <td class=\"param\">monotonic_cst&nbsp;</td>\n",
              "            <td class=\"value\">None</td>\n",
              "        </tr>\n",
              "    \n",
              "                  </tbody>\n",
              "                </table>\n",
              "            </details>\n",
              "        </div>\n",
              "    </div></div></div></div></div><script>function copyToClipboard(text, element) {\n",
              "    // Get the parameter prefix from the closest toggleable content\n",
              "    const toggleableContent = element.closest('.sk-toggleable__content');\n",
              "    const paramPrefix = toggleableContent ? toggleableContent.dataset.paramPrefix : '';\n",
              "    const fullParamName = paramPrefix ? `${paramPrefix}${text}` : text;\n",
              "\n",
              "    const originalStyle = element.style;\n",
              "    const computedStyle = window.getComputedStyle(element);\n",
              "    const originalWidth = computedStyle.width;\n",
              "    const originalHTML = element.innerHTML.replace('Copied!', '');\n",
              "\n",
              "    navigator.clipboard.writeText(fullParamName)\n",
              "        .then(() => {\n",
              "            element.style.width = originalWidth;\n",
              "            element.style.color = 'green';\n",
              "            element.innerHTML = \"Copied!\";\n",
              "\n",
              "            setTimeout(() => {\n",
              "                element.innerHTML = originalHTML;\n",
              "                element.style = originalStyle;\n",
              "            }, 2000);\n",
              "        })\n",
              "        .catch(err => {\n",
              "            console.error('Failed to copy:', err);\n",
              "            element.style.color = 'red';\n",
              "            element.innerHTML = \"Failed!\";\n",
              "            setTimeout(() => {\n",
              "                element.innerHTML = originalHTML;\n",
              "                element.style = originalStyle;\n",
              "            }, 2000);\n",
              "        });\n",
              "    return false;\n",
              "}\n",
              "\n",
              "document.querySelectorAll('.fa-regular.fa-copy').forEach(function(element) {\n",
              "    const toggleableContent = element.closest('.sk-toggleable__content');\n",
              "    const paramPrefix = toggleableContent ? toggleableContent.dataset.paramPrefix : '';\n",
              "    const paramName = element.parentElement.nextElementSibling.textContent.trim();\n",
              "    const fullParamName = paramPrefix ? `${paramPrefix}${paramName}` : paramName;\n",
              "\n",
              "    element.setAttribute('title', fullParamName);\n",
              "});\n",
              "</script></body>"
            ],
            "text/plain": [
              "RandomForestClassifier(random_state=42)"
            ]
          },
          "execution_count": 171,
          "metadata": {},
          "output_type": "execute_result"
        }
      ],
      "source": [
        "rf_model = RandomForestClassifier(n_estimators=100, random_state=42)\n",
        "rf_model.fit(X_train, y_train)"
      ]
    },
    {
      "cell_type": "code",
      "execution_count": 173,
      "metadata": {
        "colab": {
          "base_uri": "https://localhost:8080/"
        },
        "id": "1o8CNRcsmIQ7",
        "outputId": "52a91b47-89e5-4a4c-856b-cc442f0f08c0"
      },
      "outputs": [
        {
          "name": "stdout",
          "output_type": "stream",
          "text": [
            "Random Forest Metrics for Syphilis DEATH SYPHILIS:\n",
            "              precision    recall  f1-score   support\n",
            "\n",
            "           0       0.77      0.80      0.79      1084\n",
            "           1       0.78      0.75      0.77      1018\n",
            "\n",
            "    accuracy                           0.78      2102\n",
            "   macro avg       0.78      0.78      0.78      2102\n",
            "weighted avg       0.78      0.78      0.78      2102\n",
            "\n"
          ]
        }
      ],
      "source": [
        "y_pred_rf = rf_model.predict(X_test)\n",
        "print(\"Random Forest Metrics for Syphilis DEATH SYPHILIS:\")\n",
        "print(classification_report(y_test, y_pred_rf))"
      ]
    },
    {
      "cell_type": "code",
      "execution_count": 177,
      "metadata": {
        "colab": {
          "base_uri": "https://localhost:8080/"
        },
        "id": "eBYBiVXlmOoh",
        "outputId": "22c7f232-5641-4b69-ca62-3b110a077074"
      },
      "outputs": [
        {
          "name": "stdout",
          "output_type": "stream",
          "text": [
            "Importance of features in the Random Forest model:\n",
            "       Feature  Importance\n",
            "4    ANT_IDADE    0.158008\n",
            "12  TRA_ESQU_1    0.135771\n",
            "6     ESCOLMAE    0.087725\n",
            "11  TRA_DIAG_T    0.073721\n",
            "0   NU_IDADE_N    0.049182\n",
            "2      CS_RACA    0.047011\n",
            "5     ANT_RACA    0.045614\n",
            "17      HEPATO    0.045121\n",
            "9   TRA_ESQUEM    0.044611\n",
            "15  CLI_ANEMIA    0.043753\n",
            "8   ANTSIFIL_N    0.042932\n",
            "10  ANT_TRATAD    0.042445\n",
            "16  CLI_ESPLEN    0.035466\n",
            "19      LESOES    0.028858\n",
            "7   ANT_PRE_NA    0.027588\n",
            "18   CLI_OSTEO    0.023138\n",
            "20  CLI_PSEUDO    0.022463\n",
            "13  CLI_ICTERI    0.020463\n",
            "14  CLI_RINITE    0.014271\n",
            "1   CS_GESTANT    0.011556\n",
            "3   CS_ESCOL_N    0.000302\n"
          ]
        }
      ],
      "source": [
        "feature_importances_rf = pd.DataFrame({\n",
        "    'Feature': X_test.columns,\n",
        "    'Importance': rf_model.feature_importances_\n",
        "}).sort_values(by='Importance', ascending=False)\n",
        "\n",
        "print(\"Importance of features in the Random Forest model:\")\n",
        "print(feature_importances_rf)"
      ]
    },
    {
      "cell_type": "markdown",
      "metadata": {
        "id": "MYJhJtqUNn7Y"
      },
      "source": [
        "SVM"
      ]
    },
    {
      "cell_type": "code",
      "execution_count": null,
      "metadata": {
        "colab": {
          "base_uri": "https://localhost:8080/"
        },
        "id": "TCQ3PwL7OsOh",
        "outputId": "e253828e-8d7e-44ec-d50c-ffbb26549759"
      },
      "outputs": [
        {
          "name": "stdout",
          "output_type": "stream",
          "text": [
            "Acuracy: 0.7264509990485252\n",
            "\n",
            "Confusion Matrix:\n",
            " [[846 238]\n",
            " [337 681]]\n",
            "\n",
            "Classification Report:\n",
            "               precision    recall  f1-score   support\n",
            "\n",
            "           0       0.72      0.78      0.75      1084\n",
            "           1       0.74      0.67      0.70      1018\n",
            "\n",
            "    accuracy                           0.73      2102\n",
            "   macro avg       0.73      0.72      0.72      2102\n",
            "weighted avg       0.73      0.73      0.73      2102\n",
            "\n"
          ]
        }
      ],
      "source": [
        "svm_model = make_pipeline(\n",
        "    SimpleImputer(missing_values=np.nan, strategy='mean'), \n",
        "    StandardScaler(),\n",
        "    SVC(kernel='rbf', C=1.0, gamma='scale', random_state=42)\n",
        ")\n",
        "svm_model.fit(X_train, y_train)\n",
        "\n",
        "y_pred_svm = svm_model.predict(X_test)\n",
        "\n",
        "print(\"Acuracy:\", accuracy_score(y_test, y_pred_svm))\n",
        "print(\"\\nConfusion Matrix:\\n\", confusion_matrix(y_test, y_pred_svm))\n",
        "print(\"\\nClassification Report:\\n\", classification_report(y_test, y_pred_svm))"
      ]
    },
    {
      "cell_type": "code",
      "execution_count": null,
      "metadata": {
        "colab": {
          "background_save": true,
          "base_uri": "https://localhost:8080/",
          "referenced_widgets": [
            "5c7226a6c48849d2a72ca3963af7bdc6"
          ]
        },
        "id": "X71AQgP8Twix",
        "outputId": "6d71d3c3-504b-421a-8614-abad69d69ff6"
      },
      "outputs": [
        {
          "name": "stdout",
          "output_type": "stream",
          "text": [
            "Acuracy: 0.79686013320647\n",
            "\n",
            "Confusion Matrix:\n",
            " [[935 149]\n",
            " [278 740]]\n",
            "\n",
            "Classification Report:\n",
            "               precision    recall  f1-score   support\n",
            "\n",
            "           0       0.77      0.86      0.81      1084\n",
            "           1       0.83      0.73      0.78      1018\n",
            "\n",
            "    accuracy                           0.80      2102\n",
            "   macro avg       0.80      0.79      0.80      2102\n",
            "weighted avg       0.80      0.80      0.80      2102\n",
            "\n"
          ]
        },
        {
          "name": "stderr",
          "output_type": "stream",
          "text": [
            "  1%|          | 1/100 [02:54<4:47:54, 174.49s/it]\n"
          ]
        },
        {
          "ename": "KeyboardInterrupt",
          "evalue": "",
          "output_type": "error",
          "traceback": [
            "\u001b[31m---------------------------------------------------------------------------\u001b[39m",
            "\u001b[31mKeyboardInterrupt\u001b[39m                         Traceback (most recent call last)",
            "\u001b[36mCell\u001b[39m\u001b[36m \u001b[39m\u001b[32mIn[44]\u001b[39m\u001b[32m, line 33\u001b[39m\n\u001b[32m     28\u001b[39m X_test_proc = svm_model.named_steps[\u001b[33m'\u001b[39m\u001b[33mstandardscaler\u001b[39m\u001b[33m'\u001b[39m].transform(\n\u001b[32m     29\u001b[39m     svm_model.named_steps[\u001b[33m'\u001b[39m\u001b[33msimpleimputer\u001b[39m\u001b[33m'\u001b[39m].transform(X_test)\n\u001b[32m     30\u001b[39m )\n\u001b[32m     32\u001b[39m explainer = shap.KernelExplainer(svc.predict_proba, shap.sample(X_train_proc, \u001b[32m100\u001b[39m))  \n\u001b[32m---> \u001b[39m\u001b[32m33\u001b[39m shap_values = \u001b[43mexplainer\u001b[49m\u001b[43m.\u001b[49m\u001b[43mshap_values\u001b[49m\u001b[43m(\u001b[49m\u001b[43mshap\u001b[49m\u001b[43m.\u001b[49m\u001b[43msample\u001b[49m\u001b[43m(\u001b[49m\u001b[43mX_test_proc\u001b[49m\u001b[43m,\u001b[49m\u001b[43m \u001b[49m\u001b[32;43m100\u001b[39;49m\u001b[43m)\u001b[49m\u001b[43m)\u001b[49m  \n\u001b[32m     36\u001b[39m plt.title(\u001b[33m\"\u001b[39m\u001b[33mVariable Importances - SHAP (SVM)\u001b[39m\u001b[33m\"\u001b[39m)\n\u001b[32m     37\u001b[39m shap.summary_plot(shap_values, shap.sample(X_test_proc, \u001b[32m100\u001b[39m), feature_names=X_resampled.columns)\n",
            "\u001b[36mFile \u001b[39m\u001b[32mc:\\Users\\natal\\Github\\Death-Prediction-Analysis-Congenital-Syphilis\\.venv\\Lib\\site-packages\\shap\\explainers\\_kernel.py:275\u001b[39m, in \u001b[36mKernelExplainer.shap_values\u001b[39m\u001b[34m(self, X, **kwargs)\u001b[39m\n\u001b[32m    273\u001b[39m \u001b[38;5;28;01mif\u001b[39;00m \u001b[38;5;28mself\u001b[39m.keep_index:\n\u001b[32m    274\u001b[39m     data = convert_to_instance_with_index(data, column_name, index_value[i : i + \u001b[32m1\u001b[39m], index_name)\n\u001b[32m--> \u001b[39m\u001b[32m275\u001b[39m explanations.append(\u001b[38;5;28;43mself\u001b[39;49m\u001b[43m.\u001b[49m\u001b[43mexplain\u001b[49m\u001b[43m(\u001b[49m\u001b[43mdata\u001b[49m\u001b[43m,\u001b[49m\u001b[43m \u001b[49m\u001b[43m*\u001b[49m\u001b[43m*\u001b[49m\u001b[43mkwargs\u001b[49m\u001b[43m)\u001b[49m)\n\u001b[32m    276\u001b[39m \u001b[38;5;28;01mif\u001b[39;00m kwargs.get(\u001b[33m\"\u001b[39m\u001b[33mgc_collect\u001b[39m\u001b[33m\"\u001b[39m, \u001b[38;5;28;01mFalse\u001b[39;00m):\n\u001b[32m    277\u001b[39m     gc.collect()\n",
            "\u001b[36mFile \u001b[39m\u001b[32mc:\\Users\\natal\\Github\\Death-Prediction-Analysis-Congenital-Syphilis\\.venv\\Lib\\site-packages\\shap\\explainers\\_kernel.py:479\u001b[39m, in \u001b[36mKernelExplainer.explain\u001b[39m\u001b[34m(self, incoming_instance, **kwargs)\u001b[39m\n\u001b[32m    476\u001b[39m     \u001b[38;5;28mself\u001b[39m.kernelWeights[nfixed_samples:] *= weight_left / \u001b[38;5;28mself\u001b[39m.kernelWeights[nfixed_samples:].sum()\n\u001b[32m    478\u001b[39m \u001b[38;5;66;03m# execute the model on the synthetic samples we have created\u001b[39;00m\n\u001b[32m--> \u001b[39m\u001b[32m479\u001b[39m \u001b[38;5;28;43mself\u001b[39;49m\u001b[43m.\u001b[49m\u001b[43mrun\u001b[49m\u001b[43m(\u001b[49m\u001b[43m)\u001b[49m\n\u001b[32m    481\u001b[39m \u001b[38;5;66;03m# solve then expand the feature importance (Shapley value) vector to contain the non-varying features\u001b[39;00m\n\u001b[32m    482\u001b[39m phi = np.zeros((\u001b[38;5;28mself\u001b[39m.data.groups_size, \u001b[38;5;28mself\u001b[39m.D))\n",
            "\u001b[36mFile \u001b[39m\u001b[32mc:\\Users\\natal\\Github\\Death-Prediction-Analysis-Congenital-Syphilis\\.venv\\Lib\\site-packages\\shap\\explainers\\_kernel.py:624\u001b[39m, in \u001b[36mKernelExplainer.run\u001b[39m\u001b[34m(self)\u001b[39m\n\u001b[32m    622\u001b[39m     \u001b[38;5;28;01mif\u001b[39;00m \u001b[38;5;28mself\u001b[39m.keep_index_ordered:\n\u001b[32m    623\u001b[39m         data = data.sort_index()\n\u001b[32m--> \u001b[39m\u001b[32m624\u001b[39m modelOut = \u001b[38;5;28;43mself\u001b[39;49m\u001b[43m.\u001b[49m\u001b[43mmodel\u001b[49m\u001b[43m.\u001b[49m\u001b[43mf\u001b[49m\u001b[43m(\u001b[49m\u001b[43mdata\u001b[49m\u001b[43m)\u001b[49m\n\u001b[32m    625\u001b[39m \u001b[38;5;28;01mif\u001b[39;00m \u001b[38;5;28misinstance\u001b[39m(modelOut, (pd.DataFrame, pd.Series)):\n\u001b[32m    626\u001b[39m     modelOut = modelOut.values\n",
            "\u001b[36mFile \u001b[39m\u001b[32mc:\\Users\\natal\\Github\\Death-Prediction-Analysis-Congenital-Syphilis\\.venv\\Lib\\site-packages\\sklearn\\svm\\_base.py:873\u001b[39m, in \u001b[36mBaseSVC.predict_proba\u001b[39m\u001b[34m(self, X)\u001b[39m\n\u001b[32m    867\u001b[39m     \u001b[38;5;28;01mraise\u001b[39;00m NotFittedError(\n\u001b[32m    868\u001b[39m         \u001b[33m\"\u001b[39m\u001b[33mpredict_proba is not available when fitted with probability=False\u001b[39m\u001b[33m\"\u001b[39m\n\u001b[32m    869\u001b[39m     )\n\u001b[32m    870\u001b[39m pred_proba = (\n\u001b[32m    871\u001b[39m     \u001b[38;5;28mself\u001b[39m._sparse_predict_proba \u001b[38;5;28;01mif\u001b[39;00m \u001b[38;5;28mself\u001b[39m._sparse \u001b[38;5;28;01melse\u001b[39;00m \u001b[38;5;28mself\u001b[39m._dense_predict_proba\n\u001b[32m    872\u001b[39m )\n\u001b[32m--> \u001b[39m\u001b[32m873\u001b[39m \u001b[38;5;28;01mreturn\u001b[39;00m \u001b[43mpred_proba\u001b[49m\u001b[43m(\u001b[49m\u001b[43mX\u001b[49m\u001b[43m)\u001b[49m\n",
            "\u001b[36mFile \u001b[39m\u001b[32mc:\\Users\\natal\\Github\\Death-Prediction-Analysis-Congenital-Syphilis\\.venv\\Lib\\site-packages\\sklearn\\svm\\_base.py:913\u001b[39m, in \u001b[36mBaseSVC._dense_predict_proba\u001b[39m\u001b[34m(self, X)\u001b[39m\n\u001b[32m    910\u001b[39m     kernel = \u001b[33m\"\u001b[39m\u001b[33mprecomputed\u001b[39m\u001b[33m\"\u001b[39m\n\u001b[32m    912\u001b[39m svm_type = LIBSVM_IMPL.index(\u001b[38;5;28mself\u001b[39m._impl)\n\u001b[32m--> \u001b[39m\u001b[32m913\u001b[39m pprob = \u001b[43mlibsvm\u001b[49m\u001b[43m.\u001b[49m\u001b[43mpredict_proba\u001b[49m\u001b[43m(\u001b[49m\n\u001b[32m    914\u001b[39m \u001b[43m    \u001b[49m\u001b[43mX\u001b[49m\u001b[43m,\u001b[49m\n\u001b[32m    915\u001b[39m \u001b[43m    \u001b[49m\u001b[38;5;28;43mself\u001b[39;49m\u001b[43m.\u001b[49m\u001b[43msupport_\u001b[49m\u001b[43m,\u001b[49m\n\u001b[32m    916\u001b[39m \u001b[43m    \u001b[49m\u001b[38;5;28;43mself\u001b[39;49m\u001b[43m.\u001b[49m\u001b[43msupport_vectors_\u001b[49m\u001b[43m,\u001b[49m\n\u001b[32m    917\u001b[39m \u001b[43m    \u001b[49m\u001b[38;5;28;43mself\u001b[39;49m\u001b[43m.\u001b[49m\u001b[43m_n_support\u001b[49m\u001b[43m,\u001b[49m\n\u001b[32m    918\u001b[39m \u001b[43m    \u001b[49m\u001b[38;5;28;43mself\u001b[39;49m\u001b[43m.\u001b[49m\u001b[43m_dual_coef_\u001b[49m\u001b[43m,\u001b[49m\n\u001b[32m    919\u001b[39m \u001b[43m    \u001b[49m\u001b[38;5;28;43mself\u001b[39;49m\u001b[43m.\u001b[49m\u001b[43m_intercept_\u001b[49m\u001b[43m,\u001b[49m\n\u001b[32m    920\u001b[39m \u001b[43m    \u001b[49m\u001b[38;5;28;43mself\u001b[39;49m\u001b[43m.\u001b[49m\u001b[43m_probA\u001b[49m\u001b[43m,\u001b[49m\n\u001b[32m    921\u001b[39m \u001b[43m    \u001b[49m\u001b[38;5;28;43mself\u001b[39;49m\u001b[43m.\u001b[49m\u001b[43m_probB\u001b[49m\u001b[43m,\u001b[49m\n\u001b[32m    922\u001b[39m \u001b[43m    \u001b[49m\u001b[43msvm_type\u001b[49m\u001b[43m=\u001b[49m\u001b[43msvm_type\u001b[49m\u001b[43m,\u001b[49m\n\u001b[32m    923\u001b[39m \u001b[43m    \u001b[49m\u001b[43mkernel\u001b[49m\u001b[43m=\u001b[49m\u001b[43mkernel\u001b[49m\u001b[43m,\u001b[49m\n\u001b[32m    924\u001b[39m \u001b[43m    \u001b[49m\u001b[43mdegree\u001b[49m\u001b[43m=\u001b[49m\u001b[38;5;28;43mself\u001b[39;49m\u001b[43m.\u001b[49m\u001b[43mdegree\u001b[49m\u001b[43m,\u001b[49m\n\u001b[32m    925\u001b[39m \u001b[43m    \u001b[49m\u001b[43mcache_size\u001b[49m\u001b[43m=\u001b[49m\u001b[38;5;28;43mself\u001b[39;49m\u001b[43m.\u001b[49m\u001b[43mcache_size\u001b[49m\u001b[43m,\u001b[49m\n\u001b[32m    926\u001b[39m \u001b[43m    \u001b[49m\u001b[43mcoef0\u001b[49m\u001b[43m=\u001b[49m\u001b[38;5;28;43mself\u001b[39;49m\u001b[43m.\u001b[49m\u001b[43mcoef0\u001b[49m\u001b[43m,\u001b[49m\n\u001b[32m    927\u001b[39m \u001b[43m    \u001b[49m\u001b[43mgamma\u001b[49m\u001b[43m=\u001b[49m\u001b[38;5;28;43mself\u001b[39;49m\u001b[43m.\u001b[49m\u001b[43m_gamma\u001b[49m\u001b[43m,\u001b[49m\n\u001b[32m    928\u001b[39m \u001b[43m\u001b[49m\u001b[43m)\u001b[49m\n\u001b[32m    930\u001b[39m \u001b[38;5;28;01mreturn\u001b[39;00m pprob\n",
            "\u001b[31mKeyboardInterrupt\u001b[39m: "
          ]
        }
      ],
      "source": [
        "import shap\n",
        "import matplotlib.pyplot as plt\n",
        "import numpy as np\n",
        "from sklearn.preprocessing import StandardScaler\n",
        "from sklearn.pipeline import make_pipeline\n",
        "from sklearn.impute import SimpleImputer\n",
        "from sklearn.svm import SVC\n",
        "from sklearn.metrics import accuracy_score, confusion_matrix, classification_report\n",
        "\n",
        "svm_model = make_pipeline(\n",
        "    SimpleImputer(missing_values=np.nan, strategy='mean'),\n",
        "    StandardScaler(),\n",
        "    SVC(kernel='rbf', C=1.0, gamma='scale', random_state=42, probability=True)  \n",
        ")\n",
        "svm_model.fit(X_train, y_train)\n",
        "\n",
        "y_pred = svm_model.predict(X_test)\n",
        "print(\"Acuracy:\", accuracy_score(y_test, y_pred))\n",
        "print(\"\\nConfusion Matrix:\\n\", confusion_matrix(y_test, y_pred))\n",
        "print(\"\\nClassification Report:\\n\", classification_report(y_test, y_pred))\n",
        "\n",
        "\n",
        "svc = svm_model.named_steps['svc']\n",
        "\n",
        "X_train_proc = svm_model.named_steps['standardscaler'].transform(\n",
        "    svm_model.named_steps['simpleimputer'].transform(X_train)\n",
        ")\n",
        "X_test_proc = svm_model.named_steps['standardscaler'].transform(\n",
        "    svm_model.named_steps['simpleimputer'].transform(X_test)\n",
        ")\n",
        "\n",
        "explainer = shap.KernelExplainer(svc.predict_proba, shap.sample(X_train_proc, 100))  \n",
        "shap_values = explainer.shap_values(shap.sample(X_test_proc, 100))  \n",
        "\n",
        "\n",
        "plt.title(\"Variable Importances - SHAP (SVM)\")\n",
        "shap.summary_plot(shap_values, shap.sample(X_test_proc, 100), feature_names=X_resampled.columns)\n"
      ]
    },
    {
      "cell_type": "markdown",
      "metadata": {
        "id": "gZw5huLcNqOf"
      },
      "source": [
        "XGBoost"
      ]
    },
    {
      "cell_type": "code",
      "execution_count": null,
      "metadata": {
        "colab": {
          "base_uri": "https://localhost:8080/"
        },
        "id": "dl1w3UbxOlON",
        "outputId": "45ef0331-a5e4-4ca0-d908-19d60abe8d1c"
      },
      "outputs": [
        {
          "name": "stdout",
          "output_type": "stream",
          "text": [
            "Acuracy: 0.8158896289248335\n",
            "\n",
            "Confusion Matrix:\n",
            " [[942 142]\n",
            " [245 773]]\n",
            "\n",
            "Classification Report:\n",
            "               precision    recall  f1-score   support\n",
            "\n",
            "           0       0.79      0.87      0.83      1084\n",
            "           1       0.84      0.76      0.80      1018\n",
            "\n",
            "    accuracy                           0.82      2102\n",
            "   macro avg       0.82      0.81      0.81      2102\n",
            "weighted avg       0.82      0.82      0.82      2102\n",
            "\n"
          ]
        },
        {
          "name": "stderr",
          "output_type": "stream",
          "text": [
            "c:\\Users\\natal\\Github\\Death-Prediction-Analysis-Congenital-Syphilis\\.venv\\Lib\\site-packages\\xgboost\\training.py:199: UserWarning: [00:20:22] WARNING: C:\\actions-runner\\_work\\xgboost\\xgboost\\src\\learner.cc:790: \n",
            "Parameters: { \"use_label_encoder\" } are not used.\n",
            "\n",
            "  bst.update(dtrain, iteration=i, fobj=obj)\n"
          ]
        }
      ],
      "source": [
        "from sklearn.model_selection import train_test_split\n",
        "from sklearn.preprocessing import StandardScaler\n",
        "from sklearn.pipeline import make_pipeline\n",
        "from sklearn.metrics import accuracy_score, confusion_matrix, classification_report\n",
        "from xgboost import XGBClassifier\n",
        "\n",
        "X_train, X_test, y_train, y_test = train_test_split(\n",
        "    X_resampled, y_resampled, test_size=0.3, random_state=42\n",
        ")\n",
        "\n",
        "xgb_model = make_pipeline(\n",
        "    StandardScaler(),  \n",
        "    XGBClassifier(\n",
        "        n_estimators=200,        \n",
        "        learning_rate=0.1,       \n",
        "        max_depth=3,             \n",
        "        subsample=0.8,           \n",
        "        colsample_bytree=0.8,    \n",
        "        random_state=42,\n",
        "        use_label_encoder=False, \n",
        "        eval_metric='logloss'    \n",
        "    )\n",
        ")\n",
        "\n",
        "xgb_model.fit(X_train, y_train)\n",
        "\n",
        "y_pred_xgb = xgb_model.predict(X_test)\n",
        "\n",
        "\n",
        "print(\"Acuracy:\", accuracy_score(y_test, y_pred_xgb))\n",
        "print(\"\\nConfusion Matrix:\\n\", confusion_matrix(y_test, y_pred_xgb))\n",
        "print(\"\\nClassification Report:\\n\", classification_report(y_test, y_pred_xgb))\n"
      ]
    },
    {
      "cell_type": "markdown",
      "metadata": {
        "id": "QVc8Xl5UPaMk"
      },
      "source": [
        "Com gridsearch"
      ]
    },
    {
      "cell_type": "code",
      "execution_count": 95,
      "metadata": {
        "colab": {
          "base_uri": "https://localhost:8080/"
        },
        "id": "0M5hxHKdPZud",
        "outputId": "d84b9fd7-8774-4cb7-96e9-754e769e5262"
      },
      "outputs": [
        {
          "name": "stdout",
          "output_type": "stream",
          "text": [
            "Fitting 5 folds for each of 108 candidates, totalling 540 fits\n"
          ]
        },
        {
          "name": "stderr",
          "output_type": "stream",
          "text": [
            "c:\\Users\\natal\\Github\\Death-Prediction-Analysis-Congenital-Syphilis\\.venv\\Lib\\site-packages\\xgboost\\training.py:199: UserWarning: [00:39:07] WARNING: C:\\actions-runner\\_work\\xgboost\\xgboost\\src\\learner.cc:790: \n",
            "Parameters: { \"use_label_encoder\" } are not used.\n",
            "\n",
            "  bst.update(dtrain, iteration=i, fobj=obj)\n"
          ]
        },
        {
          "name": "stdout",
          "output_type": "stream",
          "text": [
            "Melhores parâmetros encontrados:\n",
            "{'xgbclassifier__colsample_bytree': 0.8, 'xgbclassifier__learning_rate': 0.1, 'xgbclassifier__max_depth': 3, 'xgbclassifier__n_estimators': 200, 'xgbclassifier__subsample': 1.0}\n",
            "Acuracy: 0.8154138915318744\n",
            "\n",
            "Confusion Matrix:\n",
            " [[945 139]\n",
            " [249 769]]\n",
            "\n",
            "Classification Report:\n",
            "               precision    recall  f1-score   support\n",
            "\n",
            "           0       0.79      0.87      0.83      1084\n",
            "           1       0.85      0.76      0.80      1018\n",
            "\n",
            "    accuracy                           0.82      2102\n",
            "   macro avg       0.82      0.81      0.81      2102\n",
            "weighted avg       0.82      0.82      0.81      2102\n",
            "\n"
          ]
        }
      ],
      "source": [
        "from sklearn.model_selection import train_test_split, GridSearchCV\n",
        "from sklearn.preprocessing import StandardScaler\n",
        "from sklearn.pipeline import make_pipeline\n",
        "from sklearn.metrics import accuracy_score, confusion_matrix, classification_report\n",
        "from xgboost import XGBClassifier\n",
        "\n",
        "X_train, X_test, y_train, y_test = train_test_split(\n",
        "    X_resampled, y_resampled, test_size=0.3, random_state=42\n",
        ")\n",
        "\n",
        "pipeline = make_pipeline(\n",
        "    StandardScaler(),\n",
        "    XGBClassifier(\n",
        "        use_label_encoder=False,\n",
        "        eval_metric='logloss',\n",
        "        random_state=42\n",
        "    )\n",
        ")\n",
        "\n",
        "param_grid = {\n",
        "    'xgbclassifier__n_estimators': [100, 200, 300],\n",
        "    'xgbclassifier__learning_rate': [0.01, 0.1, 0.2],\n",
        "    'xgbclassifier__max_depth': [3, 5, 7],\n",
        "    'xgbclassifier__subsample': [0.8, 1.0],\n",
        "    'xgbclassifier__colsample_bytree': [0.8, 1.0]\n",
        "}\n",
        "\n",
        "grid_search = GridSearchCV(\n",
        "    estimator=pipeline,\n",
        "    param_grid=param_grid,\n",
        "    scoring='accuracy',\n",
        "    cv=5,\n",
        "    n_jobs=-1,\n",
        "    verbose=2\n",
        ")\n",
        "\n",
        "grid_search.fit(X_train, y_train)\n",
        "\n",
        "print(\"Melhores parâmetros encontrados:\")\n",
        "print(grid_search.best_params_)\n",
        "\n",
        "\n",
        "best_model = grid_search.best_estimator_\n",
        "y_pred_xgb = best_model.predict(X_test)\n",
        "\n",
        "\n",
        "print(\"Acuracy:\", accuracy_score(y_test, y_pred_xgb))\n",
        "print(\"\\nConfusion Matrix:\\n\", confusion_matrix(y_test, y_pred_xgb))\n",
        "print(\"\\nClassification Report:\\n\", classification_report(y_test, y_pred_xgb))\n"
      ]
    },
    {
      "cell_type": "code",
      "execution_count": 96,
      "metadata": {
        "colab": {
          "base_uri": "https://localhost:8080/",
          "height": 840
        },
        "id": "kRSaq-ICRLSG",
        "outputId": "8894ecb6-cdbb-4b9d-c02f-7960ff77044a"
      },
      "outputs": [
        {
          "name": "stdout",
          "output_type": "stream",
          "text": [
            "          Variable  Importance\n",
            "84      HEPATO_2.0    0.154540\n",
            "66    TRA_ESQU_1_5    0.095200\n",
            "59  TRA_DIAG_T_2.0    0.065256\n",
            "80  CLI_ESPLEN_2.0    0.062724\n",
            "72  CLI_RINITE_2.0    0.046766\n",
            "76  CLI_ANEMIA_2.0    0.045984\n",
            "2           ABORTO    0.045867\n",
            "92      LESOES_2.0    0.041645\n",
            "3        NATIMORTO    0.033789\n",
            "60  TRA_DIAG_T_3.0    0.033555\n",
            "71  CLI_ICTERI_nan    0.028486\n",
            "96  CLI_PSEUDO_2.0    0.028070\n",
            "79  CLI_ANEMIA_nan    0.026809\n",
            "50    ANTSIFIL_N_2    0.020308\n",
            "73  CLI_RINITE_3.0    0.017247\n"
          ]
        },
        {
          "data": {
            "image/png": "[encoded data removed]",
            "text/plain": [
              "<Figure size 1000x600 with 1 Axes>"
            ]
          },
          "metadata": {},
          "output_type": "display_data"
        }
      ],
      "source": [
        "import pandas as pd\n",
        "import matplotlib.pyplot as plt\n",
        "from xgboost import XGBClassifier\n",
        "\n",
        "\n",
        "xgb_final = best_model.named_steps['xgbclassifier']\n",
        "\n",
        "\n",
        "importances = xgb_final.feature_importances_\n",
        "feature_names = X_resampled.columns\n",
        "\n",
        "\n",
        "importance_df = pd.DataFrame({\n",
        "    'Variable': feature_names,\n",
        "    'Importance': importances\n",
        "}).sort_values(by='Importance', ascending=False)\n",
        "\n",
        "\n",
        "print(importance_df.head(15))\n",
        "\n",
        "\n",
        "plt.figure(figsize=(10, 6))\n",
        "plt.barh(importance_df['Variable'].head(10), importance_df['Importance'].head(10))\n",
        "plt.gca().invert_yaxis()\n",
        "plt.title('Importance of Variables (XGBoost)', fontsize=14)\n",
        "plt.xlabel('Importance')\n",
        "plt.ylabel('Variable')\n",
        "plt.tight_layout()\n",
        "plt.show()\n"
      ]
    },
    {
      "cell_type": "code",
      "execution_count": 98,
      "metadata": {},
      "outputs": [
        {
          "name": "stdout",
          "output_type": "stream",
          "text": [
            "\n",
            "Model Performance Comparison:\n",
            "\n",
            "╒═══════════════╤════════════╤═════════════╤══════════╤════════════╕\n",
            "│ Model         │   Accuracy │   Precision │   Recall │   F1-score │\n",
            "╞═══════════════╪════════════╪═════════════╪══════════╪════════════╡\n",
            "│ XGBoost       │      0.815 │       0.818 │    0.815 │      0.815 │\n",
            "├───────────────┼────────────┼─────────────┼──────────┼────────────┤\n",
            "│ Random Forest │      0.811 │       0.812 │    0.811 │      0.81  │\n",
            "├───────────────┼────────────┼─────────────┼──────────┼────────────┤\n",
            "│ SVM (RBF)     │      0.797 │       0.801 │    0.797 │      0.796 │\n",
            "├───────────────┼────────────┼─────────────┼──────────┼────────────┤\n",
            "│ CatBoost      │      0.784 │       0.784 │    0.784 │      0.783 │\n",
            "╘═══════════════╧════════════╧═════════════╧══════════╧════════════╛\n"
          ]
        }
      ],
      "source": [
        "from tabulate import tabulate\n",
        "\n",
        "def calc_metrics(y_true, y_pred, model_name):\n",
        "    return {\n",
        "        \"Model\": model_name,\n",
        "        \"Accuracy\": accuracy_score(y_true, y_pred),\n",
        "        \"Precision\": precision_score(y_true, y_pred, average=\"weighted\", zero_division=0),\n",
        "        \"Recall\": recall_score(y_true, y_pred, average=\"weighted\", zero_division=0),\n",
        "        \"F1-score\": f1_score(y_true, y_pred, average=\"weighted\", zero_division=0)\n",
        "    }\n",
        "\n",
        "results = []\n",
        "\n",
        "results.append(calc_metrics(y_test, y_pred_catboost, \"CatBoost\"))\n",
        "results.append(calc_metrics(y_test, y_pred_rf, \"Random Forest\"))\n",
        "results.append(calc_metrics(y_test, y_pred_svm, \"SVM (RBF)\"))\n",
        "results.append(calc_metrics(y_test, y_pred_xgb, \"XGBoost\"))\n",
        "\n",
        "\n",
        "df_results = pd.DataFrame(results).round(3)\n",
        "df_results = df_results.sort_values(by=\"F1-score\", ascending=False).reset_index(drop=True)\n",
        "\n",
        "print(\"\\nModel Performance Comparison:\\n\")\n",
        "print(tabulate(df_results, headers=\"keys\", tablefmt=\"fancy_grid\", showindex=False))"
      ]
    }
  ],
  "metadata": {
    "colab": {
      "provenance": []
    },
    "kernelspec": {
      "display_name": ".venv",
      "language": "python",
      "name": "python3"
    },
    "language_info": {
      "codemirror_mode": {
        "name": "ipython",
        "version": 3
      },
      "file_extension": ".py",
      "mimetype": "text/x-python",
      "name": "python",
      "nbconvert_exporter": "python",
      "pygments_lexer": "ipython3",
      "version": "3.13.9"
    }
  },
  "nbformat": 4,
  "nbformat_minor": 0
}
