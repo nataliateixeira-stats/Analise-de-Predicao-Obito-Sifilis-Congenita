{
  "cells": [
    {
      "cell_type": "markdown",
      "metadata": {
        "id": "Adrj0xv0j8uO"
      },
      "source": [
        "# Packages"
      ]
    },
    {
      "cell_type": "code",
      "execution_count": 7,
      "metadata": {
        "colab": {
          "base_uri": "https://localhost:8080/"
        },
        "id": "af9a07c4-a835-43a5-8b3d-a92c282b1dec",
        "outputId": "d8e1c4db-0073-4c6d-effc-8a04a5c326ae"
      },
      "outputs": [
        {
          "name": "stdout",
          "output_type": "stream",
          "text": [
            "Requirement already satisfied: catboost in c:\\users\\natal\\github\\analise-de-predicao-obito-sifilis-congenita\\.venv\\lib\\site-packages (1.2.8)\n",
            "Requirement already satisfied: graphviz in c:\\users\\natal\\github\\analise-de-predicao-obito-sifilis-congenita\\.venv\\lib\\site-packages (from catboost) (0.21)\n",
            "Requirement already satisfied: matplotlib in c:\\users\\natal\\github\\analise-de-predicao-obito-sifilis-congenita\\.venv\\lib\\site-packages (from catboost) (3.10.7)\n",
            "Requirement already satisfied: numpy<3.0,>=1.16.0 in c:\\users\\natal\\github\\analise-de-predicao-obito-sifilis-congenita\\.venv\\lib\\site-packages (from catboost) (2.3.4)\n",
            "Requirement already satisfied: pandas>=0.24 in c:\\users\\natal\\github\\analise-de-predicao-obito-sifilis-congenita\\.venv\\lib\\site-packages (from catboost) (2.3.3)\n",
            "Requirement already satisfied: scipy in c:\\users\\natal\\github\\analise-de-predicao-obito-sifilis-congenita\\.venv\\lib\\site-packages (from catboost) (1.16.2)\n",
            "Requirement already satisfied: plotly in c:\\users\\natal\\github\\analise-de-predicao-obito-sifilis-congenita\\.venv\\lib\\site-packages (from catboost) (6.3.1)\n",
            "Requirement already satisfied: six in c:\\users\\natal\\github\\analise-de-predicao-obito-sifilis-congenita\\.venv\\lib\\site-packages (from catboost) (1.17.0)\n",
            "Requirement already satisfied: python-dateutil>=2.8.2 in c:\\users\\natal\\github\\analise-de-predicao-obito-sifilis-congenita\\.venv\\lib\\site-packages (from pandas>=0.24->catboost) (2.9.0.post0)\n",
            "Requirement already satisfied: pytz>=2020.1 in c:\\users\\natal\\github\\analise-de-predicao-obito-sifilis-congenita\\.venv\\lib\\site-packages (from pandas>=0.24->catboost) (2025.2)\n",
            "Requirement already satisfied: tzdata>=2022.7 in c:\\users\\natal\\github\\analise-de-predicao-obito-sifilis-congenita\\.venv\\lib\\site-packages (from pandas>=0.24->catboost) (2025.2)\n",
            "Requirement already satisfied: contourpy>=1.0.1 in c:\\users\\natal\\github\\analise-de-predicao-obito-sifilis-congenita\\.venv\\lib\\site-packages (from matplotlib->catboost) (1.3.3)\n",
            "Requirement already satisfied: cycler>=0.10 in c:\\users\\natal\\github\\analise-de-predicao-obito-sifilis-congenita\\.venv\\lib\\site-packages (from matplotlib->catboost) (0.12.1)\n",
            "Requirement already satisfied: fonttools>=4.22.0 in c:\\users\\natal\\github\\analise-de-predicao-obito-sifilis-congenita\\.venv\\lib\\site-packages (from matplotlib->catboost) (4.60.1)\n",
            "Requirement already satisfied: kiwisolver>=1.3.1 in c:\\users\\natal\\github\\analise-de-predicao-obito-sifilis-congenita\\.venv\\lib\\site-packages (from matplotlib->catboost) (1.4.9)\n",
            "Requirement already satisfied: packaging>=20.0 in c:\\users\\natal\\github\\analise-de-predicao-obito-sifilis-congenita\\.venv\\lib\\site-packages (from matplotlib->catboost) (25.0)\n",
            "Requirement already satisfied: pillow>=8 in c:\\users\\natal\\github\\analise-de-predicao-obito-sifilis-congenita\\.venv\\lib\\site-packages (from matplotlib->catboost) (12.0.0)\n",
            "Requirement already satisfied: pyparsing>=3 in c:\\users\\natal\\github\\analise-de-predicao-obito-sifilis-congenita\\.venv\\lib\\site-packages (from matplotlib->catboost) (3.2.5)\n",
            "Requirement already satisfied: narwhals>=1.15.1 in c:\\users\\natal\\github\\analise-de-predicao-obito-sifilis-congenita\\.venv\\lib\\site-packages (from plotly->catboost) (2.10.0)\n"
          ]
        },
        {
          "name": "stderr",
          "output_type": "stream",
          "text": [
            "\n",
            "[notice] A new release of pip is available: 25.2 -> 25.3\n",
            "[notice] To update, run: python.exe -m pip install --upgrade pip\n"
          ]
        }
      ],
      "source": [
        "!pip install catboost"
      ]
    },
    {
      "cell_type": "code",
      "execution_count": 9,
      "metadata": {},
      "outputs": [
        {
          "name": "stdout",
          "output_type": "stream",
          "text": [
            "Collecting scikit-learn\n",
            "  Downloading scikit_learn-1.7.2-cp313-cp313-win_amd64.whl.metadata (11 kB)\n",
            "Requirement already satisfied: numpy>=1.22.0 in c:\\users\\natal\\github\\analise-de-predicao-obito-sifilis-congenita\\.venv\\lib\\site-packages (from scikit-learn) (2.3.4)\n",
            "Requirement already satisfied: scipy>=1.8.0 in c:\\users\\natal\\github\\analise-de-predicao-obito-sifilis-congenita\\.venv\\lib\\site-packages (from scikit-learn) (1.16.2)\n",
            "Collecting joblib>=1.2.0 (from scikit-learn)\n",
            "  Downloading joblib-1.5.2-py3-none-any.whl.metadata (5.6 kB)\n",
            "Collecting threadpoolctl>=3.1.0 (from scikit-learn)\n",
            "  Downloading threadpoolctl-3.6.0-py3-none-any.whl.metadata (13 kB)\n",
            "Downloading scikit_learn-1.7.2-cp313-cp313-win_amd64.whl (8.7 MB)\n",
            "   ---------------------------------------- 0.0/8.7 MB ? eta -:--:--\n",
            "   ------------- -------------------------- 2.9/8.7 MB 19.1 MB/s eta 0:00:01\n",
            "   ---------------------------------------  8.7/8.7 MB 24.6 MB/s eta 0:00:01\n",
            "   ---------------------------------------- 8.7/8.7 MB 21.5 MB/s  0:00:00\n",
            "Downloading joblib-1.5.2-py3-none-any.whl (308 kB)\n",
            "Downloading threadpoolctl-3.6.0-py3-none-any.whl (18 kB)\n",
            "Installing collected packages: threadpoolctl, joblib, scikit-learn\n",
            "\n",
            "   ------------- -------------------------- 1/3 [joblib]\n",
            "   ------------- -------------------------- 1/3 [joblib]\n",
            "   ------------- -------------------------- 1/3 [joblib]\n",
            "   ------------- -------------------------- 1/3 [joblib]\n",
            "   ------------- -------------------------- 1/3 [joblib]\n",
            "   ------------- -------------------------- 1/3 [joblib]\n",
            "   ------------- -------------------------- 1/3 [joblib]\n",
            "   ------------- -------------------------- 1/3 [joblib]\n",
            "   ------------- -------------------------- 1/3 [joblib]\n",
            "   ------------- -------------------------- 1/3 [joblib]\n",
            "   ------------- -------------------------- 1/3 [joblib]\n",
            "   ------------- -------------------------- 1/3 [joblib]\n",
            "   ------------- -------------------------- 1/3 [joblib]\n",
            "   ------------- -------------------------- 1/3 [joblib]\n",
            "   -------------------------- ------------- 2/3 [scikit-learn]\n",
            "   -------------------------- ------------- 2/3 [scikit-learn]\n",
            "   -------------------------- ------------- 2/3 [scikit-learn]\n",
            "   -------------------------- ------------- 2/3 [scikit-learn]\n",
            "   -------------------------- ------------- 2/3 [scikit-learn]\n",
            "   -------------------------- ------------- 2/3 [scikit-learn]\n",
            "   -------------------------- ------------- 2/3 [scikit-learn]\n",
            "   -------------------------- ------------- 2/3 [scikit-learn]\n",
            "   -------------------------- ------------- 2/3 [scikit-learn]\n",
            "   -------------------------- ------------- 2/3 [scikit-learn]\n",
            "   -------------------------- ------------- 2/3 [scikit-learn]\n",
            "   -------------------------- ------------- 2/3 [scikit-learn]\n",
            "   -------------------------- ------------- 2/3 [scikit-learn]\n",
            "   -------------------------- ------------- 2/3 [scikit-learn]\n",
            "   -------------------------- ------------- 2/3 [scikit-learn]\n",
            "   -------------------------- ------------- 2/3 [scikit-learn]\n",
            "   -------------------------- ------------- 2/3 [scikit-learn]\n",
            "   -------------------------- ------------- 2/3 [scikit-learn]\n",
            "   -------------------------- ------------- 2/3 [scikit-learn]\n",
            "   -------------------------- ------------- 2/3 [scikit-learn]\n",
            "   -------------------------- ------------- 2/3 [scikit-learn]\n",
            "   -------------------------- ------------- 2/3 [scikit-learn]\n",
            "   -------------------------- ------------- 2/3 [scikit-learn]\n",
            "   -------------------------- ------------- 2/3 [scikit-learn]\n",
            "   -------------------------- ------------- 2/3 [scikit-learn]\n",
            "   -------------------------- ------------- 2/3 [scikit-learn]\n",
            "   -------------------------- ------------- 2/3 [scikit-learn]\n",
            "   -------------------------- ------------- 2/3 [scikit-learn]\n",
            "   -------------------------- ------------- 2/3 [scikit-learn]\n",
            "   -------------------------- ------------- 2/3 [scikit-learn]\n",
            "   -------------------------- ------------- 2/3 [scikit-learn]\n",
            "   -------------------------- ------------- 2/3 [scikit-learn]\n",
            "   -------------------------- ------------- 2/3 [scikit-learn]\n",
            "   -------------------------- ------------- 2/3 [scikit-learn]\n",
            "   -------------------------- ------------- 2/3 [scikit-learn]\n",
            "   -------------------------- ------------- 2/3 [scikit-learn]\n",
            "   -------------------------- ------------- 2/3 [scikit-learn]\n",
            "   -------------------------- ------------- 2/3 [scikit-learn]\n",
            "   -------------------------- ------------- 2/3 [scikit-learn]\n",
            "   -------------------------- ------------- 2/3 [scikit-learn]\n",
            "   -------------------------- ------------- 2/3 [scikit-learn]\n",
            "   -------------------------- ------------- 2/3 [scikit-learn]\n",
            "   -------------------------- ------------- 2/3 [scikit-learn]\n",
            "   -------------------------- ------------- 2/3 [scikit-learn]\n",
            "   -------------------------- ------------- 2/3 [scikit-learn]\n",
            "   -------------------------- ------------- 2/3 [scikit-learn]\n",
            "   -------------------------- ------------- 2/3 [scikit-learn]\n",
            "   -------------------------- ------------- 2/3 [scikit-learn]\n",
            "   -------------------------- ------------- 2/3 [scikit-learn]\n",
            "   -------------------------- ------------- 2/3 [scikit-learn]\n",
            "   -------------------------- ------------- 2/3 [scikit-learn]\n",
            "   -------------------------- ------------- 2/3 [scikit-learn]\n",
            "   -------------------------- ------------- 2/3 [scikit-learn]\n",
            "   -------------------------- ------------- 2/3 [scikit-learn]\n",
            "   -------------------------- ------------- 2/3 [scikit-learn]\n",
            "   -------------------------- ------------- 2/3 [scikit-learn]\n",
            "   -------------------------- ------------- 2/3 [scikit-learn]\n",
            "   -------------------------- ------------- 2/3 [scikit-learn]\n",
            "   -------------------------- ------------- 2/3 [scikit-learn]\n",
            "   -------------------------- ------------- 2/3 [scikit-learn]\n",
            "   -------------------------- ------------- 2/3 [scikit-learn]\n",
            "   -------------------------- ------------- 2/3 [scikit-learn]\n",
            "   -------------------------- ------------- 2/3 [scikit-learn]\n",
            "   -------------------------- ------------- 2/3 [scikit-learn]\n",
            "   -------------------------- ------------- 2/3 [scikit-learn]\n",
            "   -------------------------- ------------- 2/3 [scikit-learn]\n",
            "   -------------------------- ------------- 2/3 [scikit-learn]\n",
            "   -------------------------- ------------- 2/3 [scikit-learn]\n",
            "   -------------------------- ------------- 2/3 [scikit-learn]\n",
            "   -------------------------- ------------- 2/3 [scikit-learn]\n",
            "   -------------------------- ------------- 2/3 [scikit-learn]\n",
            "   -------------------------- ------------- 2/3 [scikit-learn]\n",
            "   -------------------------- ------------- 2/3 [scikit-learn]\n",
            "   -------------------------- ------------- 2/3 [scikit-learn]\n",
            "   -------------------------- ------------- 2/3 [scikit-learn]\n",
            "   -------------------------- ------------- 2/3 [scikit-learn]\n",
            "   -------------------------- ------------- 2/3 [scikit-learn]\n",
            "   -------------------------- ------------- 2/3 [scikit-learn]\n",
            "   -------------------------- ------------- 2/3 [scikit-learn]\n",
            "   -------------------------- ------------- 2/3 [scikit-learn]\n",
            "   -------------------------- ------------- 2/3 [scikit-learn]\n",
            "   -------------------------- ------------- 2/3 [scikit-learn]\n",
            "   -------------------------- ------------- 2/3 [scikit-learn]\n",
            "   -------------------------- ------------- 2/3 [scikit-learn]\n",
            "   -------------------------- ------------- 2/3 [scikit-learn]\n",
            "   -------------------------- ------------- 2/3 [scikit-learn]\n",
            "   -------------------------- ------------- 2/3 [scikit-learn]\n",
            "   -------------------------- ------------- 2/3 [scikit-learn]\n",
            "   -------------------------- ------------- 2/3 [scikit-learn]\n",
            "   -------------------------- ------------- 2/3 [scikit-learn]\n",
            "   -------------------------- ------------- 2/3 [scikit-learn]\n",
            "   -------------------------- ------------- 2/3 [scikit-learn]\n",
            "   -------------------------- ------------- 2/3 [scikit-learn]\n",
            "   -------------------------- ------------- 2/3 [scikit-learn]\n",
            "   -------------------------- ------------- 2/3 [scikit-learn]\n",
            "   -------------------------- ------------- 2/3 [scikit-learn]\n",
            "   -------------------------- ------------- 2/3 [scikit-learn]\n",
            "   -------------------------- ------------- 2/3 [scikit-learn]\n",
            "   -------------------------- ------------- 2/3 [scikit-learn]\n",
            "   -------------------------- ------------- 2/3 [scikit-learn]\n",
            "   -------------------------- ------------- 2/3 [scikit-learn]\n",
            "   -------------------------- ------------- 2/3 [scikit-learn]\n",
            "   -------------------------- ------------- 2/3 [scikit-learn]\n",
            "   -------------------------- ------------- 2/3 [scikit-learn]\n",
            "   -------------------------- ------------- 2/3 [scikit-learn]\n",
            "   -------------------------- ------------- 2/3 [scikit-learn]\n",
            "   -------------------------- ------------- 2/3 [scikit-learn]\n",
            "   -------------------------- ------------- 2/3 [scikit-learn]\n",
            "   -------------------------- ------------- 2/3 [scikit-learn]\n",
            "   -------------------------- ------------- 2/3 [scikit-learn]\n",
            "   -------------------------- ------------- 2/3 [scikit-learn]\n",
            "   -------------------------- ------------- 2/3 [scikit-learn]\n",
            "   -------------------------- ------------- 2/3 [scikit-learn]\n",
            "   ---------------------------------------- 3/3 [scikit-learn]\n",
            "\n",
            "Successfully installed joblib-1.5.2 scikit-learn-1.7.2 threadpoolctl-3.6.0\n"
          ]
        },
        {
          "name": "stderr",
          "output_type": "stream",
          "text": [
            "\n",
            "[notice] A new release of pip is available: 25.2 -> 25.3\n",
            "[notice] To update, run: python.exe -m pip install --upgrade pip\n"
          ]
        }
      ],
      "source": [
        "!pip install scikit-learn"
      ]
    },
    {
      "cell_type": "code",
      "execution_count": 10,
      "metadata": {
        "id": "2lXBxd9shpcL"
      },
      "outputs": [],
      "source": [
        "from sklearn.ensemble import RandomForestClassifier\n",
        "from catboost import CatBoostClassifier\n",
        "from sklearn.metrics import classification_report, accuracy_score\n",
        "from sklearn.model_selection import train_test_split\n",
        "from sklearn.utils import resample\n",
        "from sklearn.preprocessing import LabelEncoder\n",
        "from sklearn.preprocessing import OneHotEncoder\n",
        "import pandas as pd"
      ]
    },
    {
      "cell_type": "markdown",
      "metadata": {
        "id": "VLvSIrWhkFUe"
      },
      "source": [
        "# Data"
      ]
    },
    {
      "cell_type": "code",
      "execution_count": 12,
      "metadata": {
        "colab": {
          "base_uri": "https://localhost:8080/"
        },
        "id": "AwfwCRhYnpX3",
        "outputId": "32d1b6c1-b706-40f7-8fd1-d23ce066e480"
      },
      "outputs": [
        {
          "name": "stderr",
          "output_type": "stream",
          "text": [
            "C:\\Users\\natal\\AppData\\Local\\Temp\\ipykernel_13908\\2131881834.py:1: DtypeWarning: Columns (14,19,36,42) have mixed types. Specify dtype option on import or set low_memory=False.\n",
            "  data_cleaned = pd.read_csv(r'C:\\Users\\natal\\Github\\Analise-de-Predicao-Obito-Sifilis-Congenita\\data\\clean_data.csv', encoding='latin1')\n"
          ]
        }
      ],
      "source": [
        "data_cleaned = pd.read_csv(r'C:\\Users\\natal\\Github\\Analise-de-Predicao-Obito-Sifilis-Congenita\\data\\clean_data.csv', encoding='latin1')"
      ]
    },
    {
      "cell_type": "code",
      "execution_count": 13,
      "metadata": {
        "colab": {
          "base_uri": "https://localhost:8080/",
          "height": 360
        },
        "id": "HAj4cZo3nu9F",
        "outputId": "3b5a8219-7d00-4ee0-907e-d05013bc3c7b"
      },
      "outputs": [
        {
          "data": {
            "text/html": [
              "<div>\n",
              "<style scoped>\n",
              "    .dataframe tbody tr th:only-of-type {\n",
              "        vertical-align: middle;\n",
              "    }\n",
              "\n",
              "    .dataframe tbody tr th {\n",
              "        vertical-align: top;\n",
              "    }\n",
              "\n",
              "    .dataframe thead th {\n",
              "        text-align: right;\n",
              "    }\n",
              "</style>\n",
              "<table border=\"1\" class=\"dataframe\">\n",
              "  <thead>\n",
              "    <tr style=\"text-align: right;\">\n",
              "      <th></th>\n",
              "      <th>Unnamed: 0</th>\n",
              "      <th>tp_not</th>\n",
              "      <th>sem_not</th>\n",
              "      <th>id_agravo</th>\n",
              "      <th>dt_notific</th>\n",
              "      <th>nu_ano</th>\n",
              "      <th>sg_uf_not</th>\n",
              "      <th>id_municip</th>\n",
              "      <th>id_regiona</th>\n",
              "      <th>dt_diag</th>\n",
              "      <th>...</th>\n",
              "      <th>cli_icteri</th>\n",
              "      <th>cli_rinite</th>\n",
              "      <th>cli_anemia</th>\n",
              "      <th>cli_esplen</th>\n",
              "      <th>hepato</th>\n",
              "      <th>cli_osteo</th>\n",
              "      <th>lesoes</th>\n",
              "      <th>cli_outro</th>\n",
              "      <th>sin_outr_e</th>\n",
              "      <th>cli_pseudo</th>\n",
              "    </tr>\n",
              "  </thead>\n",
              "  <tbody>\n",
              "    <tr>\n",
              "      <th>0</th>\n",
              "      <td>1</td>\n",
              "      <td>2</td>\n",
              "      <td>201334.0</td>\n",
              "      <td>A509</td>\n",
              "      <td>2013-08-22</td>\n",
              "      <td>2013</td>\n",
              "      <td>42</td>\n",
              "      <td>420395</td>\n",
              "      <td>1555.0</td>\n",
              "      <td>2007-12-01</td>\n",
              "      <td>...</td>\n",
              "      <td>2.0</td>\n",
              "      <td>2.0</td>\n",
              "      <td>2.0</td>\n",
              "      <td>2.0</td>\n",
              "      <td>2.0</td>\n",
              "      <td>2.0</td>\n",
              "      <td>2.0</td>\n",
              "      <td>1.0</td>\n",
              "      <td>ENCEFALOPATIA</td>\n",
              "      <td>2.0</td>\n",
              "    </tr>\n",
              "    <tr>\n",
              "      <th>1</th>\n",
              "      <td>2</td>\n",
              "      <td>2</td>\n",
              "      <td>1307.0</td>\n",
              "      <td>A509</td>\n",
              "      <td>2013-02-15</td>\n",
              "      <td>2013</td>\n",
              "      <td>33</td>\n",
              "      <td>330510</td>\n",
              "      <td>NaN</td>\n",
              "      <td>2008-10-31</td>\n",
              "      <td>...</td>\n",
              "      <td>2.0</td>\n",
              "      <td>2.0</td>\n",
              "      <td>2.0</td>\n",
              "      <td>2.0</td>\n",
              "      <td>2.0</td>\n",
              "      <td>2.0</td>\n",
              "      <td>2.0</td>\n",
              "      <td>2.0</td>\n",
              "      <td>NaN</td>\n",
              "      <td>2.0</td>\n",
              "    </tr>\n",
              "    <tr>\n",
              "      <th>2</th>\n",
              "      <td>3</td>\n",
              "      <td>2</td>\n",
              "      <td>201326.0</td>\n",
              "      <td>A509</td>\n",
              "      <td>2013-06-24</td>\n",
              "      <td>2013</td>\n",
              "      <td>33</td>\n",
              "      <td>330350</td>\n",
              "      <td>NaN</td>\n",
              "      <td>2009-04-21</td>\n",
              "      <td>...</td>\n",
              "      <td>1.0</td>\n",
              "      <td>2.0</td>\n",
              "      <td>2.0</td>\n",
              "      <td>2.0</td>\n",
              "      <td>2.0</td>\n",
              "      <td>2.0</td>\n",
              "      <td>2.0</td>\n",
              "      <td>2.0</td>\n",
              "      <td>NaN</td>\n",
              "      <td>2.0</td>\n",
              "    </tr>\n",
              "    <tr>\n",
              "      <th>3</th>\n",
              "      <td>4</td>\n",
              "      <td>2</td>\n",
              "      <td>201315.0</td>\n",
              "      <td>A509</td>\n",
              "      <td>2013-04-08</td>\n",
              "      <td>2013</td>\n",
              "      <td>24</td>\n",
              "      <td>240810</td>\n",
              "      <td>1416.0</td>\n",
              "      <td>2010-04-24</td>\n",
              "      <td>...</td>\n",
              "      <td>2.0</td>\n",
              "      <td>2.0</td>\n",
              "      <td>2.0</td>\n",
              "      <td>2.0</td>\n",
              "      <td>2.0</td>\n",
              "      <td>2.0</td>\n",
              "      <td>2.0</td>\n",
              "      <td>2.0</td>\n",
              "      <td>NaN</td>\n",
              "      <td>2.0</td>\n",
              "    </tr>\n",
              "    <tr>\n",
              "      <th>4</th>\n",
              "      <td>5</td>\n",
              "      <td>2</td>\n",
              "      <td>201323.0</td>\n",
              "      <td>A509</td>\n",
              "      <td>2013-06-06</td>\n",
              "      <td>2013</td>\n",
              "      <td>33</td>\n",
              "      <td>330350</td>\n",
              "      <td>NaN</td>\n",
              "      <td>2010-07-31</td>\n",
              "      <td>...</td>\n",
              "      <td>2.0</td>\n",
              "      <td>2.0</td>\n",
              "      <td>2.0</td>\n",
              "      <td>2.0</td>\n",
              "      <td>2.0</td>\n",
              "      <td>2.0</td>\n",
              "      <td>2.0</td>\n",
              "      <td>2.0</td>\n",
              "      <td>NaN</td>\n",
              "      <td>2.0</td>\n",
              "    </tr>\n",
              "  </tbody>\n",
              "</table>\n",
              "<p>5 rows × 65 columns</p>\n",
              "</div>"
            ],
            "text/plain": [
              "   Unnamed: 0  tp_not   sem_not id_agravo  dt_notific  nu_ano  sg_uf_not  \\\n",
              "0           1       2  201334.0      A509  2013-08-22    2013         42   \n",
              "1           2       2    1307.0      A509  2013-02-15    2013         33   \n",
              "2           3       2  201326.0      A509  2013-06-24    2013         33   \n",
              "3           4       2  201315.0      A509  2013-04-08    2013         24   \n",
              "4           5       2  201323.0      A509  2013-06-06    2013         33   \n",
              "\n",
              "   id_municip  id_regiona     dt_diag  ...  cli_icteri  cli_rinite cli_anemia  \\\n",
              "0      420395      1555.0  2007-12-01  ...         2.0         2.0        2.0   \n",
              "1      330510         NaN  2008-10-31  ...         2.0         2.0        2.0   \n",
              "2      330350         NaN  2009-04-21  ...         1.0         2.0        2.0   \n",
              "3      240810      1416.0  2010-04-24  ...         2.0         2.0        2.0   \n",
              "4      330350         NaN  2010-07-31  ...         2.0         2.0        2.0   \n",
              "\n",
              "   cli_esplen hepato  cli_osteo  lesoes  cli_outro     sin_outr_e cli_pseudo  \n",
              "0         2.0    2.0        2.0     2.0        1.0  ENCEFALOPATIA        2.0  \n",
              "1         2.0    2.0        2.0     2.0        2.0            NaN        2.0  \n",
              "2         2.0    2.0        2.0     2.0        2.0            NaN        2.0  \n",
              "3         2.0    2.0        2.0     2.0        2.0            NaN        2.0  \n",
              "4         2.0    2.0        2.0     2.0        2.0            NaN        2.0  \n",
              "\n",
              "[5 rows x 65 columns]"
            ]
          },
          "execution_count": 13,
          "metadata": {},
          "output_type": "execute_result"
        }
      ],
      "source": [
        "data_cleaned.head()"
      ]
    },
    {
      "cell_type": "code",
      "execution_count": 14,
      "metadata": {
        "colab": {
          "base_uri": "https://localhost:8080/"
        },
        "id": "U2LcjciYn32L",
        "outputId": "8547cc30-cd0e-4a59-af2e-89364139657e"
      },
      "outputs": [
        {
          "data": {
            "text/plain": [
              "(251659, 65)"
            ]
          },
          "execution_count": 14,
          "metadata": {},
          "output_type": "execute_result"
        }
      ],
      "source": [
        "data_cleaned.shape"
      ]
    },
    {
      "cell_type": "code",
      "execution_count": 15,
      "metadata": {
        "id": "qYPA4BAOjg-D"
      },
      "outputs": [],
      "source": [
        "data_cleaned.columns = data_cleaned.columns.str.upper()"
      ]
    },
    {
      "cell_type": "code",
      "execution_count": 16,
      "metadata": {
        "id": "5TLfZM-zjg9h"
      },
      "outputs": [],
      "source": [
        "# Create outcome columns (death from congenital syphilis, miscarriage and stillbirth) based on EVOLUCAO\n",
        "data_cleaned['OBITO_SIFILIS'] = data_cleaned['EVOLUCAO'].apply(lambda x: 1 if x == 2 else 0)\n",
        "data_cleaned['ABORTO'] = data_cleaned['EVOLUCAO'].apply(lambda x: 1 if x == 4 else 0)\n",
        "data_cleaned['NATIMORTO'] = data_cleaned['EVOLUCAO'].apply(lambda x: 1 if x == 5 else 0)"
      ]
    },
    {
      "cell_type": "code",
      "execution_count": 17,
      "metadata": {
        "colab": {
          "base_uri": "https://localhost:8080/"
        },
        "id": "i6fGhcrMZcE4",
        "outputId": "ccdd25b6-ef6d-458f-f8be-cd106f8a05d5"
      },
      "outputs": [
        {
          "data": {
            "text/plain": [
              "(251659, 68)"
            ]
          },
          "execution_count": 17,
          "metadata": {},
          "output_type": "execute_result"
        }
      ],
      "source": [
        "data_cleaned.shape"
      ]
    },
    {
      "cell_type": "markdown",
      "metadata": {
        "id": "oSO7yMudkKUk"
      },
      "source": [
        "# Data cleaning"
      ]
    },
    {
      "cell_type": "code",
      "execution_count": 18,
      "metadata": {
        "colab": {
          "base_uri": "https://localhost:8080/"
        },
        "id": "W2CDRA5liOFE",
        "outputId": "63d97488-ebd1-4df9-d8df-9be3cad72afb"
      },
      "outputs": [
        {
          "name": "stdout",
          "output_type": "stream",
          "text": [
            "Removed columns that begin with 'DT': ['DT_NOTIFIC', 'DT_DIAG', 'DT_OBITO']\n",
            "Remaining columns in the dataset: Index(['UNNAMED: 0', 'TP_NOT', 'SEM_NOT', 'ID_AGRAVO', 'NU_ANO', 'SG_UF_NOT',\n",
            "       'ID_MUNICIP', 'ID_REGIONA', 'SEM_DIAG', 'NU_IDADE_N', 'CS_SEXO',\n",
            "       'CS_GESTANT', 'CS_RACA', 'CS_ESCOL_N', 'SG_UF', 'ID_MN_RESI',\n",
            "       'ID_RG_RESI', 'ID_PAIS', 'ANT_IDADE', 'ANT_RACA', 'ID_OCUPA_N',\n",
            "       'ESCOLMAE', 'ANT_PRE_NA', 'UF_PRE_NAT', 'MUN_PRE_NA', 'ANTSIFIL_N',\n",
            "       'LAB_PARTO', 'LAB_TITU_2', 'LAB_DT3', 'LAB_CONF', 'TRA_ESQUEM',\n",
            "       'TRA_DT', 'ANT_TRATAD', 'ANT_UF_CRI', 'ANT_MUNI_C', 'LABC_SANGU',\n",
            "       'LABC_TIT_1', 'LABC_DT_1', 'LABC_IGG', 'LABC_DT', 'LABC_LIQUO',\n",
            "       'LABC_TIT_2', 'LABC_DT_2', 'LABC_TITUL', 'LABC_EVIDE', 'LABC_LIQ_1',\n",
            "       'TRA_DIAG_T', 'TRA_ESQU_1', 'DS_ESQUEMA', 'EVOLUCAO', 'EVO_DIAG_N',\n",
            "       'TRA_DIAG_C', 'CLI_ICTERI', 'CLI_RINITE', 'CLI_ANEMIA', 'CLI_ESPLEN',\n",
            "       'HEPATO', 'CLI_OSTEO', 'LESOES', 'CLI_OUTRO', 'SIN_OUTR_E',\n",
            "       'CLI_PSEUDO', 'OBITO_SIFILIS', 'ABORTO', 'NATIMORTO'],\n",
            "      dtype='object')\n"
          ]
        }
      ],
      "source": [
        "# Step 1: Remove all columns representing date\n",
        "# Identify columns that begin with 'DT'\n",
        "columns_with_dt = [col for col in data_cleaned.columns if col.startswith('DT')]\n",
        "\n",
        "data_cleaned = data_cleaned.drop(columns=columns_with_dt)\n",
        "\n",
        "print(\"Removed columns that begin with 'DT':\", columns_with_dt)\n",
        "print(\"Remaining columns in the dataset:\", data_cleaned.columns)"
      ]
    },
    {
      "cell_type": "code",
      "execution_count": 19,
      "metadata": {
        "colab": {
          "base_uri": "https://localhost:8080/"
        },
        "id": "FsKAeH99iQKq",
        "outputId": "47b550a6-d60b-4bc3-8e75-7236e2b6c9f7"
      },
      "outputs": [
        {
          "name": "stdout",
          "output_type": "stream",
          "text": [
            "Removed columns that begin with 'LAB': ['LAB_PARTO', 'LAB_TITU_2', 'LAB_DT3', 'LAB_CONF', 'LABC_SANGU', 'LABC_TIT_1', 'LABC_DT_1', 'LABC_IGG', 'LABC_DT', 'LABC_LIQUO', 'LABC_TIT_2', 'LABC_DT_2', 'LABC_TITUL', 'LABC_EVIDE', 'LABC_LIQ_1']\n",
            "Remaining columns in the dataset: Index(['UNNAMED: 0', 'TP_NOT', 'SEM_NOT', 'ID_AGRAVO', 'NU_ANO', 'SG_UF_NOT',\n",
            "       'ID_MUNICIP', 'ID_REGIONA', 'SEM_DIAG', 'NU_IDADE_N', 'CS_SEXO',\n",
            "       'CS_GESTANT', 'CS_RACA', 'CS_ESCOL_N', 'SG_UF', 'ID_MN_RESI',\n",
            "       'ID_RG_RESI', 'ID_PAIS', 'ANT_IDADE', 'ANT_RACA', 'ID_OCUPA_N',\n",
            "       'ESCOLMAE', 'ANT_PRE_NA', 'UF_PRE_NAT', 'MUN_PRE_NA', 'ANTSIFIL_N',\n",
            "       'TRA_ESQUEM', 'TRA_DT', 'ANT_TRATAD', 'ANT_UF_CRI', 'ANT_MUNI_C',\n",
            "       'TRA_DIAG_T', 'TRA_ESQU_1', 'DS_ESQUEMA', 'EVOLUCAO', 'EVO_DIAG_N',\n",
            "       'TRA_DIAG_C', 'CLI_ICTERI', 'CLI_RINITE', 'CLI_ANEMIA', 'CLI_ESPLEN',\n",
            "       'HEPATO', 'CLI_OSTEO', 'LESOES', 'CLI_OUTRO', 'SIN_OUTR_E',\n",
            "       'CLI_PSEUDO', 'OBITO_SIFILIS', 'ABORTO', 'NATIMORTO'],\n",
            "      dtype='object')\n"
          ]
        }
      ],
      "source": [
        "# Step 2: Remove columns representing laboratory data because they will certainly be related to the outcome\n",
        "# Identify columns that begin with 'LAB'\n",
        "columns_with_lab = [col for col in data_cleaned.columns if col.startswith('LAB')]\n",
        "\n",
        "data_cleaned = data_cleaned.drop(columns=columns_with_lab)\n",
        "\n",
        "print(\"Removed columns that begin with 'LAB':\", columns_with_lab)\n",
        "print(\"Remaining columns in the dataset:\", data_cleaned.columns)"
      ]
    },
    {
      "cell_type": "code",
      "execution_count": 20,
      "metadata": {
        "colab": {
          "base_uri": "https://localhost:8080/"
        },
        "id": "4LFE1GAIiTPa",
        "outputId": "5fd5005d-edd0-422f-edc0-33d1327bca38"
      },
      "outputs": [
        {
          "name": "stdout",
          "output_type": "stream",
          "text": [
            "Columns that start with 'ID': ['ID_AGRAVO', 'ID_MUNICIP', 'ID_REGIONA', 'ID_MN_RESI', 'ID_RG_RESI', 'ID_PAIS', 'ID_OCUPA_N']\n",
            "Columns remaining in the dataset after removing columns that start with 'ID':\n",
            "Index(['UNNAMED: 0', 'TP_NOT', 'SEM_NOT', 'NU_ANO', 'SG_UF_NOT', 'SEM_DIAG',\n",
            "       'NU_IDADE_N', 'CS_SEXO', 'CS_GESTANT', 'CS_RACA', 'CS_ESCOL_N', 'SG_UF',\n",
            "       'ANT_IDADE', 'ANT_RACA', 'ESCOLMAE', 'ANT_PRE_NA', 'UF_PRE_NAT',\n",
            "       'MUN_PRE_NA', 'ANTSIFIL_N', 'TRA_ESQUEM', 'TRA_DT', 'ANT_TRATAD',\n",
            "       'ANT_UF_CRI', 'ANT_MUNI_C', 'TRA_DIAG_T', 'TRA_ESQU_1', 'DS_ESQUEMA',\n",
            "       'EVOLUCAO', 'EVO_DIAG_N', 'TRA_DIAG_C', 'CLI_ICTERI', 'CLI_RINITE',\n",
            "       'CLI_ANEMIA', 'CLI_ESPLEN', 'HEPATO', 'CLI_OSTEO', 'LESOES',\n",
            "       'CLI_OUTRO', 'SIN_OUTR_E', 'CLI_PSEUDO', 'OBITO_SIFILIS', 'ABORTO',\n",
            "       'NATIMORTO'],\n",
            "      dtype='object')\n"
          ]
        }
      ],
      "source": [
        "# Step 3: Remove columns that start with 'ID'\n",
        "\n",
        "# Columns that start with \"ID\"\n",
        "id_columns = [col for col in data_cleaned.columns if col.startswith('ID')]\n",
        "print(\"Columns that start with 'ID':\", id_columns)\n",
        "\n",
        "data_cleaned = data_cleaned.drop(columns=id_columns)\n",
        "\n",
        "print(\"Columns remaining in the dataset after removing columns that start with 'ID':\")\n",
        "print(data_cleaned.columns)"
      ]
    },
    {
      "cell_type": "code",
      "execution_count": 21,
      "metadata": {
        "colab": {
          "base_uri": "https://localhost:8080/"
        },
        "id": "5MnkZzzZiYHh",
        "outputId": "a19e1706-493a-49ad-be0e-827b6701c4ef"
      },
      "outputs": [
        {
          "name": "stdout",
          "output_type": "stream",
          "text": [
            "Columns remaining in the dataset after removal:\n",
            "Index(['NU_IDADE_N', 'CS_GESTANT', 'CS_RACA', 'CS_ESCOL_N', 'ANT_IDADE',\n",
            "       'ANT_RACA', 'ESCOLMAE', 'ANT_PRE_NA', 'UF_PRE_NAT', 'MUN_PRE_NA',\n",
            "       'ANTSIFIL_N', 'TRA_ESQUEM', 'ANT_TRATAD', 'TRA_DIAG_T', 'TRA_ESQU_1',\n",
            "       'CLI_ICTERI', 'CLI_RINITE', 'CLI_ANEMIA', 'CLI_ESPLEN', 'HEPATO',\n",
            "       'CLI_OSTEO', 'LESOES', 'CLI_PSEUDO', 'OBITO_SIFILIS', 'ABORTO',\n",
            "       'NATIMORTO'],\n",
            "      dtype='object')\n"
          ]
        }
      ],
      "source": [
        "# Step 4: Remove columns that don't make sense to consider\n",
        "# List of columns to remove\n",
        "columns_to_remove = [\n",
        "'TP_NOT', 'SEM_NOT', 'NU_ANO', 'SG_UF_NOT', 'CS_SEXO', 'SG_UF',\n",
        "'ANT_UF_CRI', 'ANT_MUNI_C', 'EVOLUCAO', 'EVO_DIAG_N', 'CLI_OUTRO', 'ANO',\n",
        "'TRA_DT', 'SEM_DIAG', 'DS_ESQUEMA', 'SIN_OUTR_E', 'UNNAMED: 0', 'TRA_DIAG_C'\n",
        "]\n",
        "\n",
        "data_cleaned = data_cleaned.drop(columns=columns_to_remove, errors='ignore')\n",
        "\n",
        "print(\"Columns remaining in the dataset after removal:\")\n",
        "print(data_cleaned.columns)"
      ]
    },
    {
      "cell_type": "code",
      "execution_count": 22,
      "metadata": {
        "colab": {
          "base_uri": "https://localhost:8080/"
        },
        "id": "DsJvQBL8ibzR",
        "outputId": "eaeddd6c-d206-4233-e97a-75fe45bc48a6"
      },
      "outputs": [
        {
          "name": "stdout",
          "output_type": "stream",
          "text": [
            "Columns remaining in the dataset after removing Step 5:\n",
            "Index(['NU_IDADE_N', 'CS_GESTANT', 'CS_RACA', 'CS_ESCOL_N', 'ANT_IDADE',\n",
            "       'ANT_RACA', 'ESCOLMAE', 'ANT_PRE_NA', 'ANTSIFIL_N', 'TRA_ESQUEM',\n",
            "       'ANT_TRATAD', 'TRA_DIAG_T', 'TRA_ESQU_1', 'CLI_ICTERI', 'CLI_RINITE',\n",
            "       'CLI_ANEMIA', 'CLI_ESPLEN', 'HEPATO', 'CLI_OSTEO', 'LESOES',\n",
            "       'CLI_PSEUDO', 'OBITO_SIFILIS', 'ABORTO', 'NATIMORTO'],\n",
            "      dtype='object')\n"
          ]
        }
      ],
      "source": [
        "# Step 5: Remove the geographic location variables from prenatal care\n",
        "# These variables represent the municipality and state where prenatal care was provided,\n",
        "# and introduce additional complexity that does not directly contribute to the analysis of the\n",
        "# clinical factors associated with congenital syphilis. Conclusions about the impact of geographic location\n",
        "# are difficult to draw without a more in-depth analysis, so we chose\n",
        "# to remove them to focus on variables directly related to the clinical outcome.\n",
        "\n",
        "# List of columns to be removed in Step 5\n",
        "columns_to_remove_step_5 = ['MUN_PRE_NA', 'UF_PRE_NAT']\n",
        "\n",
        "data_cleaned = data_cleaned.drop(columns=columns_to_remove_step_5, errors='ignore')\n",
        "\n",
        "print(\"Columns remaining in the dataset after removing Step 5:\")\n",
        "print(data_cleaned.columns)"
      ]
    },
    {
      "cell_type": "markdown",
      "metadata": {
        "id": "aZN_lqOvkt82"
      },
      "source": [
        "# Data manipulation"
      ]
    },
    {
      "cell_type": "code",
      "execution_count": 30,
      "metadata": {
        "colab": {
          "base_uri": "https://localhost:8080/"
        },
        "id": "1Ku5i5CRinFb",
        "outputId": "0182ca79-b932-4334-fe9c-0fb8997e1205"
      },
      "outputs": [
        {
          "name": "stdout",
          "output_type": "stream",
          "text": [
            "Copy of original categorical variables: ['CS_GESTANT', 'CS_RACA', 'CS_ESCOL_N', 'ANT_RACA', 'ESCOLMAE', 'ANT_PRE_NA', 'ANTSIFIL_N', 'TRA_ESQUEM', 'ANT_TRATAD', 'TRA_DIAG_T', 'TRA_ESQU_1', 'CLI_ICTERI', 'CLI_RINITE', 'CLI_ANEMIA', 'CLI_ESPLEN', 'HEPATO', 'CLI_OSTEO', 'LESOES', 'CLI_PSEUDO']\n",
            "Copy of original numerical variables: ['NU_IDADE_N', 'ANT_IDADE', 'ABORTO', 'NATIMORTO']\n"
          ]
        }
      ],
      "source": [
        "# Separate categorical and numeric variables\n",
        "categorical_features = ['CS_GESTANT', 'CS_RACA', 'CS_ESCOL_N', 'ANT_RACA', 'ESCOLMAE', 'ANT_PRE_NA',\n",
        "                        'ANTSIFIL_N', 'TRA_ESQUEM', 'ANT_TRATAD', 'TRA_DIAG_T', 'TRA_ESQU_1',\n",
        "                        'CLI_ICTERI', 'CLI_RINITE', 'CLI_ANEMIA', 'CLI_ESPLEN','HEPATO',\n",
        "                        'CLI_OSTEO', 'LESOES', 'CLI_PSEUDO']\n",
        "\n",
        "numerical_features = [col for col in data_cleaned.columns if col not in categorical_features + ['OBITO_SIFILIS', 'ABORTION', 'STILLBORN']]\n",
        "\n",
        "# Create copies of the variable lists to avoid modifications to the original (and to be used in another implementation)\n",
        "categorical_features_rm = categorical_features.copy()\n",
        "numerical_features_rm = numerical_features.copy()\n",
        "\n",
        "# Create copies of the variable lists to preserve them\n",
        "original_categorical_features = categorical_features.copy()\n",
        "original_numerical_features = numerical_features.copy()\n",
        "\n",
        "# Check the copies for verification\n",
        "print(\"Copy of original categorical variables:\", original_categorical_features)\n",
        "print(\"Copy of original numerical variables:\", original_numerical_features)"
      ]
    },
    {
      "cell_type": "code",
      "execution_count": 31,
      "metadata": {
        "id": "7KNIe4SRin1f"
      },
      "outputs": [],
      "source": [
        "X = data_cleaned.drop(columns=['OBITO_SIFILIS', 'ABORTO', 'NATIMORTO'])\n",
        "y = data_cleaned['OBITO_SIFILIS'] # Initial target (can be changed to 'ABORTO' or 'NATIMORTO')"
      ]
    },
    {
      "cell_type": "markdown",
      "metadata": {
        "id": "deP9yqWLkY2J"
      },
      "source": [
        "# Balancing"
      ]
    },
    {
      "cell_type": "code",
      "execution_count": 26,
      "metadata": {},
      "outputs": [
        {
          "name": "stdout",
          "output_type": "stream",
          "text": [
            "Collecting imblearn\n",
            "  Downloading imblearn-0.0-py2.py3-none-any.whl.metadata (355 bytes)\n",
            "Collecting imbalanced-learn (from imblearn)\n",
            "  Downloading imbalanced_learn-0.14.0-py3-none-any.whl.metadata (8.8 kB)\n",
            "Requirement already satisfied: numpy<3,>=1.25.2 in c:\\users\\natal\\github\\analise-de-predicao-obito-sifilis-congenita\\.venv\\lib\\site-packages (from imbalanced-learn->imblearn) (2.3.4)\n",
            "Requirement already satisfied: scipy<2,>=1.11.4 in c:\\users\\natal\\github\\analise-de-predicao-obito-sifilis-congenita\\.venv\\lib\\site-packages (from imbalanced-learn->imblearn) (1.16.2)\n",
            "Requirement already satisfied: scikit-learn<2,>=1.4.2 in c:\\users\\natal\\github\\analise-de-predicao-obito-sifilis-congenita\\.venv\\lib\\site-packages (from imbalanced-learn->imblearn) (1.7.2)\n",
            "Requirement already satisfied: joblib<2,>=1.2.0 in c:\\users\\natal\\github\\analise-de-predicao-obito-sifilis-congenita\\.venv\\lib\\site-packages (from imbalanced-learn->imblearn) (1.5.2)\n",
            "Requirement already satisfied: threadpoolctl<4,>=2.0.0 in c:\\users\\natal\\github\\analise-de-predicao-obito-sifilis-congenita\\.venv\\lib\\site-packages (from imbalanced-learn->imblearn) (3.6.0)\n",
            "Downloading imblearn-0.0-py2.py3-none-any.whl (1.9 kB)\n",
            "Downloading imbalanced_learn-0.14.0-py3-none-any.whl (239 kB)\n",
            "Installing collected packages: imbalanced-learn, imblearn\n",
            "\n",
            "   ---------------------------------------- 0/2 [imbalanced-learn]\n",
            "   ---------------------------------------- 0/2 [imbalanced-learn]\n",
            "   ---------------------------------------- 0/2 [imbalanced-learn]\n",
            "   ---------------------------------------- 0/2 [imbalanced-learn]\n",
            "   ---------------------------------------- 0/2 [imbalanced-learn]\n",
            "   ---------------------------------------- 0/2 [imbalanced-learn]\n",
            "   ---------------------------------------- 0/2 [imbalanced-learn]\n",
            "   ---------------------------------------- 0/2 [imbalanced-learn]\n",
            "   ---------------------------------------- 0/2 [imbalanced-learn]\n",
            "   ---------------------------------------- 0/2 [imbalanced-learn]\n",
            "   ---------------------------------------- 0/2 [imbalanced-learn]\n",
            "   ---------------------------------------- 0/2 [imbalanced-learn]\n",
            "   ---------------------------------------- 0/2 [imbalanced-learn]\n",
            "   ---------------------------------------- 0/2 [imbalanced-learn]\n",
            "   ---------------------------------------- 0/2 [imbalanced-learn]\n",
            "   ---------------------------------------- 0/2 [imbalanced-learn]\n",
            "   ---------------------------------------- 0/2 [imbalanced-learn]\n",
            "   ---------------------------------------- 0/2 [imbalanced-learn]\n",
            "   ---------------------------------------- 0/2 [imbalanced-learn]\n",
            "   ---------------------------------------- 2/2 [imblearn]\n",
            "\n",
            "Successfully installed imbalanced-learn-0.14.0 imblearn-0.0\n"
          ]
        },
        {
          "name": "stderr",
          "output_type": "stream",
          "text": [
            "\n",
            "[notice] A new release of pip is available: 25.2 -> 25.3\n",
            "[notice] To update, run: python.exe -m pip install --upgrade pip\n"
          ]
        }
      ],
      "source": [
        "!pip install imblearn"
      ]
    },
    {
      "cell_type": "code",
      "execution_count": 27,
      "metadata": {
        "id": "QvAkO08_irHg"
      },
      "outputs": [],
      "source": [
        "from imblearn.under_sampling import RandomUnderSampler"
      ]
    },
    {
      "cell_type": "code",
      "execution_count": 28,
      "metadata": {
        "id": "iQsYsTeOitgJ"
      },
      "outputs": [],
      "source": [
        "# Apply down centering\n",
        "undersampler = RandomUnderSampler(random_state=42)\n",
        "X_resampled, y_resampled = undersampler.fit_resample(X, y)"
      ]
    },
    {
      "cell_type": "code",
      "execution_count": 32,
      "metadata": {
        "id": "6TVBjMwoiwtC"
      },
      "outputs": [],
      "source": [
        "# Convert categorical variables to strings after undersampling\n",
        "# Since the numbers in these categorical variables are just labels and have no ordinal meaning, converting to strings is the correct approach.\n",
        "for col in categorical_features:\n",
        "    X_resampled[col] = X_resampled[col].astype(str)"
      ]
    },
    {
      "cell_type": "markdown",
      "metadata": {
        "id": "MQrXLmQIkUnQ"
      },
      "source": [
        "# Train e Test"
      ]
    },
    {
      "cell_type": "code",
      "execution_count": 33,
      "metadata": {
        "id": "puqokBQTi0ZT"
      },
      "outputs": [],
      "source": [
        "# Split balanced data into training and testing\n",
        "X_train, X_test, y_train, y_test = train_test_split(X_resampled, y_resampled, test_size=0.3, random_state=42)"
      ]
    },
    {
      "cell_type": "markdown",
      "metadata": {
        "id": "BI7zXYNWkymX"
      },
      "source": [
        "# Variables"
      ]
    },
    {
      "cell_type": "code",
      "execution_count": 34,
      "metadata": {
        "colab": {
          "base_uri": "https://localhost:8080/"
        },
        "id": "8ptlHU2xi203",
        "outputId": "bffc528a-4618-4f89-f37e-68ffebd87a1a"
      },
      "outputs": [
        {
          "name": "stdout",
          "output_type": "stream",
          "text": [
            "0: NU_IDADE_N\n",
            "1: CS_GESTANT\n",
            "2: CS_RACA\n",
            "3: CS_ESCOL_N\n",
            "4: ANT_IDADE\n",
            "5: ANT_RACA\n",
            "6: ESCOLMAE\n",
            "7: ANT_PRE_NA\n",
            "8: ANTSIFIL_N\n",
            "9: TRA_ESQUEM\n",
            "10: ANT_TRATAD\n",
            "11: TRA_DIAG_T\n",
            "12: TRA_ESQU_1\n",
            "13: CLI_ICTERI\n",
            "14: CLI_RINITE\n",
            "15: CLI_ANEMIA\n",
            "16: CLI_ESPLEN\n",
            "17: HEPATO\n",
            "18: CLI_OSTEO\n",
            "19: LESOES\n",
            "20: CLI_PSEUDO\n"
          ]
        }
      ],
      "source": [
        "for idx, col in enumerate(X_train.columns):\n",
        "    print(f\"{idx}: {col}\")"
      ]
    },
    {
      "cell_type": "markdown",
      "metadata": {},
      "source": [
        "# TRADUÇÃO PARA O INGLÊS ATÉ AQUI:"
      ]
    },
    {
      "cell_type": "markdown",
      "metadata": {
        "id": "-k2OhFRtK3u3"
      },
      "source": [
        "0: NU_IDADE_N\n",
        "\n",
        "1: CS_GESTANT\n",
        "\n",
        "2: CS_RACA\n",
        "\n",
        "3: CS_ESCOL_N\n"
      ]
    },
    {
      "cell_type": "markdown",
      "metadata": {
        "id": "CT6HrqZC9cUX"
      },
      "source": [
        "**Descrição das variáveis**"
      ]
    },
    {
      "cell_type": "markdown",
      "metadata": {
        "id": "6Bemk0WD9gml"
      },
      "source": [
        "ANT_IDADE - Idade da mãe, por ocasião da notificação do\n",
        "caso. Permite digitação."
      ]
    },
    {
      "cell_type": "markdown",
      "metadata": {
        "id": "n5i2GHfw_pYF"
      },
      "source": [
        "ANT_RACA - 1 – branca\n",
        "2 – preta\n",
        "3 – amarela\n",
        "4 – parda\n",
        "5 – indígena\n",
        "9 – ignorado"
      ]
    },
    {
      "cell_type": "markdown",
      "metadata": {
        "id": "Wn2sF_XJ_yR5"
      },
      "source": [
        "ESCOLMAE - Escolaridade da mãe no momento da\n",
        "notificação do caso"
      ]
    },
    {
      "cell_type": "markdown",
      "metadata": {
        "id": "U7tBS6U1_6mo"
      },
      "source": [
        "ANT_PRE_NA - Informa se a mãe realizou pré-natal durante a\n",
        "gravidez do caso notificado."
      ]
    },
    {
      "cell_type": "markdown",
      "metadata": {
        "id": "V17-NFpKAAa9"
      },
      "source": [
        "ANTSIFIL_N - 1. durante o pré-natal\n",
        "2. no momento do\n",
        "parto/curetagem\n",
        "3. após o parto\n",
        "4. não realizado\n",
        "9. ignorado."
      ]
    },
    {
      "cell_type": "markdown",
      "metadata": {
        "id": "JSNjKkNUHyW0"
      },
      "source": [
        "TRA_ESQUEM - 1. adequado\n",
        "2. inadequado\n",
        "3. não realizado\n",
        "9. Ignorado"
      ]
    },
    {
      "cell_type": "markdown",
      "metadata": {
        "id": "DXPKcGEJG4fv"
      },
      "source": [
        "ANT_TRATAD - Informa sobre tratamento para sífilis do(s)\n",
        "parceiro(s) da mãe do caso notificado."
      ]
    },
    {
      "cell_type": "markdown",
      "metadata": {
        "id": "ed8WfXYeHEB9"
      },
      "source": [
        "TRA_DIAG_T - Diagnóstico de alterações ósseas\n",
        "observáveis ao Rx, tais como osteocondrite,\n",
        "osteoartrite, periostite (diafisite produtiva),\n",
        "rarefação óssea, tíbia em “lâmina de sabre”."
      ]
    },
    {
      "cell_type": "markdown",
      "metadata": {
        "id": "8sdZOatvAh3w"
      },
      "source": [
        "TRA_ESQU_1 - Esquema terapêutico utilizado para o\n",
        "tratamento da sífilis congênita do caso\n",
        "notificado, ao nível hospitalar ou\n",
        "ambulatorial. A Penicilina Cristalina é\n",
        "administrada por via intravenosa, e as\n",
        "Penicilinas Procaína e Benzatina\n",
        "administradas por via intramuscular."
      ]
    },
    {
      "cell_type": "markdown",
      "metadata": {
        "id": "ArcNCuyGHPS0"
      },
      "source": [
        "CLI_ICTERI - Presença de icterícia ao exame físico da\n",
        "criança."
      ]
    },
    {
      "cell_type": "markdown",
      "metadata": {
        "id": "LEn3cOptIjXK"
      },
      "source": [
        "CLI_RINITE - Presença de rinite muco-sanguinolenta\n",
        "observada ao exame físico da criança."
      ]
    },
    {
      "cell_type": "markdown",
      "metadata": {
        "id": "quQ0AFYfILSK"
      },
      "source": [
        "CLI_ANEMIA - Presença de anemia ao exame físico da\n",
        "criança."
      ]
    },
    {
      "cell_type": "markdown",
      "metadata": {
        "id": "t-JT4liQIQVA"
      },
      "source": [
        "CLI_ESPLEN - Presença de baço aumentado de tamanho\n",
        "ao exame físico da criança."
      ]
    },
    {
      "cell_type": "markdown",
      "metadata": {
        "id": "PnzGwrXtIoOo"
      },
      "source": [
        "HEPATO - Presença de fígado aumentado de tamanho\n",
        "ao exame físico da criança."
      ]
    },
    {
      "cell_type": "markdown",
      "metadata": {
        "id": "t6UDG8kFIbUu"
      },
      "source": [
        "CLI_OSTEO - Presença de lesões osteoarticulares\n",
        "dolorosas à manipulação da criança."
      ]
    },
    {
      "cell_type": "markdown",
      "metadata": {
        "id": "fpbk1M9SIsU-"
      },
      "source": [
        "LESOES - Presença de: lesões bolhosas e/ou\n",
        "descamativas; lesões papulares ou\n",
        "manchas generalizadas de pele, incluindo\n",
        "palma das mãos e planta dos pés; fissuras\n",
        "ao redor dos orifícios naturais da criança."
      ]
    },
    {
      "cell_type": "markdown",
      "metadata": {
        "id": "me35LZTFI2mF"
      },
      "source": [
        "CLI_PSEUDO - Presença de “paralisia” antálgica,\n",
        "observada principalmente à manipulação da\n",
        "criança, como nas trocas de fraldas."
      ]
    },
    {
      "cell_type": "markdown",
      "metadata": {
        "id": "turiMQnjlTjV"
      },
      "source": [
        "# Catboost"
      ]
    },
    {
      "cell_type": "code",
      "execution_count": null,
      "metadata": {
        "id": "LS25OI_NZ-v6"
      },
      "outputs": [],
      "source": [
        "# Atualizar os índices das variáveis categóricas para os dados balanceados\n",
        "cat_features_indices = [X_train.columns.get_loc(col) for col in categorical_features]"
      ]
    },
    {
      "cell_type": "code",
      "execution_count": null,
      "metadata": {
        "colab": {
          "base_uri": "https://localhost:8080/"
        },
        "id": "_636t6YtaCzC",
        "outputId": "a35ac1f9-ce8b-47c1-c388-f9ea96396f64"
      },
      "outputs": [
        {
          "data": {
            "text/plain": [
              "<catboost.core.CatBoostClassifier at 0x7eb8c26cc740>"
            ]
          },
          "execution_count": 22,
          "metadata": {},
          "output_type": "execute_result"
        }
      ],
      "source": [
        "# Treinamento do modelo CatBoost\n",
        "catboost_model = CatBoostClassifier(iterations=100, random_seed=42, verbose=0)\n",
        "catboost_model.fit(X_train, y_train, cat_features=cat_features_indices)"
      ]
    },
    {
      "cell_type": "code",
      "execution_count": null,
      "metadata": {
        "colab": {
          "base_uri": "https://localhost:8080/"
        },
        "id": "FUQ_cIRjlbcR",
        "outputId": "31ac759c-b25d-49d6-8737-bdfdb60afe11"
      },
      "outputs": [
        {
          "name": "stdout",
          "output_type": "stream",
          "text": [
            "Métricas do CatBoost para OBITO_SIFILIS:\n",
            "              precision    recall  f1-score   support\n",
            "\n",
            "           0       0.77      0.83      0.80      1110\n",
            "           1       0.81      0.74      0.77      1085\n",
            "\n",
            "    accuracy                           0.79      2195\n",
            "   macro avg       0.79      0.79      0.79      2195\n",
            "weighted avg       0.79      0.79      0.79      2195\n",
            "\n"
          ]
        }
      ],
      "source": [
        "# Previsões e métricas para o CatBoost\n",
        "y_pred_catboost = catboost_model.predict(X_test)\n",
        "print(\"Métricas do CatBoost para OBITO_SIFILIS:\")\n",
        "print(classification_report(y_test, y_pred_catboost))"
      ]
    },
    {
      "cell_type": "code",
      "execution_count": null,
      "metadata": {
        "colab": {
          "base_uri": "https://localhost:8080/",
          "height": 564
        },
        "id": "EAzhIPFMOkoV",
        "outputId": "b11fc7f2-1bba-4b25-acfa-8ec674c39dbf"
      },
      "outputs": [
        {
          "data": {
            "image/png": "[encoded data removed]",
            "text/plain": [
              "<Figure size 800x600 with 2 Axes>"
            ]
          },
          "metadata": {},
          "output_type": "display_data"
        }
      ],
      "source": [
        "from sklearn.metrics import confusion_matrix\n",
        "import seaborn as sns\n",
        "import matplotlib.pyplot as plt\n",
        "\n",
        "# Matriz de Confusão para o CatBoost\n",
        "cm_catboost = confusion_matrix(y_test, y_pred_catboost)\n",
        "\n",
        "plt.figure(figsize=(8, 6))\n",
        "sns.heatmap(cm_catboost, annot=True, fmt='d', cmap='Blues', xticklabels=['Não Óbito', 'Óbito'], yticklabels=['Não Óbito', 'Óbito'])\n",
        "plt.xlabel('Previsto')\n",
        "plt.ylabel('Real')\n",
        "plt.title('Matriz de Confusão - CatBoost (OBITO_SIFILIS)')\n",
        "plt.show()"
      ]
    },
    {
      "cell_type": "code",
      "execution_count": null,
      "metadata": {
        "colab": {
          "base_uri": "https://localhost:8080/"
        },
        "id": "IMIjg4cpaKYU",
        "outputId": "7a6908da-1269-450f-94a4-8009872a6fbc"
      },
      "outputs": [
        {
          "name": "stdout",
          "output_type": "stream",
          "text": [
            "    Feature Id  Importances\n",
            "0   TRA_ESQU_1    15.529707\n",
            "1       HEPATO    14.409918\n",
            "2   TRA_DIAG_T     8.849787\n",
            "3    ANT_IDADE     7.695117\n",
            "4       LESOES     7.150910\n",
            "5   NU_IDADE_N     6.153236\n",
            "6   CLI_ANEMIA     5.795210\n",
            "7   ANTSIFIL_N     4.990804\n",
            "8   ANT_PRE_NA     4.435123\n",
            "9   CS_GESTANT     4.421040\n",
            "10  TRA_ESQUEM     4.013049\n",
            "11    ESCOLMAE     2.676095\n",
            "12  ANT_TRATAD     2.674249\n",
            "13  CLI_ESPLEN     2.432704\n",
            "14  CLI_RINITE     2.055615\n",
            "15    ANT_RACA     1.883204\n",
            "16   CLI_OSTEO     1.735326\n",
            "17  CLI_PSEUDO     1.181978\n",
            "18     CS_RACA     1.057138\n",
            "19  CLI_ICTERI     0.553409\n",
            "20  CS_ESCOL_N     0.306381\n"
          ]
        }
      ],
      "source": [
        "# Obter as importâncias das features no CatBoost\n",
        "feature_importances = catboost_model.get_feature_importance(prettified=True)\n",
        "print(feature_importances)"
      ]
    },
    {
      "cell_type": "code",
      "execution_count": null,
      "metadata": {
        "id": "FscDyyrePpUM"
      },
      "outputs": [],
      "source": [
        "###### gráfico shap\n",
        "###### descrição das variáveis\n",
        "###### svm e xgboost"
      ]
    },
    {
      "cell_type": "code",
      "execution_count": null,
      "metadata": {
        "colab": {
          "base_uri": "https://localhost:8080/",
          "height": 1000
        },
        "id": "iV9ia8tQOpxy",
        "outputId": "88e76870-1930-413f-d536-9387e115d712"
      },
      "outputs": [
        {
          "data": {
            "image/png": "[encoded data removed]",
            "text/plain": [
              "<Figure size 800x950 with 2 Axes>"
            ]
          },
          "metadata": {},
          "output_type": "display_data"
        },
        {
          "data": {
            "image/png": "[encoded data removed]",
            "text/plain": [
              "<Figure size 800x950 with 1 Axes>"
            ]
          },
          "metadata": {},
          "output_type": "display_data"
        }
      ],
      "source": [
        "import shap\n",
        "import matplotlib.pyplot as plt\n",
        "\n",
        "# Crie o objeto explainer baseado no modelo\n",
        "explainer = shap.TreeExplainer(catboost_model)\n",
        "\n",
        "# Calcule os valores SHAP (para o conjunto de dados usado no treino, por exemplo X_train)\n",
        "shap_values = explainer.shap_values(X_train)\n",
        "\n",
        "# Gráfico resumo (mais comum)\n",
        "shap.summary_plot(shap_values, X_train)\n",
        "\n",
        "# Se quiser também o gráfico de barras das importâncias médias (versão SHAP)\n",
        "shap.summary_plot(shap_values, X_train, plot_type=\"bar\")\n"
      ]
    },
    {
      "cell_type": "markdown",
      "metadata": {
        "id": "euXLzgx8lhh2"
      },
      "source": [
        "# Random Forest"
      ]
    },
    {
      "cell_type": "code",
      "execution_count": null,
      "metadata": {
        "id": "l1hQtspUehod"
      },
      "outputs": [],
      "source": [
        "# 2. Random Forest Model com OneHotEncoder\n",
        "\n",
        "for col in categorical_features_rm:\n",
        "    data_cleaned[col] = data_cleaned[col].astype(str)\n",
        "\n",
        "from sklearn.preprocessing import OneHotEncoder\n",
        "\n",
        "# OneHotEncoder para variáveis categóricas\n",
        "encoder = OneHotEncoder(drop='first', sparse_output=False, handle_unknown='ignore')\n",
        "X_categorical_encoded = encoder.fit_transform(data_cleaned[categorical_features_rm])\n",
        "\n",
        "import pandas as pd\n",
        "X_categorical_encoded = pd.DataFrame(X_categorical_encoded, columns=encoder.get_feature_names_out(categorical_features_rm))\n",
        "X_categorical_encoded.index = data_cleaned.index  # Alinhar o índice com o conjunto original"
      ]
    },
    {
      "cell_type": "code",
      "execution_count": null,
      "metadata": {
        "id": "TCKbppmbek-j"
      },
      "outputs": [],
      "source": [
        "# Concatenar variáveis numéricas e categóricas codificadas\n",
        "X_full = pd.concat([data_cleaned[numerical_features_rm], X_categorical_encoded], axis=1)\n",
        "y = data_cleaned['OBITO_SIFILIS']  # Modifique conforme o alvo desejado"
      ]
    },
    {
      "cell_type": "code",
      "execution_count": null,
      "metadata": {
        "id": "Pcu6qNBWenTB"
      },
      "outputs": [],
      "source": [
        "undersampler = RandomUnderSampler(random_state=42)\n",
        "X_resampled, y_resampled = undersampler.fit_resample(X_full, y)"
      ]
    },
    {
      "cell_type": "code",
      "execution_count": null,
      "metadata": {
        "id": "q04K9p3rmAvm"
      },
      "outputs": [],
      "source": [
        "X_train, X_test, y_train, y_test = train_test_split(X_resampled, y_resampled, test_size=0.3, random_state=42)"
      ]
    },
    {
      "cell_type": "code",
      "execution_count": null,
      "metadata": {
        "colab": {
          "base_uri": "https://localhost:8080/",
          "height": 80
        },
        "id": "LXV-1GZcmEJt",
        "outputId": "73fa1468-361c-4471-bbd5-452607823fc1"
      },
      "outputs": [
        {
          "data": {
            "text/html": [
              "<style>#sk-container-id-1 {\n",
              "  /* Definition of color scheme common for light and dark mode */\n",
              "  --sklearn-color-text: #000;\n",
              "  --sklearn-color-text-muted: #666;\n",
              "  --sklearn-color-line: gray;\n",
              "  /* Definition of color scheme for unfitted estimators */\n",
              "  --sklearn-color-unfitted-level-0: #fff5e6;\n",
              "  --sklearn-color-unfitted-level-1: #f6e4d2;\n",
              "  --sklearn-color-unfitted-level-2: #ffe0b3;\n",
              "  --sklearn-color-unfitted-level-3: chocolate;\n",
              "  /* Definition of color scheme for fitted estimators */\n",
              "  --sklearn-color-fitted-level-0: #f0f8ff;\n",
              "  --sklearn-color-fitted-level-1: #d4ebff;\n",
              "  --sklearn-color-fitted-level-2: #b3dbfd;\n",
              "  --sklearn-color-fitted-level-3: cornflowerblue;\n",
              "\n",
              "  /* Specific color for light theme */\n",
              "  --sklearn-color-text-on-default-background: var(--sg-text-color, var(--theme-code-foreground, var(--jp-content-font-color1, black)));\n",
              "  --sklearn-color-background: var(--sg-background-color, var(--theme-background, var(--jp-layout-color0, white)));\n",
              "  --sklearn-color-border-box: var(--sg-text-color, var(--theme-code-foreground, var(--jp-content-font-color1, black)));\n",
              "  --sklearn-color-icon: #696969;\n",
              "\n",
              "  @media (prefers-color-scheme: dark) {\n",
              "    /* Redefinition of color scheme for dark theme */\n",
              "    --sklearn-color-text-on-default-background: var(--sg-text-color, var(--theme-code-foreground, var(--jp-content-font-color1, white)));\n",
              "    --sklearn-color-background: var(--sg-background-color, var(--theme-background, var(--jp-layout-color0, #111)));\n",
              "    --sklearn-color-border-box: var(--sg-text-color, var(--theme-code-foreground, var(--jp-content-font-color1, white)));\n",
              "    --sklearn-color-icon: #878787;\n",
              "  }\n",
              "}\n",
              "\n",
              "#sk-container-id-1 {\n",
              "  color: var(--sklearn-color-text);\n",
              "}\n",
              "\n",
              "#sk-container-id-1 pre {\n",
              "  padding: 0;\n",
              "}\n",
              "\n",
              "#sk-container-id-1 input.sk-hidden--visually {\n",
              "  border: 0;\n",
              "  clip: rect(1px 1px 1px 1px);\n",
              "  clip: rect(1px, 1px, 1px, 1px);\n",
              "  height: 1px;\n",
              "  margin: -1px;\n",
              "  overflow: hidden;\n",
              "  padding: 0;\n",
              "  position: absolute;\n",
              "  width: 1px;\n",
              "}\n",
              "\n",
              "#sk-container-id-1 div.sk-dashed-wrapped {\n",
              "  border: 1px dashed var(--sklearn-color-line);\n",
              "  margin: 0 0.4em 0.5em 0.4em;\n",
              "  box-sizing: border-box;\n",
              "  padding-bottom: 0.4em;\n",
              "  background-color: var(--sklearn-color-background);\n",
              "}\n",
              "\n",
              "#sk-container-id-1 div.sk-container {\n",
              "  /* jupyter's `normalize.less` sets `[hidden] { display: none; }`\n",
              "     but bootstrap.min.css set `[hidden] { display: none !important; }`\n",
              "     so we also need the `!important` here to be able to override the\n",
              "     default hidden behavior on the sphinx rendered scikit-learn.org.\n",
              "     See: https://github.com/scikit-learn/scikit-learn/issues/21755 */\n",
              "  display: inline-block !important;\n",
              "  position: relative;\n",
              "}\n",
              "\n",
              "#sk-container-id-1 div.sk-text-repr-fallback {\n",
              "  display: none;\n",
              "}\n",
              "\n",
              "div.sk-parallel-item,\n",
              "div.sk-serial,\n",
              "div.sk-item {\n",
              "  /* draw centered vertical line to link estimators */\n",
              "  background-image: linear-gradient(var(--sklearn-color-text-on-default-background), var(--sklearn-color-text-on-default-background));\n",
              "  background-size: 2px 100%;\n",
              "  background-repeat: no-repeat;\n",
              "  background-position: center center;\n",
              "}\n",
              "\n",
              "/* Parallel-specific style estimator block */\n",
              "\n",
              "#sk-container-id-1 div.sk-parallel-item::after {\n",
              "  content: \"\";\n",
              "  width: 100%;\n",
              "  border-bottom: 2px solid var(--sklearn-color-text-on-default-background);\n",
              "  flex-grow: 1;\n",
              "}\n",
              "\n",
              "#sk-container-id-1 div.sk-parallel {\n",
              "  display: flex;\n",
              "  align-items: stretch;\n",
              "  justify-content: center;\n",
              "  background-color: var(--sklearn-color-background);\n",
              "  position: relative;\n",
              "}\n",
              "\n",
              "#sk-container-id-1 div.sk-parallel-item {\n",
              "  display: flex;\n",
              "  flex-direction: column;\n",
              "}\n",
              "\n",
              "#sk-container-id-1 div.sk-parallel-item:first-child::after {\n",
              "  align-self: flex-end;\n",
              "  width: 50%;\n",
              "}\n",
              "\n",
              "#sk-container-id-1 div.sk-parallel-item:last-child::after {\n",
              "  align-self: flex-start;\n",
              "  width: 50%;\n",
              "}\n",
              "\n",
              "#sk-container-id-1 div.sk-parallel-item:only-child::after {\n",
              "  width: 0;\n",
              "}\n",
              "\n",
              "/* Serial-specific style estimator block */\n",
              "\n",
              "#sk-container-id-1 div.sk-serial {\n",
              "  display: flex;\n",
              "  flex-direction: column;\n",
              "  align-items: center;\n",
              "  background-color: var(--sklearn-color-background);\n",
              "  padding-right: 1em;\n",
              "  padding-left: 1em;\n",
              "}\n",
              "\n",
              "\n",
              "/* Toggleable style: style used for estimator/Pipeline/ColumnTransformer box that is\n",
              "clickable and can be expanded/collapsed.\n",
              "- Pipeline and ColumnTransformer use this feature and define the default style\n",
              "- Estimators will overwrite some part of the style using the `sk-estimator` class\n",
              "*/\n",
              "\n",
              "/* Pipeline and ColumnTransformer style (default) */\n",
              "\n",
              "#sk-container-id-1 div.sk-toggleable {\n",
              "  /* Default theme specific background. It is overwritten whether we have a\n",
              "  specific estimator or a Pipeline/ColumnTransformer */\n",
              "  background-color: var(--sklearn-color-background);\n",
              "}\n",
              "\n",
              "/* Toggleable label */\n",
              "#sk-container-id-1 label.sk-toggleable__label {\n",
              "  cursor: pointer;\n",
              "  display: flex;\n",
              "  width: 100%;\n",
              "  margin-bottom: 0;\n",
              "  padding: 0.5em;\n",
              "  box-sizing: border-box;\n",
              "  text-align: center;\n",
              "  align-items: start;\n",
              "  justify-content: space-between;\n",
              "  gap: 0.5em;\n",
              "}\n",
              "\n",
              "#sk-container-id-1 label.sk-toggleable__label .caption {\n",
              "  font-size: 0.6rem;\n",
              "  font-weight: lighter;\n",
              "  color: var(--sklearn-color-text-muted);\n",
              "}\n",
              "\n",
              "#sk-container-id-1 label.sk-toggleable__label-arrow:before {\n",
              "  /* Arrow on the left of the label */\n",
              "  content: \"▸\";\n",
              "  float: left;\n",
              "  margin-right: 0.25em;\n",
              "  color: var(--sklearn-color-icon);\n",
              "}\n",
              "\n",
              "#sk-container-id-1 label.sk-toggleable__label-arrow:hover:before {\n",
              "  color: var(--sklearn-color-text);\n",
              "}\n",
              "\n",
              "/* Toggleable content - dropdown */\n",
              "\n",
              "#sk-container-id-1 div.sk-toggleable__content {\n",
              "  max-height: 0;\n",
              "  max-width: 0;\n",
              "  overflow: hidden;\n",
              "  text-align: left;\n",
              "  /* unfitted */\n",
              "  background-color: var(--sklearn-color-unfitted-level-0);\n",
              "}\n",
              "\n",
              "#sk-container-id-1 div.sk-toggleable__content.fitted {\n",
              "  /* fitted */\n",
              "  background-color: var(--sklearn-color-fitted-level-0);\n",
              "}\n",
              "\n",
              "#sk-container-id-1 div.sk-toggleable__content pre {\n",
              "  margin: 0.2em;\n",
              "  border-radius: 0.25em;\n",
              "  color: var(--sklearn-color-text);\n",
              "  /* unfitted */\n",
              "  background-color: var(--sklearn-color-unfitted-level-0);\n",
              "}\n",
              "\n",
              "#sk-container-id-1 div.sk-toggleable__content.fitted pre {\n",
              "  /* unfitted */\n",
              "  background-color: var(--sklearn-color-fitted-level-0);\n",
              "}\n",
              "\n",
              "#sk-container-id-1 input.sk-toggleable__control:checked~div.sk-toggleable__content {\n",
              "  /* Expand drop-down */\n",
              "  max-height: 200px;\n",
              "  max-width: 100%;\n",
              "  overflow: auto;\n",
              "}\n",
              "\n",
              "#sk-container-id-1 input.sk-toggleable__control:checked~label.sk-toggleable__label-arrow:before {\n",
              "  content: \"▾\";\n",
              "}\n",
              "\n",
              "/* Pipeline/ColumnTransformer-specific style */\n",
              "\n",
              "#sk-container-id-1 div.sk-label input.sk-toggleable__control:checked~label.sk-toggleable__label {\n",
              "  color: var(--sklearn-color-text);\n",
              "  background-color: var(--sklearn-color-unfitted-level-2);\n",
              "}\n",
              "\n",
              "#sk-container-id-1 div.sk-label.fitted input.sk-toggleable__control:checked~label.sk-toggleable__label {\n",
              "  background-color: var(--sklearn-color-fitted-level-2);\n",
              "}\n",
              "\n",
              "/* Estimator-specific style */\n",
              "\n",
              "/* Colorize estimator box */\n",
              "#sk-container-id-1 div.sk-estimator input.sk-toggleable__control:checked~label.sk-toggleable__label {\n",
              "  /* unfitted */\n",
              "  background-color: var(--sklearn-color-unfitted-level-2);\n",
              "}\n",
              "\n",
              "#sk-container-id-1 div.sk-estimator.fitted input.sk-toggleable__control:checked~label.sk-toggleable__label {\n",
              "  /* fitted */\n",
              "  background-color: var(--sklearn-color-fitted-level-2);\n",
              "}\n",
              "\n",
              "#sk-container-id-1 div.sk-label label.sk-toggleable__label,\n",
              "#sk-container-id-1 div.sk-label label {\n",
              "  /* The background is the default theme color */\n",
              "  color: var(--sklearn-color-text-on-default-background);\n",
              "}\n",
              "\n",
              "/* On hover, darken the color of the background */\n",
              "#sk-container-id-1 div.sk-label:hover label.sk-toggleable__label {\n",
              "  color: var(--sklearn-color-text);\n",
              "  background-color: var(--sklearn-color-unfitted-level-2);\n",
              "}\n",
              "\n",
              "/* Label box, darken color on hover, fitted */\n",
              "#sk-container-id-1 div.sk-label.fitted:hover label.sk-toggleable__label.fitted {\n",
              "  color: var(--sklearn-color-text);\n",
              "  background-color: var(--sklearn-color-fitted-level-2);\n",
              "}\n",
              "\n",
              "/* Estimator label */\n",
              "\n",
              "#sk-container-id-1 div.sk-label label {\n",
              "  font-family: monospace;\n",
              "  font-weight: bold;\n",
              "  display: inline-block;\n",
              "  line-height: 1.2em;\n",
              "}\n",
              "\n",
              "#sk-container-id-1 div.sk-label-container {\n",
              "  text-align: center;\n",
              "}\n",
              "\n",
              "/* Estimator-specific */\n",
              "#sk-container-id-1 div.sk-estimator {\n",
              "  font-family: monospace;\n",
              "  border: 1px dotted var(--sklearn-color-border-box);\n",
              "  border-radius: 0.25em;\n",
              "  box-sizing: border-box;\n",
              "  margin-bottom: 0.5em;\n",
              "  /* unfitted */\n",
              "  background-color: var(--sklearn-color-unfitted-level-0);\n",
              "}\n",
              "\n",
              "#sk-container-id-1 div.sk-estimator.fitted {\n",
              "  /* fitted */\n",
              "  background-color: var(--sklearn-color-fitted-level-0);\n",
              "}\n",
              "\n",
              "/* on hover */\n",
              "#sk-container-id-1 div.sk-estimator:hover {\n",
              "  /* unfitted */\n",
              "  background-color: var(--sklearn-color-unfitted-level-2);\n",
              "}\n",
              "\n",
              "#sk-container-id-1 div.sk-estimator.fitted:hover {\n",
              "  /* fitted */\n",
              "  background-color: var(--sklearn-color-fitted-level-2);\n",
              "}\n",
              "\n",
              "/* Specification for estimator info (e.g. \"i\" and \"?\") */\n",
              "\n",
              "/* Common style for \"i\" and \"?\" */\n",
              "\n",
              ".sk-estimator-doc-link,\n",
              "a:link.sk-estimator-doc-link,\n",
              "a:visited.sk-estimator-doc-link {\n",
              "  float: right;\n",
              "  font-size: smaller;\n",
              "  line-height: 1em;\n",
              "  font-family: monospace;\n",
              "  background-color: var(--sklearn-color-background);\n",
              "  border-radius: 1em;\n",
              "  height: 1em;\n",
              "  width: 1em;\n",
              "  text-decoration: none !important;\n",
              "  margin-left: 0.5em;\n",
              "  text-align: center;\n",
              "  /* unfitted */\n",
              "  border: var(--sklearn-color-unfitted-level-1) 1pt solid;\n",
              "  color: var(--sklearn-color-unfitted-level-1);\n",
              "}\n",
              "\n",
              ".sk-estimator-doc-link.fitted,\n",
              "a:link.sk-estimator-doc-link.fitted,\n",
              "a:visited.sk-estimator-doc-link.fitted {\n",
              "  /* fitted */\n",
              "  border: var(--sklearn-color-fitted-level-1) 1pt solid;\n",
              "  color: var(--sklearn-color-fitted-level-1);\n",
              "}\n",
              "\n",
              "/* On hover */\n",
              "div.sk-estimator:hover .sk-estimator-doc-link:hover,\n",
              ".sk-estimator-doc-link:hover,\n",
              "div.sk-label-container:hover .sk-estimator-doc-link:hover,\n",
              ".sk-estimator-doc-link:hover {\n",
              "  /* unfitted */\n",
              "  background-color: var(--sklearn-color-unfitted-level-3);\n",
              "  color: var(--sklearn-color-background);\n",
              "  text-decoration: none;\n",
              "}\n",
              "\n",
              "div.sk-estimator.fitted:hover .sk-estimator-doc-link.fitted:hover,\n",
              ".sk-estimator-doc-link.fitted:hover,\n",
              "div.sk-label-container:hover .sk-estimator-doc-link.fitted:hover,\n",
              ".sk-estimator-doc-link.fitted:hover {\n",
              "  /* fitted */\n",
              "  background-color: var(--sklearn-color-fitted-level-3);\n",
              "  color: var(--sklearn-color-background);\n",
              "  text-decoration: none;\n",
              "}\n",
              "\n",
              "/* Span, style for the box shown on hovering the info icon */\n",
              ".sk-estimator-doc-link span {\n",
              "  display: none;\n",
              "  z-index: 9999;\n",
              "  position: relative;\n",
              "  font-weight: normal;\n",
              "  right: .2ex;\n",
              "  padding: .5ex;\n",
              "  margin: .5ex;\n",
              "  width: min-content;\n",
              "  min-width: 20ex;\n",
              "  max-width: 50ex;\n",
              "  color: var(--sklearn-color-text);\n",
              "  box-shadow: 2pt 2pt 4pt #999;\n",
              "  /* unfitted */\n",
              "  background: var(--sklearn-color-unfitted-level-0);\n",
              "  border: .5pt solid var(--sklearn-color-unfitted-level-3);\n",
              "}\n",
              "\n",
              ".sk-estimator-doc-link.fitted span {\n",
              "  /* fitted */\n",
              "  background: var(--sklearn-color-fitted-level-0);\n",
              "  border: var(--sklearn-color-fitted-level-3);\n",
              "}\n",
              "\n",
              ".sk-estimator-doc-link:hover span {\n",
              "  display: block;\n",
              "}\n",
              "\n",
              "/* \"?\"-specific style due to the `<a>` HTML tag */\n",
              "\n",
              "#sk-container-id-1 a.estimator_doc_link {\n",
              "  float: right;\n",
              "  font-size: 1rem;\n",
              "  line-height: 1em;\n",
              "  font-family: monospace;\n",
              "  background-color: var(--sklearn-color-background);\n",
              "  border-radius: 1rem;\n",
              "  height: 1rem;\n",
              "  width: 1rem;\n",
              "  text-decoration: none;\n",
              "  /* unfitted */\n",
              "  color: var(--sklearn-color-unfitted-level-1);\n",
              "  border: var(--sklearn-color-unfitted-level-1) 1pt solid;\n",
              "}\n",
              "\n",
              "#sk-container-id-1 a.estimator_doc_link.fitted {\n",
              "  /* fitted */\n",
              "  border: var(--sklearn-color-fitted-level-1) 1pt solid;\n",
              "  color: var(--sklearn-color-fitted-level-1);\n",
              "}\n",
              "\n",
              "/* On hover */\n",
              "#sk-container-id-1 a.estimator_doc_link:hover {\n",
              "  /* unfitted */\n",
              "  background-color: var(--sklearn-color-unfitted-level-3);\n",
              "  color: var(--sklearn-color-background);\n",
              "  text-decoration: none;\n",
              "}\n",
              "\n",
              "#sk-container-id-1 a.estimator_doc_link.fitted:hover {\n",
              "  /* fitted */\n",
              "  background-color: var(--sklearn-color-fitted-level-3);\n",
              "}\n",
              "</style><div id=\"sk-container-id-1\" class=\"sk-top-container\"><div class=\"sk-text-repr-fallback\"><pre>RandomForestClassifier(random_state=42)</pre><b>In a Jupyter environment, please rerun this cell to show the HTML representation or trust the notebook. <br />On GitHub, the HTML representation is unable to render, please try loading this page with nbviewer.org.</b></div><div class=\"sk-container\" hidden><div class=\"sk-item\"><div class=\"sk-estimator fitted sk-toggleable\"><input class=\"sk-toggleable__control sk-hidden--visually\" id=\"sk-estimator-id-1\" type=\"checkbox\" checked><label for=\"sk-estimator-id-1\" class=\"sk-toggleable__label fitted sk-toggleable__label-arrow\"><div><div>RandomForestClassifier</div></div><div><a class=\"sk-estimator-doc-link fitted\" rel=\"noreferrer\" target=\"_blank\" href=\"https://scikit-learn.org/1.6/modules/generated/sklearn.ensemble.RandomForestClassifier.html\">?<span>Documentation for RandomForestClassifier</span></a><span class=\"sk-estimator-doc-link fitted\">i<span>Fitted</span></span></div></label><div class=\"sk-toggleable__content fitted\"><pre>RandomForestClassifier(random_state=42)</pre></div> </div></div></div></div>"
            ],
            "text/plain": [
              "RandomForestClassifier(random_state=42)"
            ]
          },
          "execution_count": 38,
          "metadata": {},
          "output_type": "execute_result"
        }
      ],
      "source": [
        "rf_model = RandomForestClassifier(n_estimators=100, random_state=42)\n",
        "rf_model.fit(X_train, y_train)"
      ]
    },
    {
      "cell_type": "code",
      "execution_count": null,
      "metadata": {
        "colab": {
          "base_uri": "https://localhost:8080/"
        },
        "id": "1o8CNRcsmIQ7",
        "outputId": "52a91b47-89e5-4a4c-856b-cc442f0f08c0"
      },
      "outputs": [
        {
          "name": "stdout",
          "output_type": "stream",
          "text": [
            "Métricas do Random Forest para OBITO_SIFILIS:\n",
            "              precision    recall  f1-score   support\n",
            "\n",
            "           0       0.77      0.79      0.78      1084\n",
            "           1       0.77      0.75      0.76      1018\n",
            "\n",
            "    accuracy                           0.77      2102\n",
            "   macro avg       0.77      0.77      0.77      2102\n",
            "weighted avg       0.77      0.77      0.77      2102\n",
            "\n"
          ]
        }
      ],
      "source": [
        "from sklearn.metrics import classification_report\n",
        "\n",
        "y_pred_rf = rf_model.predict(X_test)\n",
        "print(\"Métricas do Random Forest para OBITO_SIFILIS:\")\n",
        "print(classification_report(y_test, y_pred_rf))"
      ]
    },
    {
      "cell_type": "code",
      "execution_count": null,
      "metadata": {
        "colab": {
          "base_uri": "https://localhost:8080/",
          "height": 564
        },
        "id": "EomoBTZ4PCOJ",
        "outputId": "2a0e3c2d-b875-4bfd-e08f-71f6db2f8693"
      },
      "outputs": [
        {
          "data": {
            "image/png": "[encoded data removed]",
            "text/plain": [
              "<Figure size 800x600 with 2 Axes>"
            ]
          },
          "metadata": {},
          "output_type": "display_data"
        }
      ],
      "source": [
        "from sklearn.metrics import confusion_matrix\n",
        "\n",
        "# Matriz de Confusão para o random forest\n",
        "cm_rf = confusion_matrix(y_test, y_pred_rf)\n",
        "\n",
        "plt.figure(figsize=(8, 6))\n",
        "sns.heatmap(cm_rf, annot=True, fmt='d', cmap='Blues', xticklabels=['Não Óbito', 'Óbito'], yticklabels=['Não Óbito', 'Óbito'])\n",
        "plt.xlabel('Previsto')\n",
        "plt.ylabel('Real')\n",
        "plt.title('Matriz de Confusão - Random Forest (OBITO_SIFILIS)')\n",
        "plt.show()"
      ]
    },
    {
      "cell_type": "code",
      "execution_count": null,
      "metadata": {
        "colab": {
          "base_uri": "https://localhost:8080/"
        },
        "id": "eBYBiVXlmOoh",
        "outputId": "22c7f232-5641-4b69-ca62-3b110a077074"
      },
      "outputs": [
        {
          "name": "stdout",
          "output_type": "stream",
          "text": [
            "Importância das features no modelo Random Forest:\n",
            "           Feature  Importance\n",
            "1        ANT_IDADE    0.133226\n",
            "64    TRA_ESQU_1_5    0.057558\n",
            "0       NU_IDADE_N    0.047259\n",
            "58  TRA_DIAG_T_3.0    0.038976\n",
            "82      HEPATO_2.0    0.038277\n",
            "..             ...         ...\n",
            "25  CS_ESCOL_N_3.0    0.000000\n",
            "24  CS_ESCOL_N_2.0    0.000000\n",
            "20       CS_RACA__    0.000000\n",
            "3   CS_GESTANT_3.0    0.000000\n",
            "60  TRA_DIAG_T_nan    0.000000\n",
            "\n",
            "[98 rows x 2 columns]\n"
          ]
        }
      ],
      "source": [
        "# Obter as importâncias das features no Random Forest\n",
        "feature_importances_rf = pd.DataFrame({\n",
        "    'Feature': X_full.columns,\n",
        "    'Importance': rf_model.feature_importances_\n",
        "}).sort_values(by='Importance', ascending=False)\n",
        "\n",
        "# Exibe as importâncias no mesmo formato que o CatBoost (DataFrame ordenado)\n",
        "print(\"Importância das features no modelo Random Forest:\")\n",
        "print(feature_importances_rf)"
      ]
    },
    {
      "cell_type": "markdown",
      "metadata": {
        "id": "MYJhJtqUNn7Y"
      },
      "source": [
        "SVM"
      ]
    },
    {
      "cell_type": "code",
      "execution_count": null,
      "metadata": {
        "colab": {
          "base_uri": "https://localhost:8080/"
        },
        "id": "MlqOp4fpN_of",
        "outputId": "376b1304-3452-4a42-f18c-0f579ac89109"
      },
      "outputs": [
        {
          "name": "stdout",
          "output_type": "stream",
          "text": [
            "Acurácia: 0.48525214081826834\n",
            "\n",
            "Matriz de Confusão:\n",
            " [[  25 1059]\n",
            " [  23  995]]\n",
            "\n",
            "Relatório de Classificação:\n",
            "               precision    recall  f1-score   support\n",
            "\n",
            "           0       0.52      0.02      0.04      1084\n",
            "           1       0.48      0.98      0.65      1018\n",
            "\n",
            "    accuracy                           0.49      2102\n",
            "   macro avg       0.50      0.50      0.35      2102\n",
            "weighted avg       0.50      0.49      0.34      2102\n",
            "\n"
          ]
        }
      ],
      "source": [
        "# Importar bibliotecas\n",
        "from sklearn.model_selection import train_test_split\n",
        "from sklearn.svm import SVC\n",
        "from sklearn.metrics import accuracy_score, confusion_matrix, classification_report\n",
        "from sklearn.impute import SimpleImputer\n",
        "import numpy as np\n",
        "\n",
        "# Divisão dos dados\n",
        "X_train, X_test, y_train, y_test = train_test_split(\n",
        "    X_resampled, y_resampled, test_size=0.3, random_state=42\n",
        ")\n",
        "\n",
        "# Imputar valores ausentes com a média nos dados de treino\n",
        "imputer = SimpleImputer(missing_values=np.nan, strategy='mean')\n",
        "X_train_imputed = imputer.fit_transform(X_train)\n",
        "X_test_imputed = imputer.transform(X_test)\n",
        "\n",
        "# Criação e treino do modelo SVM\n",
        "# Use os dados imputados para treinar o modelo\n",
        "svm_model = SVC(kernel='rbf', C=1.0, gamma='scale', random_state=42)\n",
        "svm_model.fit(X_train_imputed, y_train)\n",
        "\n",
        "# Previsões\n",
        "# Use os dados imputados para fazer previsões\n",
        "y_pred = svm_model.predict(X_test_imputed)\n",
        "\n",
        "# Avaliação do modelo\n",
        "print(\"Acurácia:\", accuracy_score(y_test, y_pred))\n",
        "print(\"\\nMatriz de Confusão:\\n\", confusion_matrix(y_test, y_pred))\n",
        "print(\"\\nRelatório de Classificação:\\n\", classification_report(y_test, y_pred))"
      ]
    },
    {
      "cell_type": "markdown",
      "metadata": {
        "id": "rOHBjaiyO7Ku"
      },
      "source": [
        "Com a padronização das escalas"
      ]
    },
    {
      "cell_type": "code",
      "execution_count": null,
      "metadata": {
        "colab": {
          "base_uri": "https://localhost:8080/"
        },
        "id": "TCQ3PwL7OsOh",
        "outputId": "e253828e-8d7e-44ec-d50c-ffbb26549759"
      },
      "outputs": [
        {
          "name": "stdout",
          "output_type": "stream",
          "text": [
            "Acurácia: 0.7578496669838249\n",
            "\n",
            "Matriz de Confusão:\n",
            " [[855 229]\n",
            " [280 738]]\n",
            "\n",
            "Relatório de Classificação:\n",
            "               precision    recall  f1-score   support\n",
            "\n",
            "           0       0.75      0.79      0.77      1084\n",
            "           1       0.76      0.72      0.74      1018\n",
            "\n",
            "    accuracy                           0.76      2102\n",
            "   macro avg       0.76      0.76      0.76      2102\n",
            "weighted avg       0.76      0.76      0.76      2102\n",
            "\n"
          ]
        }
      ],
      "source": [
        "from sklearn.preprocessing import StandardScaler\n",
        "from sklearn.pipeline import make_pipeline\n",
        "from sklearn.impute import SimpleImputer\n",
        "import numpy as np\n",
        "\n",
        "svm_model = make_pipeline(\n",
        "    SimpleImputer(missing_values=np.nan, strategy='mean'), # Impute missing values\n",
        "    StandardScaler(),\n",
        "    SVC(kernel='rbf', C=1.0, gamma='scale', random_state=42)\n",
        ")\n",
        "svm_model.fit(X_train, y_train)\n",
        "\n",
        "# Previsões\n",
        "y_pred = svm_model.predict(X_test)\n",
        "\n",
        "# Avaliação do modelo\n",
        "print(\"Acurácia:\", accuracy_score(y_test, y_pred))\n",
        "print(\"\\nMatriz de Confusão:\\n\", confusion_matrix(y_test, y_pred))\n",
        "print(\"\\nRelatório de Classificação:\\n\", classification_report(y_test, y_pred))"
      ]
    },
    {
      "cell_type": "code",
      "execution_count": null,
      "metadata": {
        "colab": {
          "background_save": true,
          "base_uri": "https://localhost:8080/",
          "referenced_widgets": [
            "5c7226a6c48849d2a72ca3963af7bdc6"
          ]
        },
        "id": "X71AQgP8Twix",
        "outputId": "6d71d3c3-504b-421a-8614-abad69d69ff6"
      },
      "outputs": [
        {
          "name": "stdout",
          "output_type": "stream",
          "text": [
            "Acurácia: 0.7578496669838249\n",
            "\n",
            "Matriz de Confusão:\n",
            " [[855 229]\n",
            " [280 738]]\n",
            "\n",
            "Relatório de Classificação:\n",
            "               precision    recall  f1-score   support\n",
            "\n",
            "           0       0.75      0.79      0.77      1084\n",
            "           1       0.76      0.72      0.74      1018\n",
            "\n",
            "    accuracy                           0.76      2102\n",
            "   macro avg       0.76      0.76      0.76      2102\n",
            "weighted avg       0.76      0.76      0.76      2102\n",
            "\n"
          ]
        },
        {
          "data": {
            "application/vnd.jupyter.widget-view+json": {
              "model_id": "5c7226a6c48849d2a72ca3963af7bdc6",
              "version_major": 2,
              "version_minor": 0
            },
            "text/plain": [
              "  0%|          | 0/100 [00:00<?, ?it/s]"
            ]
          },
          "metadata": {},
          "output_type": "display_data"
        }
      ],
      "source": [
        "import shap\n",
        "import matplotlib.pyplot as plt\n",
        "import numpy as np\n",
        "from sklearn.preprocessing import StandardScaler\n",
        "from sklearn.pipeline import make_pipeline\n",
        "from sklearn.impute import SimpleImputer\n",
        "from sklearn.svm import SVC\n",
        "from sklearn.metrics import accuracy_score, confusion_matrix, classification_report\n",
        "\n",
        "# --- Modelo SVM com imputação e padronização ---\n",
        "svm_model = make_pipeline(\n",
        "    SimpleImputer(missing_values=np.nan, strategy='mean'),\n",
        "    StandardScaler(),\n",
        "    SVC(kernel='rbf', C=1.0, gamma='scale', random_state=42, probability=True)  # ativa probabilidade p/ SHAP\n",
        ")\n",
        "svm_model.fit(X_train, y_train)\n",
        "\n",
        "# --- Avaliação ---\n",
        "y_pred = svm_model.predict(X_test)\n",
        "print(\"Acurácia:\", accuracy_score(y_test, y_pred))\n",
        "print(\"\\nMatriz de Confusão:\\n\", confusion_matrix(y_test, y_pred))\n",
        "print(\"\\nRelatório de Classificação:\\n\", classification_report(y_test, y_pred))\n",
        "\n",
        "# --- SHAP analysis ---\n",
        "# Extrair o modelo final (SVC)\n",
        "svc = svm_model.named_steps['svc']\n",
        "\n",
        "# Preparar os dados já imputados e escalados\n",
        "X_train_proc = svm_model.named_steps['standardscaler'].transform(\n",
        "    svm_model.named_steps['simpleimputer'].transform(X_train)\n",
        ")\n",
        "X_test_proc = svm_model.named_steps['standardscaler'].transform(\n",
        "    svm_model.named_steps['simpleimputer'].transform(X_test)\n",
        ")\n",
        "\n",
        "# Criar o explicador SHAP\n",
        "explainer = shap.KernelExplainer(svc.predict_proba, shap.sample(X_train_proc, 100))  # usa amostra de 100 p/ velocidade\n",
        "shap_values = explainer.shap_values(shap.sample(X_test_proc, 100))  # amostra do teste p/ visualização\n",
        "\n",
        "# --- Gráfico de importância SHAP ---\n",
        "plt.title(\"Importância das variáveis - SHAP (SVM)\")\n",
        "shap.summary_plot(shap_values, shap.sample(X_test_proc, 100), feature_names=X_resampled.columns)\n"
      ]
    },
    {
      "cell_type": "markdown",
      "metadata": {
        "id": "gZw5huLcNqOf"
      },
      "source": [
        "XGBoost"
      ]
    },
    {
      "cell_type": "code",
      "execution_count": null,
      "metadata": {
        "colab": {
          "base_uri": "https://localhost:8080/"
        },
        "id": "dl1w3UbxOlON",
        "outputId": "45ef0331-a5e4-4ca0-d908-19d60abe8d1c"
      },
      "outputs": [
        {
          "name": "stderr",
          "output_type": "stream",
          "text": [
            "/usr/local/lib/python3.12/dist-packages/xgboost/training.py:199: UserWarning: [12:41:48] WARNING: /workspace/src/learner.cc:790: \n",
            "Parameters: { \"use_label_encoder\" } are not used.\n",
            "\n",
            "  bst.update(dtrain, iteration=i, fobj=obj)\n"
          ]
        },
        {
          "name": "stdout",
          "output_type": "stream",
          "text": [
            "Acurácia: 0.7783063748810657\n",
            "\n",
            "Matriz de Confusão:\n",
            " [[873 211]\n",
            " [255 763]]\n",
            "\n",
            "Relatório de Classificação:\n",
            "               precision    recall  f1-score   support\n",
            "\n",
            "           0       0.77      0.81      0.79      1084\n",
            "           1       0.78      0.75      0.77      1018\n",
            "\n",
            "    accuracy                           0.78      2102\n",
            "   macro avg       0.78      0.78      0.78      2102\n",
            "weighted avg       0.78      0.78      0.78      2102\n",
            "\n"
          ]
        }
      ],
      "source": [
        "# Importar bibliotecas\n",
        "from sklearn.model_selection import train_test_split\n",
        "from sklearn.preprocessing import StandardScaler\n",
        "from sklearn.pipeline import make_pipeline\n",
        "from sklearn.metrics import accuracy_score, confusion_matrix, classification_report\n",
        "from xgboost import XGBClassifier\n",
        "\n",
        "# Divisão dos dados\n",
        "X_train, X_test, y_train, y_test = train_test_split(\n",
        "    X_resampled, y_resampled, test_size=0.3, random_state=42\n",
        ")\n",
        "\n",
        "# Criação do modelo XGBoost dentro de um pipeline (incluindo padronização por consistência)\n",
        "xgb_model = make_pipeline(\n",
        "    StandardScaler(),  # opcional — não prejudica, mas nem sempre é necessário\n",
        "    XGBClassifier(\n",
        "        n_estimators=200,        # número de árvores\n",
        "        learning_rate=0.1,       # taxa de aprendizado\n",
        "        max_depth=3,             # profundidade máxima das árvores\n",
        "        subsample=0.8,           # fração de amostras por árvore\n",
        "        colsample_bytree=0.8,    # fração de colunas por árvore\n",
        "        random_state=42,\n",
        "        use_label_encoder=False, # evita warnings de versões antigas\n",
        "        eval_metric='logloss'    # métrica de perda padrão\n",
        "    )\n",
        ")\n",
        "\n",
        "# Treinamento\n",
        "xgb_model.fit(X_train, y_train)\n",
        "\n",
        "# Previsões\n",
        "y_pred = xgb_model.predict(X_test)\n",
        "\n",
        "# Avaliação do modelo\n",
        "print(\"Acurácia:\", accuracy_score(y_test, y_pred))\n",
        "print(\"\\nMatriz de Confusão:\\n\", confusion_matrix(y_test, y_pred))\n",
        "print(\"\\nRelatório de Classificação:\\n\", classification_report(y_test, y_pred))\n"
      ]
    },
    {
      "cell_type": "markdown",
      "metadata": {
        "id": "QVc8Xl5UPaMk"
      },
      "source": [
        "Com gridsearch"
      ]
    },
    {
      "cell_type": "code",
      "execution_count": null,
      "metadata": {
        "colab": {
          "base_uri": "https://localhost:8080/"
        },
        "id": "0M5hxHKdPZud",
        "outputId": "d84b9fd7-8774-4cb7-96e9-754e769e5262"
      },
      "outputs": [
        {
          "name": "stdout",
          "output_type": "stream",
          "text": [
            "Fitting 5 folds for each of 108 candidates, totalling 540 fits\n"
          ]
        },
        {
          "name": "stderr",
          "output_type": "stream",
          "text": [
            "/usr/local/lib/python3.12/dist-packages/xgboost/training.py:199: UserWarning: [12:48:13] WARNING: /workspace/src/learner.cc:790: \n",
            "Parameters: { \"use_label_encoder\" } are not used.\n",
            "\n",
            "  bst.update(dtrain, iteration=i, fobj=obj)\n"
          ]
        },
        {
          "name": "stdout",
          "output_type": "stream",
          "text": [
            "Melhores parâmetros encontrados:\n",
            "{'xgbclassifier__colsample_bytree': 0.8, 'xgbclassifier__learning_rate': 0.2, 'xgbclassifier__max_depth': 3, 'xgbclassifier__n_estimators': 100, 'xgbclassifier__subsample': 1.0}\n",
            "\n",
            "Acurácia no conjunto de teste: 0.7759276879162702\n",
            "\n",
            "Matriz de Confusão:\n",
            " [[867 217]\n",
            " [254 764]]\n",
            "\n",
            "Relatório de Classificação:\n",
            "               precision    recall  f1-score   support\n",
            "\n",
            "           0       0.77      0.80      0.79      1084\n",
            "           1       0.78      0.75      0.76      1018\n",
            "\n",
            "    accuracy                           0.78      2102\n",
            "   macro avg       0.78      0.78      0.78      2102\n",
            "weighted avg       0.78      0.78      0.78      2102\n",
            "\n"
          ]
        }
      ],
      "source": [
        "# Importar bibliotecas\n",
        "from sklearn.model_selection import train_test_split, GridSearchCV\n",
        "from sklearn.preprocessing import StandardScaler\n",
        "from sklearn.pipeline import make_pipeline\n",
        "from sklearn.metrics import accuracy_score, confusion_matrix, classification_report\n",
        "from xgboost import XGBClassifier\n",
        "\n",
        "# Divisão dos dados\n",
        "X_train, X_test, y_train, y_test = train_test_split(\n",
        "    X_resampled, y_resampled, test_size=0.3, random_state=42\n",
        ")\n",
        "\n",
        "# Pipeline com padronização + XGBoost\n",
        "pipeline = make_pipeline(\n",
        "    StandardScaler(),\n",
        "    XGBClassifier(\n",
        "        use_label_encoder=False,\n",
        "        eval_metric='logloss',\n",
        "        random_state=42\n",
        "    )\n",
        ")\n",
        "\n",
        "# Grade de hiperparâmetros para busca\n",
        "param_grid = {\n",
        "    'xgbclassifier__n_estimators': [100, 200, 300],\n",
        "    'xgbclassifier__learning_rate': [0.01, 0.1, 0.2],\n",
        "    'xgbclassifier__max_depth': [3, 5, 7],\n",
        "    'xgbclassifier__subsample': [0.8, 1.0],\n",
        "    'xgbclassifier__colsample_bytree': [0.8, 1.0]\n",
        "}\n",
        "\n",
        "# Configuração do GridSearchCV\n",
        "grid_search = GridSearchCV(\n",
        "    estimator=pipeline,\n",
        "    param_grid=param_grid,\n",
        "    scoring='accuracy',\n",
        "    cv=5,\n",
        "    n_jobs=-1,\n",
        "    verbose=2\n",
        ")\n",
        "\n",
        "# Execução da busca\n",
        "grid_search.fit(X_train, y_train)\n",
        "\n",
        "# Exibir melhores parâmetros\n",
        "print(\"Melhores parâmetros encontrados:\")\n",
        "print(grid_search.best_params_)\n",
        "\n",
        "# Treinar modelo final com os melhores parâmetros\n",
        "best_model = grid_search.best_estimator_\n",
        "y_pred = best_model.predict(X_test)\n",
        "\n",
        "# Avaliação do modelo otimizado\n",
        "print(\"\\nAcurácia no conjunto de teste:\", accuracy_score(y_test, y_pred))\n",
        "print(\"\\nMatriz de Confusão:\\n\", confusion_matrix(y_test, y_pred))\n",
        "print(\"\\nRelatório de Classificação:\\n\", classification_report(y_test, y_pred))\n"
      ]
    },
    {
      "cell_type": "code",
      "execution_count": null,
      "metadata": {
        "colab": {
          "base_uri": "https://localhost:8080/",
          "height": 840
        },
        "id": "kRSaq-ICRLSG",
        "outputId": "8894ecb6-cdbb-4b9d-c02f-7960ff77044a"
      },
      "outputs": [
        {
          "name": "stdout",
          "output_type": "stream",
          "text": [
            "          Variável  Importância\n",
            "82      HEPATO_2.0     0.152177\n",
            "64    TRA_ESQU_1_5     0.112572\n",
            "78  CLI_ESPLEN_2.0     0.086393\n",
            "73  CLI_RINITE_nan     0.084402\n",
            "57  TRA_DIAG_T_2.0     0.056019\n",
            "74  CLI_ANEMIA_2.0     0.039444\n",
            "58  TRA_DIAG_T_3.0     0.038085\n",
            "70  CLI_RINITE_2.0     0.032479\n",
            "90      LESOES_2.0     0.028889\n",
            "94  CLI_PSEUDO_2.0     0.025463\n",
            "69  CLI_ICTERI_nan     0.019141\n",
            "6   CS_GESTANT_6.0     0.015704\n",
            "86   CLI_OSTEO_2.0     0.015647\n",
            "61    TRA_ESQU_1_2     0.014759\n",
            "88   CLI_OSTEO_9.0     0.013970\n"
          ]
        },
        {
          "data": {
            "image/png": "[encoded data removed]",
            "text/plain": [
              "<Figure size 1000x600 with 1 Axes>"
            ]
          },
          "metadata": {},
          "output_type": "display_data"
        }
      ],
      "source": [
        "import pandas as pd\n",
        "import matplotlib.pyplot as plt\n",
        "from xgboost import XGBClassifier\n",
        "\n",
        "# Extrair modelo interno\n",
        "xgb_final = best_model.named_steps['xgbclassifier']\n",
        "\n",
        "# Obter importâncias e nomes originais\n",
        "importances = xgb_final.feature_importances_\n",
        "feature_names = X_resampled.columns\n",
        "\n",
        "# Criar dataframe ordenado\n",
        "importance_df = pd.DataFrame({\n",
        "    'Variável': feature_names,\n",
        "    'Importância': importances\n",
        "}).sort_values(by='Importância', ascending=False)\n",
        "\n",
        "# Exibir tabela\n",
        "print(importance_df.head(15))\n",
        "\n",
        "# Plotar gráfico com nomes reais\n",
        "plt.figure(figsize=(10, 6))\n",
        "plt.barh(importance_df['Variável'].head(10), importance_df['Importância'].head(10))\n",
        "plt.gca().invert_yaxis()\n",
        "plt.title('Importância das Variáveis (XGBoost)', fontsize=14)\n",
        "plt.xlabel('Importância')\n",
        "plt.ylabel('Variável')\n",
        "plt.tight_layout()\n",
        "plt.show()\n"
      ]
    }
  ],
  "metadata": {
    "colab": {
      "provenance": []
    },
    "kernelspec": {
      "display_name": ".venv",
      "language": "python",
      "name": "python3"
    },
    "language_info": {
      "codemirror_mode": {
        "name": "ipython",
        "version": 3
      },
      "file_extension": ".py",
      "mimetype": "text/x-python",
      "name": "python",
      "nbconvert_exporter": "python",
      "pygments_lexer": "ipython3",
      "version": "3.13.9"
    }
  },
  "nbformat": 4,
  "nbformat_minor": 0
}
